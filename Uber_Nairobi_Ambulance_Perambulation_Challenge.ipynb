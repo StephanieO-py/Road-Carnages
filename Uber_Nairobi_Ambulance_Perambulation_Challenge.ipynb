{
  "nbformat": 4,
  "nbformat_minor": 0,
  "metadata": {
    "colab": {
      "name": "Uber_Nairobi_Ambulance_Perambulation_Challenge.ipynb",
      "provenance": [],
      "collapsed_sections": [],
      "authorship_tag": "ABX9TyM+YXMP0sPOs7rTg3BQ1PzE",
      "include_colab_link": true
    },
    "kernelspec": {
      "name": "python3",
      "display_name": "Python 3"
    }
  },
  "cells": [
    {
      "cell_type": "markdown",
      "metadata": {
        "id": "view-in-github",
        "colab_type": "text"
      },
      "source": [
        "<a href=\"https://colab.research.google.com/github/StephanieO-py/Road-Carnages/blob/main/Uber_Nairobi_Ambulance_Perambulation_Challenge.ipynb\" target=\"_parent\"><img src=\"https://colab.research.google.com/assets/colab-badge.svg\" alt=\"Open In Colab\"/></a>"
      ]
    },
    {
      "cell_type": "markdown",
      "metadata": {
        "id": "E-Ii2zorxVGg"
      },
      "source": [
        "## PROBLEM STATEMENT\n",
        "\n",
        "The lack of immediate responses from medical teams in cases of post-crash emergencies is seemingly increasing the rate of morbidity from road carnages in Nairobi, robbing us of our children and youth who are the pillars of our future.\n",
        "\n",
        "Seeing as every second counts, the task is to optmize the response time of ambulances by strategically positioning the responders while putting into consideration the layout of the city and the heavy traffic patterns especially during peak hours.\n",
        "\n",
        "The data that is being mainly being put to use is crashes that occured between 2018 to June 2019, supplimented by data from Uber Movement, road survey data and weather patterns to identify patterns of risk across the city.\n",
        "\n",
        "The goal is to be able to use what I've been able to usde my findings to strategically and virtually place 6 emergency responders in the city and moving them throughout the day and ultimately minimising the distance travelled when responding to crashes during the test period."
      ]
    },
    {
      "cell_type": "markdown",
      "metadata": {
        "id": "T-KuWzj1x20d"
      },
      "source": [
        "### Reading the data"
      ]
    },
    {
      "cell_type": "code",
      "metadata": {
        "id": "Wbo1CbIJxbVP",
        "colab": {
          "base_uri": "https://localhost:8080/"
        },
        "outputId": "3cb73cc8-0d35-4c31-b10d-8b7fbe89d018"
      },
      "source": [
        "# importing the necessary libraries\n",
        "\n",
        "import pandas as pd # allows us to read our files and organize them in tabular form\n",
        "import numpy as np # numpy allows us to work with multi dimensional arrays\n",
        "import matplotlib.pyplot as plt# matplotlib - a 2D library used to plot numpy computations\n",
        "plt.style.use('ggplot')\n",
        "import scipy\n",
        "# scipy-a python ecosystem used for mathematics, machine learning \n",
        "import seaborn as sns\n",
        "# seaborn-a python visualization based on matplotlib, helps in drawing attractive statistical graphics\n",
        "%matplotlib inline\n",
        "# for visualization \n",
        "import sklearn\n",
        "# sklearn-used for machine learning, \n",
        "import statsmodels.api as sm\n",
        "# statsmodel-used to run regression"
      ],
      "execution_count": null,
      "outputs": [
        {
          "output_type": "stream",
          "text": [
            "/usr/local/lib/python3.6/dist-packages/statsmodels/tools/_testing.py:19: FutureWarning: pandas.util.testing is deprecated. Use the functions in the public API at pandas.testing instead.\n",
            "  import pandas.util.testing as tm\n"
          ],
          "name": "stderr"
        }
      ]
    },
    {
      "cell_type": "code",
      "metadata": {
        "colab": {
          "base_uri": "https://localhost:8080/",
          "height": 436
        },
        "id": "tFB2KSjsx9EP",
        "outputId": "93cc2fc5-e3d9-46f7-e640-dd4924fc5331"
      },
      "source": [
        "# loading the dataset\n",
        "traindf = pd.read_csv('/Train.csv')\n",
        "print(traindf.shape)\n",
        "traindf"
      ],
      "execution_count": null,
      "outputs": [
        {
          "output_type": "stream",
          "text": [
            "(6318, 4)\n"
          ],
          "name": "stdout"
        },
        {
          "output_type": "execute_result",
          "data": {
            "text/html": [
              "<div>\n",
              "<style scoped>\n",
              "    .dataframe tbody tr th:only-of-type {\n",
              "        vertical-align: middle;\n",
              "    }\n",
              "\n",
              "    .dataframe tbody tr th {\n",
              "        vertical-align: top;\n",
              "    }\n",
              "\n",
              "    .dataframe thead th {\n",
              "        text-align: right;\n",
              "    }\n",
              "</style>\n",
              "<table border=\"1\" class=\"dataframe\">\n",
              "  <thead>\n",
              "    <tr style=\"text-align: right;\">\n",
              "      <th></th>\n",
              "      <th>uid</th>\n",
              "      <th>datetime</th>\n",
              "      <th>latitude</th>\n",
              "      <th>longitude</th>\n",
              "    </tr>\n",
              "  </thead>\n",
              "  <tbody>\n",
              "    <tr>\n",
              "      <th>0</th>\n",
              "      <td>1</td>\n",
              "      <td>2018-01-01 00:25:46</td>\n",
              "      <td>-1.188850</td>\n",
              "      <td>36.931382</td>\n",
              "    </tr>\n",
              "    <tr>\n",
              "      <th>1</th>\n",
              "      <td>2</td>\n",
              "      <td>2018-01-01 02:02:39</td>\n",
              "      <td>-0.662939</td>\n",
              "      <td>37.208730</td>\n",
              "    </tr>\n",
              "    <tr>\n",
              "      <th>2</th>\n",
              "      <td>3</td>\n",
              "      <td>2018-01-01 02:31:49</td>\n",
              "      <td>-0.662939</td>\n",
              "      <td>37.208730</td>\n",
              "    </tr>\n",
              "    <tr>\n",
              "      <th>3</th>\n",
              "      <td>4</td>\n",
              "      <td>2018-01-01 03:04:01</td>\n",
              "      <td>-1.288087</td>\n",
              "      <td>36.826583</td>\n",
              "    </tr>\n",
              "    <tr>\n",
              "      <th>4</th>\n",
              "      <td>5</td>\n",
              "      <td>2018-01-01 03:58:49</td>\n",
              "      <td>-1.188850</td>\n",
              "      <td>36.931382</td>\n",
              "    </tr>\n",
              "    <tr>\n",
              "      <th>...</th>\n",
              "      <td>...</td>\n",
              "      <td>...</td>\n",
              "      <td>...</td>\n",
              "      <td>...</td>\n",
              "    </tr>\n",
              "    <tr>\n",
              "      <th>6313</th>\n",
              "      <td>6314</td>\n",
              "      <td>2019-06-29 18:52:44</td>\n",
              "      <td>-1.262271</td>\n",
              "      <td>36.726540</td>\n",
              "    </tr>\n",
              "    <tr>\n",
              "      <th>6314</th>\n",
              "      <td>6315</td>\n",
              "      <td>2019-06-30 09:57:44</td>\n",
              "      <td>-1.279468</td>\n",
              "      <td>36.790449</td>\n",
              "    </tr>\n",
              "    <tr>\n",
              "      <th>6315</th>\n",
              "      <td>6316</td>\n",
              "      <td>2019-06-30 12:02:14</td>\n",
              "      <td>-1.322109</td>\n",
              "      <td>36.825248</td>\n",
              "    </tr>\n",
              "    <tr>\n",
              "      <th>6316</th>\n",
              "      <td>6317</td>\n",
              "      <td>2019-06-30 16:59:14</td>\n",
              "      <td>-1.278589</td>\n",
              "      <td>36.816518</td>\n",
              "    </tr>\n",
              "    <tr>\n",
              "      <th>6317</th>\n",
              "      <td>6318</td>\n",
              "      <td>2019-06-30 20:06:14</td>\n",
              "      <td>-1.211500</td>\n",
              "      <td>36.907635</td>\n",
              "    </tr>\n",
              "  </tbody>\n",
              "</table>\n",
              "<p>6318 rows × 4 columns</p>\n",
              "</div>"
            ],
            "text/plain": [
              "       uid             datetime  latitude  longitude\n",
              "0        1  2018-01-01 00:25:46 -1.188850  36.931382\n",
              "1        2  2018-01-01 02:02:39 -0.662939  37.208730\n",
              "2        3  2018-01-01 02:31:49 -0.662939  37.208730\n",
              "3        4  2018-01-01 03:04:01 -1.288087  36.826583\n",
              "4        5  2018-01-01 03:58:49 -1.188850  36.931382\n",
              "...    ...                  ...       ...        ...\n",
              "6313  6314  2019-06-29 18:52:44 -1.262271  36.726540\n",
              "6314  6315  2019-06-30 09:57:44 -1.279468  36.790449\n",
              "6315  6316  2019-06-30 12:02:14 -1.322109  36.825248\n",
              "6316  6317  2019-06-30 16:59:14 -1.278589  36.816518\n",
              "6317  6318  2019-06-30 20:06:14 -1.211500  36.907635\n",
              "\n",
              "[6318 rows x 4 columns]"
            ]
          },
          "metadata": {
            "tags": []
          },
          "execution_count": 2
        }
      ]
    },
    {
      "cell_type": "markdown",
      "metadata": {
        "id": "nmIKy1WwyHBs"
      },
      "source": [
        "As seen above, the train dataset contains 6,318 rows and 4 columns i.e.\n",
        "* uid- unique id\n",
        "* datetime - the data and time that an accident occured\n",
        "* latitude and longitude - the location of the accident "
      ]
    },
    {
      "cell_type": "markdown",
      "metadata": {
        "id": "mg805etXyRpt"
      },
      "source": [
        "### Cleaning the training data "
      ]
    },
    {
      "cell_type": "code",
      "metadata": {
        "colab": {
          "base_uri": "https://localhost:8080/"
        },
        "id": "APptdmqPyL2f",
        "outputId": "9b4138f6-db80-4ecc-bed7-feb594ab82aa"
      },
      "source": [
        "# check for duplicates\n",
        "\n",
        "traindf.duplicated().sum()"
      ],
      "execution_count": null,
      "outputs": [
        {
          "output_type": "execute_result",
          "data": {
            "text/plain": [
              "0"
            ]
          },
          "metadata": {
            "tags": []
          },
          "execution_count": 3
        }
      ]
    },
    {
      "cell_type": "code",
      "metadata": {
        "colab": {
          "base_uri": "https://localhost:8080/"
        },
        "id": "c2oRryB5yxry",
        "outputId": "3fb0382a-4ad3-42e9-e850-efab044ec392"
      },
      "source": [
        "# check for null values\n",
        "\n",
        "traindf.isnull().sum()"
      ],
      "execution_count": null,
      "outputs": [
        {
          "output_type": "execute_result",
          "data": {
            "text/plain": [
              "uid          0\n",
              "datetime     0\n",
              "latitude     0\n",
              "longitude    0\n",
              "dtype: int64"
            ]
          },
          "metadata": {
            "tags": []
          },
          "execution_count": 4
        }
      ]
    },
    {
      "cell_type": "markdown",
      "metadata": {
        "id": "UCmgWlaky0l4"
      },
      "source": [
        "The train dataset is seen to be clean, as it has no duplicates or null values"
      ]
    },
    {
      "cell_type": "code",
      "metadata": {
        "colab": {
          "base_uri": "https://localhost:8080/"
        },
        "id": "4cOLKF9_y5Yh",
        "outputId": "d2ea4bf8-fe1d-44d6-a9a9-39760a5c3228"
      },
      "source": [
        "!pip install folium\n",
        "!pip install geojson\n",
        "!pip install jsonschema\n",
        "!pip install leaflet\n",
        "\n",
        "import leaflet\n",
        "import folium\n",
        "import json\n",
        "import jsonschema\n",
        "from jsonschema import validate\n",
        "\n",
        "geodata = json.load(open(\"/segments_geometry.geojson\"))\n",
        "geodata['features'][0]['geometry']"
      ],
      "execution_count": null,
      "outputs": [
        {
          "output_type": "stream",
          "text": [
            "Requirement already satisfied: folium in /usr/local/lib/python3.6/dist-packages (0.8.3)\n",
            "Requirement already satisfied: six in /usr/local/lib/python3.6/dist-packages (from folium) (1.15.0)\n",
            "Requirement already satisfied: numpy in /usr/local/lib/python3.6/dist-packages (from folium) (1.19.5)\n",
            "Requirement already satisfied: jinja2 in /usr/local/lib/python3.6/dist-packages (from folium) (2.11.2)\n",
            "Requirement already satisfied: requests in /usr/local/lib/python3.6/dist-packages (from folium) (2.23.0)\n",
            "Requirement already satisfied: branca>=0.3.0 in /usr/local/lib/python3.6/dist-packages (from folium) (0.4.2)\n",
            "Requirement already satisfied: MarkupSafe>=0.23 in /usr/local/lib/python3.6/dist-packages (from jinja2->folium) (1.1.1)\n",
            "Requirement already satisfied: urllib3!=1.25.0,!=1.25.1,<1.26,>=1.21.1 in /usr/local/lib/python3.6/dist-packages (from requests->folium) (1.24.3)\n",
            "Requirement already satisfied: certifi>=2017.4.17 in /usr/local/lib/python3.6/dist-packages (from requests->folium) (2020.12.5)\n",
            "Requirement already satisfied: chardet<4,>=3.0.2 in /usr/local/lib/python3.6/dist-packages (from requests->folium) (3.0.4)\n",
            "Requirement already satisfied: idna<3,>=2.5 in /usr/local/lib/python3.6/dist-packages (from requests->folium) (2.10)\n",
            "Requirement already satisfied: geojson in /usr/local/lib/python3.6/dist-packages (2.5.0)\n",
            "Requirement already satisfied: jsonschema in /usr/local/lib/python3.6/dist-packages (2.6.0)\n",
            "Requirement already satisfied: leaflet in /usr/local/lib/python3.6/dist-packages (0.0.3)\n"
          ],
          "name": "stdout"
        },
        {
          "output_type": "execute_result",
          "data": {
            "text/plain": [
              "{'coordinates': [[36.8260292, -1.2844709],\n",
              "  [36.82604954936898, -1.284444101379869],\n",
              "  [36.82607659422822, -1.284408485292231],\n",
              "  [36.82610363908745, -1.284372869204592],\n",
              "  [36.82613068394668, -1.284337253116954],\n",
              "  [36.82615772880592, -1.284301637029317],\n",
              "  [36.82618477366515, -1.284266020941681],\n",
              "  [36.826211818524385, -1.284230404854043],\n",
              "  [36.826238863383615, -1.284194788766405],\n",
              "  [36.82626590824285, -1.284159172678767],\n",
              "  [36.82629295310208, -1.284123556591129],\n",
              "  [36.826319262976725, -1.284087419110355],\n",
              "  [36.82634394088594, -1.284050123924252],\n",
              "  [36.82636861879516, -1.28401282873815],\n",
              "  [36.82639329670437, -1.283975533552048],\n",
              "  [36.826417974613584, -1.283938238365946],\n",
              "  [36.82644161135365, -1.283900297970969],\n",
              "  [36.82646402598816, -1.283861600241459],\n",
              "  [36.82648644062267, -1.283822902511947],\n",
              "  [36.82650885525718, -1.283784204782435],\n",
              "  [36.826531269891696, -1.283745507052925],\n",
              "  [36.826555607177916, -1.283708049463544]],\n",
              " 'type': 'LineString'}"
            ]
          },
          "metadata": {
            "tags": []
          },
          "execution_count": 5
        }
      ]
    },
    {
      "cell_type": "code",
      "metadata": {
        "colab": {
          "base_uri": "https://localhost:8080/",
          "height": 669
        },
        "id": "12PajKfv5GOO",
        "outputId": "fbb73faa-cce6-4656-ebc2-e8182f852d81"
      },
      "source": [
        "import geopandas as gpd\n",
        "\n",
        "geodata = gpd.read_file('/segments_geometry.geojson')\n",
        "geodata.take(np.random.permutation(len(geodata))[:20])"
      ],
      "execution_count": null,
      "outputs": [
        {
          "output_type": "execute_result",
          "data": {
            "text/html": [
              "<div>\n",
              "<style scoped>\n",
              "    .dataframe tbody tr th:only-of-type {\n",
              "        vertical-align: middle;\n",
              "    }\n",
              "\n",
              "    .dataframe tbody tr th {\n",
              "        vertical-align: top;\n",
              "    }\n",
              "\n",
              "    .dataframe thead th {\n",
              "        text-align: right;\n",
              "    }\n",
              "</style>\n",
              "<table border=\"1\" class=\"dataframe\">\n",
              "  <thead>\n",
              "    <tr style=\"text-align: right;\">\n",
              "      <th></th>\n",
              "      <th>segment_id</th>\n",
              "      <th>road_name</th>\n",
              "      <th>geometry</th>\n",
              "    </tr>\n",
              "  </thead>\n",
              "  <tbody>\n",
              "    <tr>\n",
              "      <th>330</th>\n",
              "      <td>155_11</td>\n",
              "      <td>muranga road-primary</td>\n",
              "      <td>LINESTRING (36.82194 -1.27707, 36.82190 -1.277...</td>\n",
              "    </tr>\n",
              "    <tr>\n",
              "      <th>651</th>\n",
              "      <td>195_2</td>\n",
              "      <td>kiambu road-secondary</td>\n",
              "      <td>LINESTRING (36.84392 -1.23739, 36.84393 -1.237...</td>\n",
              "    </tr>\n",
              "    <tr>\n",
              "      <th>403</th>\n",
              "      <td>24_2</td>\n",
              "      <td>outer ring road-primary</td>\n",
              "      <td>LINESTRING (36.88396 -1.28575, 36.88395 -1.285...</td>\n",
              "    </tr>\n",
              "    <tr>\n",
              "      <th>393</th>\n",
              "      <td>56_3</td>\n",
              "      <td>outer ring road-primary</td>\n",
              "      <td>LINESTRING (36.88791 -1.30311, 36.88789 -1.303...</td>\n",
              "    </tr>\n",
              "    <tr>\n",
              "      <th>693</th>\n",
              "      <td>318_1</td>\n",
              "      <td>ngong road 3-secondary</td>\n",
              "      <td>LINESTRING (36.74787 -1.30401, 36.74783 -1.304...</td>\n",
              "    </tr>\n",
              "    <tr>\n",
              "      <th>430</th>\n",
              "      <td>139_7</td>\n",
              "      <td>prof. wangari maathai road-trunk</td>\n",
              "      <td>LINESTRING (36.82139 -1.26873, 36.82134 -1.268...</td>\n",
              "    </tr>\n",
              "    <tr>\n",
              "      <th>108</th>\n",
              "      <td>22_2</td>\n",
              "      <td>jogoo road-secondary</td>\n",
              "      <td>LINESTRING (36.85965 -1.29603, 36.85970 -1.296...</td>\n",
              "    </tr>\n",
              "    <tr>\n",
              "      <th>59</th>\n",
              "      <td>121_1</td>\n",
              "      <td>elgeyo marakwet road-tertiary</td>\n",
              "      <td>LINESTRING (36.77937 -1.29842, 36.77937 -1.298...</td>\n",
              "    </tr>\n",
              "    <tr>\n",
              "      <th>640</th>\n",
              "      <td>295_3</td>\n",
              "      <td>juja road-secondary</td>\n",
              "      <td>LINESTRING (36.84360 -1.26742, 36.84356 -1.267...</td>\n",
              "    </tr>\n",
              "    <tr>\n",
              "      <th>599</th>\n",
              "      <td>80_3</td>\n",
              "      <td>waiyaki way-trunk</td>\n",
              "      <td>LINESTRING (36.80180 -1.26423, 36.80184 -1.264...</td>\n",
              "    </tr>\n",
              "    <tr>\n",
              "      <th>633</th>\n",
              "      <td>203_4</td>\n",
              "      <td>heshima road-tertiary</td>\n",
              "      <td>LINESTRING (36.85330 -1.29275, 36.85326 -1.292...</td>\n",
              "    </tr>\n",
              "    <tr>\n",
              "      <th>560</th>\n",
              "      <td>98_3</td>\n",
              "      <td>waiyaki way-trunk</td>\n",
              "      <td>LINESTRING (36.69492 -1.25563, 36.69496 -1.255...</td>\n",
              "    </tr>\n",
              "    <tr>\n",
              "      <th>261</th>\n",
              "      <td>41_2</td>\n",
              "      <td>mbagathi way-secondary</td>\n",
              "      <td>LINESTRING (36.80454 -1.30858, 36.80452 -1.308...</td>\n",
              "    </tr>\n",
              "    <tr>\n",
              "      <th>601</th>\n",
              "      <td>80_5</td>\n",
              "      <td>waiyaki way-trunk</td>\n",
              "      <td>LINESTRING (36.80300 -1.26576, 36.80304 -1.265...</td>\n",
              "    </tr>\n",
              "    <tr>\n",
              "      <th>714</th>\n",
              "      <td>188_4</td>\n",
              "      <td>rabai road-tertiary</td>\n",
              "      <td>LINESTRING (36.87658 -1.29507, 36.87657 -1.295...</td>\n",
              "    </tr>\n",
              "    <tr>\n",
              "      <th>361</th>\n",
              "      <td>101_4</td>\n",
              "      <td>ngong road 2-secondary</td>\n",
              "      <td>LINESTRING (36.80581 -1.29730, 36.80585 -1.297...</td>\n",
              "    </tr>\n",
              "    <tr>\n",
              "      <th>203</th>\n",
              "      <td>33_3</td>\n",
              "      <td>landhies road-secondary</td>\n",
              "      <td>LINESTRING (36.83339 -1.28601, 36.83343 -1.286...</td>\n",
              "    </tr>\n",
              "    <tr>\n",
              "      <th>132</th>\n",
              "      <td>89_2</td>\n",
              "      <td>juja road-secondary</td>\n",
              "      <td>LINESTRING (36.86712 -1.26212, 36.86708 -1.262...</td>\n",
              "    </tr>\n",
              "    <tr>\n",
              "      <th>471</th>\n",
              "      <td>30_14</td>\n",
              "      <td>slip road-secondary</td>\n",
              "      <td>LINESTRING (36.82073 -1.27935, 36.82071 -1.279...</td>\n",
              "    </tr>\n",
              "    <tr>\n",
              "      <th>124</th>\n",
              "      <td>47_1</td>\n",
              "      <td>jogoo road-secondary</td>\n",
              "      <td>LINESTRING (36.88210 -1.29618, 36.88214 -1.296...</td>\n",
              "    </tr>\n",
              "  </tbody>\n",
              "</table>\n",
              "</div>"
            ],
            "text/plain": [
              "    segment_id  ...                                           geometry\n",
              "330     155_11  ...  LINESTRING (36.82194 -1.27707, 36.82190 -1.277...\n",
              "651      195_2  ...  LINESTRING (36.84392 -1.23739, 36.84393 -1.237...\n",
              "403       24_2  ...  LINESTRING (36.88396 -1.28575, 36.88395 -1.285...\n",
              "393       56_3  ...  LINESTRING (36.88791 -1.30311, 36.88789 -1.303...\n",
              "693      318_1  ...  LINESTRING (36.74787 -1.30401, 36.74783 -1.304...\n",
              "430      139_7  ...  LINESTRING (36.82139 -1.26873, 36.82134 -1.268...\n",
              "108       22_2  ...  LINESTRING (36.85965 -1.29603, 36.85970 -1.296...\n",
              "59       121_1  ...  LINESTRING (36.77937 -1.29842, 36.77937 -1.298...\n",
              "640      295_3  ...  LINESTRING (36.84360 -1.26742, 36.84356 -1.267...\n",
              "599       80_3  ...  LINESTRING (36.80180 -1.26423, 36.80184 -1.264...\n",
              "633      203_4  ...  LINESTRING (36.85330 -1.29275, 36.85326 -1.292...\n",
              "560       98_3  ...  LINESTRING (36.69492 -1.25563, 36.69496 -1.255...\n",
              "261       41_2  ...  LINESTRING (36.80454 -1.30858, 36.80452 -1.308...\n",
              "601       80_5  ...  LINESTRING (36.80300 -1.26576, 36.80304 -1.265...\n",
              "714      188_4  ...  LINESTRING (36.87658 -1.29507, 36.87657 -1.295...\n",
              "361      101_4  ...  LINESTRING (36.80581 -1.29730, 36.80585 -1.297...\n",
              "203       33_3  ...  LINESTRING (36.83339 -1.28601, 36.83343 -1.286...\n",
              "132       89_2  ...  LINESTRING (36.86712 -1.26212, 36.86708 -1.262...\n",
              "471      30_14  ...  LINESTRING (36.82073 -1.27935, 36.82071 -1.279...\n",
              "124       47_1  ...  LINESTRING (36.88210 -1.29618, 36.88214 -1.296...\n",
              "\n",
              "[20 rows x 3 columns]"
            ]
          },
          "metadata": {
            "tags": []
          },
          "execution_count": 6
        }
      ]
    },
    {
      "cell_type": "code",
      "metadata": {
        "colab": {
          "base_uri": "https://localhost:8080/",
          "height": 751
        },
        "id": "wvQktqvfzI32",
        "outputId": "09d38286-f42f-4900-d178-8795be464c91"
      },
      "source": [
        "# display crash points/accident prone areas on graph\n",
        "traindf.plot(x='longitude', y='latitude', kind='scatter', figsize=(12, 12), alpha=0.3, title='Crash Points')"
      ],
      "execution_count": null,
      "outputs": [
        {
          "output_type": "execute_result",
          "data": {
            "text/plain": [
              "<matplotlib.axes._subplots.AxesSubplot at 0x7fd658d00940>"
            ]
          },
          "metadata": {
            "tags": []
          },
          "execution_count": 7
        },
        {
          "output_type": "display_data",
          "data": {
            "image/png": "[encoded data removed]",
            "text/plain": [
              "<Figure size 864x864 with 1 Axes>"
            ]
          },
          "metadata": {
            "tags": [],
            "needs_background": "light"
          }
        }
      ]
    },
    {
      "cell_type": "code",
      "metadata": {
        "colab": {
          "base_uri": "https://localhost:8080/",
          "height": 712
        },
        "id": "kmjdba3Pzh26",
        "outputId": "b471de45-cde9-4c9c-acb6-b0283b1b552f"
      },
      "source": [
        "# plot the map of nairobi to get a detailed view of the city\n",
        "nrb=folium.Map(location=[-1.286389,36.817223], zoom_start=15)\n",
        "nrb"
      ],
      "execution_count": null,
      "outputs": [
        {
          "output_type": "execute_result",
          "data": {
            "text/html": [
              "<div style=\"width:100%;\"><div style=\"position:relative;width:100%;height:0;padding-bottom:60%;\"><span style=\"color:#565656\">Make this Notebook Trusted to load map: File -> Trust Notebook</span><iframe src=\"about:blank\" style=\"position:absolute;width:100%;height:100%;left:0;top:0;border:none !important;\" data-html=%3C%21DOCTYPE%20html%3E%0A%3Chead%3E%20%20%20%20%0A%20%20%20%20%3Cmeta%20http-equiv%3D%22content-type%22%20content%3D%22text/html%3B%20charset%3DUTF-8%22%20/%3E%0A%20%20%20%20%3Cscript%3EL_PREFER_CANVAS%3Dfalse%3B%20L_NO_TOUCH%3Dfalse%3B%20L_DISABLE_3D%3Dfalse%3B%3C/script%3E%0A%20%20%20%20%3Cscript%20src%3D%22https%3A//cdn.jsdelivr.net/npm/leaflet%401.4.0/dist/leaflet.js%22%3E%3C/script%3E%0A%20%20%20%20%3Cscript%20src%3D%22https%3A//code.jquery.com/jquery-1.12.4.min.js%22%3E%3C/script%3E%0A%20%20%20%20%3Cscript%20src%3D%22https%3A//maxcdn.bootstrapcdn.com/bootstrap/3.2.0/js/bootstrap.min.js%22%3E%3C/script%3E%0A%20%20%20%20%3Cscript%20src%3D%22https%3A//cdnjs.cloudflare.com/ajax/libs/Leaflet.awesome-markers/2.0.2/leaflet.awesome-markers.js%22%3E%3C/script%3E%0A%20%20%20%20%3Clink%20rel%3D%22stylesheet%22%20href%3D%22https%3A//cdn.jsdelivr.net/npm/leaflet%401.4.0/dist/leaflet.css%22/%3E%0A%20%20%20%20%3Clink%20rel%3D%22stylesheet%22%20href%3D%22https%3A//maxcdn.bootstrapcdn.com/bootstrap/3.2.0/css/bootstrap.min.css%22/%3E%0A%20%20%20%20%3Clink%20rel%3D%22stylesheet%22%20href%3D%22https%3A//maxcdn.bootstrapcdn.com/bootstrap/3.2.0/css/bootstrap-theme.min.css%22/%3E%0A%20%20%20%20%3Clink%20rel%3D%22stylesheet%22%20href%3D%22https%3A//maxcdn.bootstrapcdn.com/font-awesome/4.6.3/css/font-awesome.min.css%22/%3E%0A%20%20%20%20%3Clink%20rel%3D%22stylesheet%22%20href%3D%22https%3A//cdnjs.cloudflare.com/ajax/libs/Leaflet.awesome-markers/2.0.2/leaflet.awesome-markers.css%22/%3E%0A%20%20%20%20%3Clink%20rel%3D%22stylesheet%22%20href%3D%22https%3A//rawcdn.githack.com/python-visualization/folium/master/folium/templates/leaflet.awesome.rotate.css%22/%3E%0A%20%20%20%20%3Cstyle%3Ehtml%2C%20body%20%7Bwidth%3A%20100%25%3Bheight%3A%20100%25%3Bmargin%3A%200%3Bpadding%3A%200%3B%7D%3C/style%3E%0A%20%20%20%20%3Cstyle%3E%23map%20%7Bposition%3Aabsolute%3Btop%3A0%3Bbottom%3A0%3Bright%3A0%3Bleft%3A0%3B%7D%3C/style%3E%0A%20%20%20%20%0A%20%20%20%20%3Cmeta%20name%3D%22viewport%22%20content%3D%22width%3Ddevice-width%2C%0A%20%20%20%20%20%20%20%20initial-scale%3D1.0%2C%20maximum-scale%3D1.0%2C%20user-scalable%3Dno%22%20/%3E%0A%20%20%20%20%3Cstyle%3E%23map_4520bde56c0c422da9b082bdc3f342e4%20%7B%0A%20%20%20%20%20%20%20%20position%3A%20relative%3B%0A%20%20%20%20%20%20%20%20width%3A%20100.0%25%3B%0A%20%20%20%20%20%20%20%20height%3A%20100.0%25%3B%0A%20%20%20%20%20%20%20%20left%3A%200.0%25%3B%0A%20%20%20%20%20%20%20%20top%3A%200.0%25%3B%0A%20%20%20%20%20%20%20%20%7D%0A%20%20%20%20%3C/style%3E%0A%3C/head%3E%0A%3Cbody%3E%20%20%20%20%0A%20%20%20%20%0A%20%20%20%20%3Cdiv%20class%3D%22folium-map%22%20id%3D%22map_4520bde56c0c422da9b082bdc3f342e4%22%20%3E%3C/div%3E%0A%3C/body%3E%0A%3Cscript%3E%20%20%20%20%0A%20%20%20%20%0A%20%20%20%20%0A%20%20%20%20%20%20%20%20var%20bounds%20%3D%20null%3B%0A%20%20%20%20%0A%0A%20%20%20%20var%20map_4520bde56c0c422da9b082bdc3f342e4%20%3D%20L.map%28%0A%20%20%20%20%20%20%20%20%27map_4520bde56c0c422da9b082bdc3f342e4%27%2C%20%7B%0A%20%20%20%20%20%20%20%20center%3A%20%5B-1.286389%2C%2036.817223%5D%2C%0A%20%20%20%20%20%20%20%20zoom%3A%2015%2C%0A%20%20%20%20%20%20%20%20maxBounds%3A%20bounds%2C%0A%20%20%20%20%20%20%20%20layers%3A%20%5B%5D%2C%0A%20%20%20%20%20%20%20%20worldCopyJump%3A%20false%2C%0A%20%20%20%20%20%20%20%20crs%3A%20L.CRS.EPSG3857%2C%0A%20%20%20%20%20%20%20%20zoomControl%3A%20true%2C%0A%20%20%20%20%20%20%20%20%7D%29%3B%0A%0A%0A%20%20%20%20%0A%20%20%20%20var%20tile_layer_f04eef36f2634d708313dbb1eaa1a71c%20%3D%20L.tileLayer%28%0A%20%20%20%20%20%20%20%20%27https%3A//%7Bs%7D.tile.openstreetmap.org/%7Bz%7D/%7Bx%7D/%7By%7D.png%27%2C%0A%20%20%20%20%20%20%20%20%7B%0A%20%20%20%20%20%20%20%20%22attribution%22%3A%20null%2C%0A%20%20%20%20%20%20%20%20%22detectRetina%22%3A%20false%2C%0A%20%20%20%20%20%20%20%20%22maxNativeZoom%22%3A%2018%2C%0A%20%20%20%20%20%20%20%20%22maxZoom%22%3A%2018%2C%0A%20%20%20%20%20%20%20%20%22minZoom%22%3A%200%2C%0A%20%20%20%20%20%20%20%20%22noWrap%22%3A%20false%2C%0A%20%20%20%20%20%20%20%20%22opacity%22%3A%201%2C%0A%20%20%20%20%20%20%20%20%22subdomains%22%3A%20%22abc%22%2C%0A%20%20%20%20%20%20%20%20%22tms%22%3A%20false%0A%7D%29.addTo%28map_4520bde56c0c422da9b082bdc3f342e4%29%3B%0A%3C/script%3E onload=\"this.contentDocument.open();this.contentDocument.write(    decodeURIComponent(this.getAttribute('data-html')));this.contentDocument.close();\" allowfullscreen webkitallowfullscreen mozallowfullscreen></iframe></div></div>"
            ],
            "text/plain": [
              "<folium.folium.Map at 0x7fd658d69c18>"
            ]
          },
          "metadata": {
            "tags": []
          },
          "execution_count": 8
        }
      ]
    },
    {
      "cell_type": "code",
      "metadata": {
        "id": "vTojAj9-zsWl"
      },
      "source": [
        "# create a basemap that will be used as the base of the heatmap\n",
        "def generateBaseMap(default_location=[-1.286389,36.817223], default_zoom_start=12):\n",
        "    base_map = folium.Map(location=default_location, control_scale=True, zoom_start=default_zoom_start)\n",
        "    return base_map\n",
        "base_map = generateBaseMap()\n"
      ],
      "execution_count": null,
      "outputs": []
    },
    {
      "cell_type": "code",
      "metadata": {
        "colab": {
          "base_uri": "https://localhost:8080/",
          "height": 712
        },
        "id": "G4Z6SSYqzxR8",
        "outputId": "f27e2853-7834-4d19-956a-250988f3b6c3"
      },
      "source": [
        "# apply the heat map to the base map from above, showing the accident prone areas and save 'nrb1' as an image\n",
        "from folium import plugins\n",
        "import folium.plugins as plugins\n",
        "from folium.plugins import HeatMap\n",
        "from folium.plugins import HeatMapWithTime\n",
        "nrb1 = HeatMap(data=traindf[['latitude', 'longitude']].groupby(['latitude','longitude']).sum().reset_index().values.tolist(), radius=7, max_zoom=10).add_to(base_map)\n",
        "\n",
        "nrb1.save(\"Heatmap.png\")\n",
        "\n",
        "# display heatmap\n",
        "base_map"
      ],
      "execution_count": null,
      "outputs": [
        {
          "output_type": "execute_result",
          "data": {
            "text/html": [
              "<div style=\"width:100%;\"><div style=\"position:relative;width:100%;height:0;padding-bottom:60%;\"><span style=\"color:#565656\">Make this Notebook Trusted to load map: File -> Trust Notebook</span><iframe src=\"about:blank\" style=\"position:absolute;width:100%;height:100%;left:0;top:0;border:none !important;\" data-html=%3C%21DOCTYPE%20html%3E%0A%3Chead%3E%20%20%20%20%0A%20%20%20%20%3Cmeta%20http-equiv%3D%22content-type%22%20content%3D%22text/html%3B%20charset%3DUTF-8%22%20/%3E%0A%20%20%20%20%3Cscript%3EL_PREFER_CANVAS%3Dfalse%3B%20L_NO_TOUCH%3Dfalse%3B%20L_DISABLE_3D%3Dfalse%3B%3C/script%3E%0A%20%20%20%20%3Cscript%20src%3D%22https%3A//cdn.jsdelivr.net/npm/leaflet%401.4.0/dist/leaflet.js%22%3E%3C/script%3E%0A%20%20%20%20%3Cscript%20src%3D%22https%3A//code.jquery.com/jquery-1.12.4.min.js%22%3E%3C/script%3E%0A%20%20%20%20%3Cscript%20src%3D%22https%3A//maxcdn.bootstrapcdn.com/bootstrap/3.2.0/js/bootstrap.min.js%22%3E%3C/script%3E%0A%20%20%20%20%3Cscript%20src%3D%22https%3A//cdnjs.cloudflare.com/ajax/libs/Leaflet.awesome-markers/2.0.2/leaflet.awesome-markers.js%22%3E%3C/script%3E%0A%20%20%20%20%3Clink%20rel%3D%22stylesheet%22%20href%3D%22https%3A//cdn.jsdelivr.net/npm/leaflet%401.4.0/dist/leaflet.css%22/%3E%0A%20%20%20%20%3Clink%20rel%3D%22stylesheet%22%20href%3D%22https%3A//maxcdn.bootstrapcdn.com/bootstrap/3.2.0/css/bootstrap.min.css%22/%3E%0A%20%20%20%20%3Clink%20rel%3D%22stylesheet%22%20href%3D%22https%3A//maxcdn.bootstrapcdn.com/bootstrap/3.2.0/css/bootstrap-theme.min.css%22/%3E%0A%20%20%20%20%3Clink%20rel%3D%22stylesheet%22%20href%3D%22https%3A//maxcdn.bootstrapcdn.com/font-awesome/4.6.3/css/font-awesome.min.css%22/%3E%0A%20%20%20%20%3Clink%20rel%3D%22stylesheet%22%20href%3D%22https%3A//cdnjs.cloudflare.com/ajax/libs/Leaflet.awesome-markers/2.0.2/leaflet.awesome-markers.css%22/%3E%0A%20%20%20%20%3Clink%20rel%3D%22stylesheet%22%20href%3D%22https%3A//rawcdn.githack.com/python-visualization/folium/master/folium/templates/leaflet.awesome.rotate.css%22/%3E%0A%20%20%20%20%3Cstyle%3Ehtml%2C%20body%20%7Bwidth%3A%20100%25%3Bheight%3A%20100%25%3Bmargin%3A%200%3Bpadding%3A%200%3B%7D%3C/style%3E%0A%20%20%20%20%3Cstyle%3E%23map%20%7Bposition%3Aabsolute%3Btop%3A0%3Bbottom%3A0%3Bright%3A0%3Bleft%3A0%3B%7D%3C/style%3E%0A%20%20%20%20%0A%20%20%20%20%3Cmeta%20name%3D%22viewport%22%20content%3D%22width%3Ddevice-width%2C%0A%20%20%20%20%20%20%20%20initial-scale%3D1.0%2C%20maximum-scale%3D1.0%2C%20user-scalable%3Dno%22%20/%3E%0A%20%20%20%20%3Cstyle%3E%23map_6221722ef5824c70a204d8010e45aa98%20%7B%0A%20%20%20%20%20%20%20%20position%3A%20relative%3B%0A%20%20%20%20%20%20%20%20width%3A%20100.0%25%3B%0A%20%20%20%20%20%20%20%20height%3A%20100.0%25%3B%0A%20%20%20%20%20%20%20%20left%3A%200.0%25%3B%0A%20%20%20%20%20%20%20%20top%3A%200.0%25%3B%0A%20%20%20%20%20%20%20%20%7D%0A%20%20%20%20%3C/style%3E%0A%20%20%20%20%3Cscript%20src%3D%22https%3A//leaflet.github.io/Leaflet.heat/dist/leaflet-heat.js%22%3E%3C/script%3E%0A%3C/head%3E%0A%3Cbody%3E%20%20%20%20%0A%20%20%20%20%0A%20%20%20%20%3Cdiv%20class%3D%22folium-map%22%20id%3D%22map_6221722ef5824c70a204d8010e45aa98%22%20%3E%3C/div%3E%0A%3C/body%3E%0A%3Cscript%3E%20%20%20%20%0A%20%20%20%20%0A%20%20%20%20%0A%20%20%20%20%20%20%20%20var%20bounds%20%3D%20null%3B%0A%20%20%20%20%0A%0A%20%20%20%20var%20map_6221722ef5824c70a204d8010e45aa98%20%3D%20L.map%28%0A%20%20%20%20%20%20%20%20%27map_6221722ef5824c70a204d8010e45aa98%27%2C%20%7B%0A%20%20%20%20%20%20%20%20center%3A%20%5B-1.286389%2C%2036.817223%5D%2C%0A%20%20%20%20%20%20%20%20zoom%3A%2012%2C%0A%20%20%20%20%20%20%20%20maxBounds%3A%20bounds%2C%0A%20%20%20%20%20%20%20%20layers%3A%20%5B%5D%2C%0A%20%20%20%20%20%20%20%20worldCopyJump%3A%20false%2C%0A%20%20%20%20%20%20%20%20crs%3A%20L.CRS.EPSG3857%2C%0A%20%20%20%20%20%20%20%20zoomControl%3A%20true%2C%0A%20%20%20%20%20%20%20%20%7D%29%3B%0AL.control.scale%28%29.addTo%28map_6221722ef5824c70a204d8010e45aa98%29%3B%0A%0A%20%20%20%20%0A%20%20%20%20var%20tile_layer_143d519e78044a59bc7e49deb48bb407%20%3D%20L.tileLayer%28%0A%20%20%20%20%20%20%20%20%27https%3A//%7Bs%7D.tile.openstreetmap.org/%7Bz%7D/%7Bx%7D/%7By%7D.png%27%2C%0A%20%20%20%20%20%20%20%20%7B%0A%20%20%20%20%20%20%20%20%22attribution%22%3A%20null%2C%0A%20%20%20%20%20%20%20%20%22detectRetina%22%3A%20false%2C%0A%20%20%20%20%20%20%20%20%22maxNativeZoom%22%3A%2018%2C%0A%20%20%20%20%20%20%20%20%22maxZoom%22%3A%2018%2C%0A%20%20%20%20%20%20%20%20%22minZoom%22%3A%200%2C%0A%20%20%20%20%20%20%20%20%22noWrap%22%3A%20false%2C%0A%20%20%20%20%20%20%20%20%22opacity%22%3A%201%2C%0A%20%20%20%20%20%20%20%20%22subdomains%22%3A%20%22abc%22%2C%0A%20%20%20%20%20%20%20%20%22tms%22%3A%20false%0A%7D%29.addTo%28map_6221722ef5824c70a204d8010e45aa98%29%3B%0A%20%20%20%20%0A%20%20%20%20%20%20%20%20%20%20%20%20var%20heat_map_41036963bc784925866a6838abbe727d%20%3D%20L.heatLayer%28%0A%20%20%20%20%20%20%20%20%20%20%20%20%20%20%20%20%5B%5B-3.05000000215335%2C%2037.7500000007305%5D%2C%20%5B-2.9255715029212497%2C%2037.51420510098049%5D%2C%20%5B-2.66757000345303%2C%2037.8794900011581%5D%2C%20%5B-2.54716260531476%2C%2036.7873657017268%5D%2C%20%5B-2.3948186049724103%2C%2037.5393393016372%5D%2C%20%5B-2.15787200585139%2C%2037.60769180191321%5D%2C%20%5B-2.13887000622395%2C%2037.3808400020221%5D%2C%20%5B-2.10000000719573%2C%2036.750000002297604%5D%2C%20%5B-2.0798751063499%2C%2037.4730188020633%5D%2C%20%5B-2.01646010673929%2C%2037.3775152021796%5D%2C%20%5B-1.95982900730381%2C%2037.1261702023426%5D%2C%20%5B-1.77911135847224%2C%2036.8216135027726%5D%2C%20%5B-1.74095780823743%2C%2037.1290255026216%5D%2C%20%5B-1.6050616087800402%2C%2037.1669184027834%5D%2C%20%5B-1.5500000088470602%2C%2037.3000000028085%5D%2C%20%5B-1.5398883594420505%2C%2036.933696052999395%5D%2C%20%5B-1.53591625394131%2C%2037.1345115040418%5D%2C%20%5B-1.5327211087404702%2C%2037.4384451027826%5D%2C%20%5B-1.53260582457207%2C%2037.1324045214445%5D%2C%20%5B-1.53094540897235%2C%2037.26868230284421%5D%2C%20%5B-1.53085000902874%2C%2037.226180002859%5D%2C%20%5B-1.52903200916758%2C%2037.126661002895496%5D%2C%20%5B-1.52871904629841%2C%2037.126857951668896%5D%2C%20%5B-1.5284141919825198%2C%2037.2773819929535%5D%2C%20%5B-1.5248700090022%2C%2037.2664080028528%5D%2C%20%5B-1.5241288395531598%2C%2037.1200078625206%5D%2C%20%5B-1.52143818132408%2C%2037.1155095786275%5D%2C%20%5B-1.51906810903447%2C%2037.2613335028621%5D%2C%20%5B-1.50825060203561%2C%2037.09537746006279%5D%2C%20%5B-1.5060095097517698%2C%2036.757867803049%5D%2C%20%5B-1.50586120930914%2C%2037.09693010293571%5D%2C%20%5B-1.50351863435736%2C%2036.9646030901956%5D%2C%20%5B-1.50350540950993%2C%2036.9516941029877%5D%2C%20%5B-1.50318053847023%2C%2037.087345904428894%5D%2C%20%5B-1.50208187438148%2C%2036.9548439561334%5D%2C%20%5B-1.50000000902374%2C%2037.3333300028619%5D%2C%20%5B-1.49278490776667%2C%2036.95470225464821%5D%2C%20%5B-1.49122383734707%2C%2037.057248948841%5D%2C%20%5B-1.4909050343690602%2C%2037.057169721461%5D%2C%20%5B-1.48842052269264%2C%2037.054215024451295%5D%2C%20%5B-1.48821699196841%2C%2036.955195254288995%5D%2C%20%5B-1.4879451094371798%2C%2037.0598778029714%5D%2C%20%5B-1.48706760957555%2C%2036.9573295030071%5D%2C%20%5B-1.4850884095868%2C%2036.955460703010296%5D%2C%20%5B-1.48464840935047%2C%2037.1370319029494%5D%2C%20%5B-1.48410680946995%2C%2037.0479411029804%5D%2C%20%5B-1.48384670947124%2C%2037.047786702980794%5D%2C%20%5B-1.48333797813596%2C%2037.0485454457922%5D%2C%20%5B-1.48313562213472%2C%2037.0482844716554%5D%2C%20%5B-1.4813927229043502%2C%2036.9568247255654%5D%2C%20%5B-1.48003300945068%2C%2037.076350002976%5D%2C%20%5B-1.47924517763491%2C%2037.0420165085017%5D%2C%20%5B-1.47653479812484%2C%2037.03675647263611%5D%2C%20%5B-1.47653479812475%2C%2037.03675647263611%5D%2C%20%5B-1.47581700962603%2C%2036.956980003021705%5D%2C%20%5B-1.4756314096241498%2C%2036.9590508030212%5D%2C%20%5B-1.4740440100626102%2C%2036.6283690031323%5D%2C%20%5B-1.46667000917141%2C%2037.3333300029053%5D%2C%20%5B-1.46107358539872%2C%2036.9639318060297%5D%2C%20%5B-1.46044410968696%2C%2036.96272850303961%5D%2C%20%5B-1.45976232985904%2C%2037.00772595644271%5D%2C%20%5B-1.45970000963116%2C%2037.0077700030255%5D%2C%20%5B-1.4593590950863502%2C%2037.007467623477%5D%2C%20%5B-1.45619590963222%2C%2037.0189184030263%5D%2C%20%5B-1.45529730958032%2C%2037.061459603013%5D%2C%20%5B-1.45226850969849%2C%2036.979885503046496%5D%2C%20%5B-1.45206567485239%2C%2036.97765852152271%5D%2C%20%5B-1.45189960969585%2C%2036.9850203030432%5D%2C%20%5B-1.4518745336401695%2C%2036.967825557863%5D%2C%20%5B-1.4510349096960602%2C%2036.987778003043395%5D%2C%20%5B-1.44717600973874%2C%2036.9683300030549%5D%2C%20%5B-1.44383150974004%2C%2036.989522503092395%5D%2C%20%5B-1.44321157450254%2C%2036.9871683413788%5D%2C%20%5B-1.43882911015439%2C%2036.678840803161%5D%2C%20%5B-1.43748466559306%2C%2036.9758337375363%5D%2C%20%5B-1.43610493520232%2C%2036.9665563657555%5D%2C%20%5B-1.4356065097903%2C%2036.966604503069%5D%2C%20%5B-1.4356048754065502%2C%2036.9666271796458%5D%2C%20%5B-1.4354875096789097%2C%2036.971966502737104%5D%2C%20%5B-1.4354819474804%2C%2036.9722119352453%5D%2C%20%5B-1.43459553489804%2C%2036.9674111615357%5D%2C%20%5B-1.4345811648981202%2C%2036.9673869415357%5D%2C%20%5B-1.43254190981163%2C%2036.9626212030756%5D%2C%20%5B-1.432341779424%2C%2036.9663780062412%5D%2C%20%5B-1.4311140649083602%2C%2036.9636328215386%5D%2C%20%5B-1.4295100089202195%2C%2037.646570002844%5D%2C%20%5B-1.4284451262343%2C%2036.960622855199496%5D%2C%20%5B-1.42702000937966%2C%2037.309150002965296%5D%2C%20%5B-1.4221255098797%2C%2036.9462118030946%5D%2C%20%5B-1.42199340986754%2C%2036.9558905030916%5D%2C%20%5B-1.4204617768789598%2C%2036.7037571031723%5D%2C%20%5B-1.4201655098815802%2C%2036.9539895031033%5D%2C%20%5B-1.42015397803976%2C%2036.9540057070732%5D%2C%20%5B-1.4178860770228898%2C%2036.708780036562%5D%2C%20%5B-1.41781321435504%2C%2036.9529527927857%5D%2C%20%5B-1.41750318989075%2C%2036.9535197630982%5D%2C%20%5B-1.4173192989781498%2C%2036.9521932923695%5D%2C%20%5B-1.41667000992102%2C%2036.9333300031059%5D%2C%20%5B-1.41482615510999%2C%2036.71105026159071%5D%2C%20%5B-1.41123250992023%2C%2036.9524278031066%5D%2C%20%5B-1.4100500102398703%2C%2036.712277003187104%5D%2C%20%5B-1.40163379066244%2C%2036.9442555206377%5D%2C%20%5B-1.40094991902364%2C%2036.722678618847%5D%2C%20%5B-1.3989372868104%2C%2036.7420332912359%5D%2C%20%5B-1.39891809639057%2C%2036.7253039768145%5D%2C%20%5B-1.39827300999044%2C%2036.94320770312649%5D%2C%20%5B-1.39769861818827%2C%2036.941652443070296%5D%2C%20%5B-1.39769441563914%2C%2036.94211495531%5D%2C%20%5B-1.39758904182561%2C%2036.9420567516901%5D%2C%20%5B-1.39708591024912%2C%2036.7497785031916%5D%2C%20%5B-1.39699231023119%2C%2036.763804103187105%5D%2C%20%5B-1.39695991023132%2C%2036.7637891031872%5D%2C%20%5B-1.39694171023137%2C%2036.76381880318721%5D%2C%20%5B-1.3966278298437%2C%2036.749709011201%5D%2C%20%5B-1.39654251024643%2C%2036.753678803191%5D%2C%20%5B-1.39651701025639%2C%2036.746185003193496%5D%2C%20%5B-1.39638941025585%2C%2036.7470138031934%5D%2C%20%5B-1.39605601026546%2C%2036.74077500319579%5D%2C%20%5B-1.3959606289190098%2C%2036.9411535272314%5D%2C%20%5B-1.39592901024925%2C%2036.753655003191795%5D%2C%20%5B-1.3957378112278%2C%2036.75524437007%5D%2C%20%5B-1.39570413032209%2C%2036.9408923366008%5D%2C%20%5B-1.39570413032201%2C%2036.9408923366008%5D%2C%20%5B-1.39562837594942%2C%2036.9410248694783%5D%2C%20%5B-1.3952782772675498%2C%2036.763477334301896%5D%2C%20%5B-1.39510483627932%2C%2036.7635441968401%5D%2C%20%5B-1.3950088103766%2C%2036.7636649532439%5D%2C%20%5B-1.39482551027238%2C%2036.7397296031977%5D%2C%20%5B-1.39384620160444%2C%2036.7647266307094%5D%2C%20%5B-1.3938265168451205%2C%2036.9393222940241%5D%2C%20%5B-1.39294590960052%2C%2036.939271523138%5D%2C%20%5B-1.39294075918637%2C%2036.93890975297379%5D%2C%20%5B-1.39188161025076%2C%2036.7663599031929%5D%2C%20%5B-1.3908545684888798%2C%2036.76674322195971%5D%2C%20%5B-1.39056261025592%2C%2036.7670016031943%5D%2C%20%5B-1.3900669100329095%2C%2036.9388870031385%5D%2C%20%5B-1.38968051003861%2C%2036.93583200314%5D%2C%20%5B-1.38967681025967%2C%2036.7671756031954%5D%2C%20%5B-1.3896614754080805%2C%2036.9367775430976%5D%2C%20%5B-1.38949011003694%2C%2036.9378165031396%5D%2C%20%5B-1.38926780003815%2C%2036.93763464314%5D%2C%20%5B-1.38214917499903%2C%2036.770534303523%5D%2C%20%5B-1.38214301028907%2C%2036.770575003204%5D%2C%20%5B-1.3819507420584598%2C%2036.7706866245069%5D%2C%20%5B-1.38058340029596%2C%2036.770694023206%5D%2C%20%5B-1.38008285583785%2C%2036.6830718017622%5D%2C%20%5B-1.37934601007226%2C%2036.927907003158396%5D%2C%20%5B-1.37934198458691%2C%2036.9279107048284%5D%2C%20%5B-1.37930101030752%2C%2036.7662532032091%5D%2C%20%5B-1.3787514263402%2C%2036.7700219697276%5D%2C%20%5B-1.37323365013547%2C%2036.9183961131671%5D%2C%20%5B-1.37255834342854%2C%2036.9204886697305%5D%2C%20%5B-1.37255655013307%2C%2036.9224798631666%5D%2C%20%5B-1.37255583056238%2C%2036.92049112134529%5D%2C%20%5B-1.37226131011812%2C%2036.9349118031628%5D%2C%20%5B-1.37216349186253%2C%2036.919615029515%5D%2C%20%5B-1.37202135542048%2C%2036.9194542674961%5D%2C%20%5B-1.3719797104814%2C%2036.6583890032534%5D%2C%20%5B-1.37183100119672%2C%2036.919872110924295%5D%2C%20%5B-1.37117389028486%2C%2036.919087002443106%5D%2C%20%5B-1.36987231975948%2C%2036.9170067039763%5D%2C%20%5B-1.3698430101179495%2C%2036.917248003158996%5D%2C%20%5B-1.36938183449018%2C%2036.917066158907296%5D%2C%20%5B-1.3691636101552502%2C%2036.9172504031727%5D%2C%20%5B-1.3691629417488798%2C%2036.91681020743261%5D%2C%20%5B-1.36883711015691%2C%2036.9170853031732%5D%2C%20%5B-1.36678541866581%2C%2036.9116397029219%5D%2C%20%5B-1.3658937458427598%2C%2036.912396600723795%5D%2C%20%5B-1.3657141918232198%2C%2036.766668829774794%5D%2C%20%5B-1.3649072399966002%2C%2036.742191622549896%5D%2C%20%5B-1.3646631184616398%2C%2036.911642058838396%5D%2C%20%5B-1.36455300990085%2C%2036.9112560029711%5D%2C%20%5B-1.36450887948184%2C%2036.9112947687754%5D%2C%20%5B-1.36413761018546%2C%2036.9121154031781%5D%2C%20%5B-1.36320571038219%2C%2036.7645840032304%5D%2C%20%5B-1.36309156037661%2C%2036.7643325532015%5D%2C%20%5B-1.3628914503092802%2C%2036.7645544892257%5D%2C%20%5B-1.36270000955497%2C%2037.393550003020295%5D%2C%20%5B-1.35977236030308%2C%2036.9073065531349%5D%2C%20%5B-1.35962991280179%2C%2036.907802062129896%5D%2C%20%5B-1.35954751040571%2C%2036.7470310033249%5D%2C%20%5B-1.35708161043235%2C%2036.7473578032439%5D%2C%20%5B-1.3560883402256398%2C%2036.9084173031925%5D%2C%20%5B-1.35604101041853%2C%2036.7620765032421%5D%2C%20%5B-1.35603958642827%2C%2036.7620823544166%5D%2C%20%5B-1.3554099979878%2C%2036.9067780932897%5D%2C%20%5B-1.35540760998705%2C%2036.9067854532026%5D%2C%20%5B-1.35447594521256%2C%2036.7618268916213%5D%2C%20%5B-1.35416879812393%2C%2036.9066845984142%5D%2C%20%5B-1.35401901023634%2C%2036.907381103195604%5D%2C%20%5B-1.3539030104914498%2C%2036.713090003259104%5D%2C%20%5B-1.3538746101326902%2C%2036.9867396031695%5D%2C%20%5B-1.3537080104479298%2C%2036.74708000324829%5D%2C%20%5B-1.35227817302708%2C%2036.7629537310735%5D%2C%20%5B-1.35226301043374%2C%2036.7628700032451%5D%2C%20%5B-1.3522471842738102%2C%2036.7629592711869%5D%2C%20%5B-1.34951195055821%2C%2036.904538221304996%5D%2C%20%5B-1.34797438779596%2C%2036.7466341217485%5D%2C%20%5B-1.34641371051296%2C%2036.72249690326571%5D%2C%20%5B-1.34536401037303%2C%2036.902474503745296%5D%2C%20%5B-1.3453435985574902%2C%2036.902495695366895%5D%2C%20%5B-1.3444590051428795%2C%2036.90255400160471%5D%2C%20%5B-1.34438868979863%2C%2036.9026322461547%5D%2C%20%5B-1.34390821948409%2C%2036.7661894656645%5D%2C%20%5B-1.34298367614799%2C%2036.7666776793119%5D%2C%20%5B-1.34296797047441%2C%2036.7665557232083%5D%2C%20%5B-1.34289751043608%2C%2036.7662525031594%5D%2C%20%5B-1.34288901060228%2C%2036.666389003288295%5D%2C%20%5B-1.34272949231757%2C%2036.7662729258648%5D%2C%20%5B-1.3426767252361202%2C%2036.7665419116281%5D%2C%20%5B-1.34153301048929%2C%2036.7574700032607%5D%2C%20%5B-1.34146931048874%2C%2036.758086703260496%5D%2C%20%5B-1.34079171061128%2C%2036.6667333032909%5D%2C%20%5B-1.33964306743467%2C%2036.7712767059398%5D%2C%20%5B-1.33911246048205%2C%2036.7713148532593%5D%2C%20%5B-1.33885518593746%2C%2036.739729417481996%5D%2C%20%5B-1.33858315758911%2C%2036.7726352729652%5D%2C%20%5B-1.33815701048342%2C%2036.773563003259795%5D%2C%20%5B-1.33804042048607%2C%2036.7719330632605%5D%2C%20%5B-1.33802764032233%2C%2036.7733510884317%5D%2C%20%5B-1.3372220103283898%2C%2036.8949320032214%5D%2C%20%5B-1.33683451056746%2C%2036.7157215032842%5D%2C%20%5B-1.3368097104953702%2C%2036.769094503263%5D%2C%20%5B-1.33597611048898%2C%2036.77685140326149%5D%2C%20%5B-1.33583299383184%2C%2036.77677045900921%5D%2C%20%5B-1.33496701049173%2C%2036.7781860032624%5D%2C%20%5B-1.33493461732294%2C%2036.8914356862728%5D%2C%20%5B-1.33443661035642%2C%2036.8831876032289%5D%2C%20%5B-1.33430683652177%2C%2036.7795050006036%5D%2C%20%5B-1.33429901049311%2C%2036.779501003262894%5D%2C%20%5B-1.33403907980639%2C%2036.673407888933895%5D%2C%20%5B-1.33369620810045%2C%2036.890105091250796%5D%2C%20%5B-1.33248886518084%2C%2036.8859229916152%5D%2C%20%5B-1.33247263814952%2C%2036.7820777721209%5D%2C%20%5B-1.33243423518036%2C%2036.8867261616151%5D%2C%20%5B-1.33221701063897%2C%2036.675211003299204%5D%2C%20%5B-1.33216402630475%2C%2036.889153628134%5D%2C%20%5B-1.33214931035888%2C%2036.8891662032299%5D%2C%20%5B-1.33213851049971%2C%2036.7818749032649%5D%2C%20%5B-1.33210371027724%2C%2036.9261807031491%5D%2C%20%5B-1.33210371027724%2C%2036.92618070314921%5D%2C%20%5B-1.33195702932342%2C%2036.7835609485933%5D%2C%20%5B-1.33167731036268%2C%2036.8878734032309%5D%2C%20%5B-1.33162901049976%2C%2036.7836040032649%5D%2C%20%5B-1.33160603039113%2C%2036.8664877932379%5D%2C%20%5B-1.33157554166341%2C%2036.7835747743418%5D%2C%20%5B-1.33143606788501%2C%2036.8885257668545%5D%2C%20%5B-1.33139815369328%2C%2036.8885547604%5D%2C%20%5B-1.33136020360679%2C%2036.862594325845606%5D%2C%20%5B-1.33131001040426%2C%2036.857537303241294%5D%2C%20%5B-1.33126011039466%2C%2036.864987003238895%5D%2C%20%5B-1.33113998904449%2C%2036.7164659545534%5D%2C%20%5B-1.33112251065352%2C%2036.6768415032955%5D%2C%20%5B-1.33112147474108%2C%2036.888840791095795%5D%2C%20%5B-1.33111291036403%2C%2036.888817503231294%5D%2C%20%5B-1.33107051110667%2C%2036.8576132414401%5D%2C%20%5B-1.33103541191162%2C%2036.8649529822679%5D%2C%20%5B-1.33099401040262%2C%2036.859842003241%5D%2C%20%5B-1.33099091040297%2C%2036.8595949032411%5D%2C%20%5B-1.33097902073254%2C%2036.8598433740401%5D%2C%20%5B-1.3309729105659098%2C%2036.735377203281395%5D%2C%20%5B-1.33095631537347%2C%2036.8595980706231%5D%2C%20%5B-1.33090440255687%2C%2036.8644741895724%5D%2C%20%5B-1.3308545104153102%2C%2036.86446750308671%5D%2C%20%5B-1.33082191337051%2C%2036.866381191345404%5D%2C%20%5B-1.33071455788853%2C%2036.8631006708374%5D%2C%20%5B-1.33070517179513%2C%2036.856743443365104%5D%2C%20%5B-1.33068664954922%2C%2036.8567072705749%5D%2C%20%5B-1.33030011031117%2C%2036.9318036032182%5D%2C%20%5B-1.330279477067%2C%2036.86794636992%5D%2C%20%5B-1.33025064952415%2C%2036.86655540173121%5D%2C%20%5B-1.33024541040502%2C%2036.86059000324161%5D%2C%20%5B-1.33024332040178%2C%2036.8630786932409%5D%2C%20%5B-1.33022435041273%2C%2036.8547856232436%5D%2C%20%5B-1.33014100937434%2C%2036.892389337843795%5D%2C%20%5B-1.32995104039855%2C%2036.8665185232401%5D%2C%20%5B-1.32993671085357%2C%2036.87100697240471%5D%2C%20%5B-1.3299110327535502%2C%2036.869947515292296%5D%2C%20%5B-1.3298706272473302%2C%2036.8557900831397%5D%2C%20%5B-1.32984076503722%2C%2036.8704367336497%5D%2C%20%5B-1.32983701041026%2C%2036.855809503272%5D%2C%20%5B-1.32983701041026%2C%2036.8558095032721%5D%2C%20%5B-1.32982793926421%2C%2036.8562824420995%5D%2C%20%5B-1.32969041039386%2C%2036.870994303239%5D%2C%20%5B-1.32968561626325%2C%2036.870993648863795%5D%2C%20%5B-1.3296215106447%2C%2036.680258503301296%5D%2C%20%5B-1.32956976574454%2C%2036.855826213763706%5D%2C%20%5B-1.32950807826891%2C%2036.8546250206525%5D%2C%20%5B-1.32947389920728%2C%2036.799646530880295%5D%2C%20%5B-1.32947156858073%2C%2036.8556562261524%5D%2C%20%5B-1.32941201080029%2C%2036.6807865032659%5D%2C%20%5B-1.32920204050277%2C%2036.834646051091106%5D%2C%20%5B-1.32919839227231%2C%2036.8745174526673%5D%2C%20%5B-1.3291903131653702%2C%2036.874575883693396%5D%2C%20%5B-1.32917187199291%2C%2036.884332166673396%5D%2C%20%5B-1.329137010416%2C%2036.8560730032446%5D%2C%20%5B-1.32911731037893%2C%2036.884352303235396%5D%2C%20%5B-1.3288553589561%2C%2036.881654089700106%5D%2C%20%5B-1.32880620040414%2C%2036.8662262032417%5D%2C%20%5B-1.3287670525694%2C%2036.788779836348%5D%2C%20%5B-1.3286435144046398%2C%2036.789275165202%5D%2C%20%5B-1.32861011059522%2C%2036.7892529032041%5D%2C%20%5B-1.32856016038097%2C%2036.8807830032392%5D%2C%20%5B-1.3285224027756002%2C%2036.880780019064396%5D%2C%20%5B-1.32850216365101%2C%2036.8529131200586%5D%2C%20%5B-1.3284381652535702%2C%2036.7889296616337%5D%2C%20%5B-1.3284273859478302%2C%2036.8826742564556%5D%2C%20%5B-1.32841341858299%2C%2036.881007953830206%5D%2C%20%5B-1.32835161039531%2C%2036.8744614032396%5D%2C%20%5B-1.32834076242482%2C%2036.8811599103441%5D%2C%20%5B-1.3282664103704198%2C%2036.8937106032334%5D%2C%20%5B-1.32824858775958%2C%2036.892454943779995%5D%2C%20%5B-1.32824496037202%2C%2036.8937696032329%5D%2C%20%5B-1.32818071038532%2C%2036.8827102032371%5D%2C%20%5B-1.32817001038555%2C%2036.88252800323721%5D%2C%20%5B-1.32815651050347%2C%2036.8707640046703%5D%2C%20%5B-1.32815651050347%2C%2036.8707640046704%5D%2C%20%5B-1.3281327492005%2C%2036.789469642333%5D%2C%20%5B-1.32797251579231%2C%2036.852378866063106%5D%2C%20%5B-1.3276933155463602%2C%2036.6912267328798%5D%2C%20%5B-1.32765601063872%2C%2036.691223003299996%5D%2C%20%5B-1.327616010644%2C%2036.691178003291%5D%2C%20%5B-1.32758571051182%2C%2036.7883463032686%5D%2C%20%5B-1.32750620446088%2C%2036.8522593730032%5D%2C%20%5B-1.32746659850345%2C%2036.8521909850858%5D%2C%20%5B-1.32726431051244%2C%2036.7889857032689%5D%2C%20%5B-1.32703951043904%2C%2036.84570152325061%5D%2C%20%5B-1.32682121043067%2C%2036.8528223032486%5D%2C%20%5B-1.32680141037528%2C%2036.895061203234796%5D%2C%20%5B-1.32664980829448%2C%2036.8456175957835%5D%2C%20%5B-1.32650741037665%2C%2036.8950668032352%5D%2C%20%5B-1.3262893522840702%2C%2036.85017070182621%5D%2C%20%5B-1.3261974102945%2C%2036.881100270584795%5D%2C%20%5B-1.32608411043732%2C%2036.8502903032504%5D%2C%20%5B-1.3260493104368798%2C%2036.8507624032503%5D%2C%20%5B-1.32603001037566%2C%2036.897443003235104%5D%2C%20%5B-1.32573201046028%2C%2036.8340140032561%5D%2C%20%5B-1.32567794462265%2C%2036.8480729403738%5D%2C%20%5B-1.32564729985673%2C%2036.8480934290034%5D%2C%20%5B-1.3256413104421798%2C%2036.848093603251705%5D%2C%20%5B-1.32559992705083%2C%2036.7944915304479%5D%2C%20%5B-1.32559992705075%2C%2036.7944915304479%5D%2C%20%5B-1.32540219602396%2C%2036.8481301588456%5D%2C%20%5B-1.3253865103345002%2C%2036.8481390031765%5D%2C%20%5B-1.32538595229829%2C%2036.8486406420873%5D%2C%20%5B-1.32529617157152%2C%2036.8484841583916%5D%2C%20%5B-1.32525649004709%2C%2036.8484147308422%5D%2C%20%5B-1.32500330935852%2C%2036.847435278904%5D%2C%20%5B-1.32498431044453%2C%2036.8485683032524%5D%2C%20%5B-1.32496471052934%2C%2036.7840344032735%5D%2C%20%5B-1.32493171052967%2C%2036.7838831032735%5D%2C%20%5B-1.3248743104000702%2C%2036.8828144032413%5D%2C%20%5B-1.32476451037822%2C%2036.8998575032359%5D%2C%20%5B-1.32476354522476%2C%2036.8455176316269%5D%2C%20%5B-1.3247228103822%2C%2036.8969449032369%5D%2C%20%5B-1.3244051103839298%2C%2036.8967462032374%5D%2C%20%5B-1.32433501038079%2C%2036.8993600032366%5D%2C%20%5B-1.32418551039333%2C%2036.890361103239705%5D%2C%20%5B-1.32417101045352%2C%2036.8445910032548%5D%2C%20%5B-1.3239198105140602%2C%2036.799306903269795%5D%2C%20%5B-1.32385994649529%2C%2036.799294920465705%5D%2C%20%5B-1.32384592209357%2C%2036.799363483433%5D%2C%20%5B-1.32377731039773%2C%2036.888363203241%5D%2C%20%5B-1.32377085348256%2C%2036.8448302449307%5D%2C%20%5B-1.32375094669638%2C%2036.7979303498989%5D%2C%20%5B-1.32371549199332%2C%2036.9000975773211%5D%2C%20%5B-1.32371301079058%2C%2036.9000985033684%5D%2C%20%5B-1.32368091045594%2C%2036.8443572032554%5D%2C%20%5B-1.32353649834444%2C%2036.84444245058421%5D%2C%20%5B-1.32350121828217%2C%2036.8453691569409%5D%2C%20%5B-1.32343962050059%2C%2036.7080832744743%5D%2C%20%5B-1.32342911054229%2C%2036.779471603276896%5D%2C%20%5B-1.3233958405087%2C%2036.8052061432686%5D%2C%20%5B-1.32322964997514%2C%2036.8476272727411%5D%2C%20%5B-1.32319341039143%2C%2036.895146503239495%5D%2C%20%5B-1.32317588551529%2C%2036.8020086532772%5D%2C%20%5B-1.32317288967724%2C%2036.8020081799153%5D%2C%20%5B-1.32301041038723%2C%2036.8989828032384%5D%2C%20%5B-1.32299165038734%2C%2036.8989878132385%5D%2C%20%5B-1.32290001062921%2C%2036.7149000032985%5D%2C%20%5B-1.32284989668956%2C%2036.84773842197%5D%2C%20%5B-1.32282808374833%2C%2036.8026388708516%5D%2C%20%5B-1.32279401038794%2C%2036.8991980032387%5D%2C%20%5B-1.32278741051484%2C%2036.8026312032702%5D%2C%20%5B-1.32255536567292%2C%2036.8430479168481%5D%2C%20%5B-1.32254706026042%2C%2036.8430337529755%5D%2C%20%5B-1.32231221051839%2C%2036.8015425032711%5D%2C%20%5B-1.32226669039538%2C%2036.7074828730928%5D%2C%20%5B-1.32219182576204%2C%2036.8422086171289%5D%2C%20%5B-1.32217496037719%2C%2036.707379965551794%5D%2C%20%5B-1.32217496037711%2C%2036.707379965551794%5D%2C%20%5B-1.3221310434486298%2C%2036.707482226331%5D%2C%20%5B-1.32210911048817%2C%2036.8252478032637%5D%2C%20%5B-1.32210301048353%2C%2036.82881000326249%5D%2C%20%5B-1.32198488982064%2C%2036.8693570539623%5D%2C%20%5B-1.32185638522924%2C%2036.84873594162821%5D%2C%20%5B-1.3217719104949%2C%2036.8213228032654%5D%2C%20%5B-1.3217454795418502%2C%2036.8424447037952%5D%2C%20%5B-1.32167843008451%2C%2036.70679351268279%5D%2C%20%5B-1.32164847927276%2C%2036.8412999571567%5D%2C%20%5B-1.32122834887827%2C%2036.808475269879295%5D%2C%20%5B-1.3211051915468%2C%2036.8413261931776%5D%2C%20%5B-1.32105691048958%2C%2036.827818703264214%5D%2C%20%5B-1.32104391046616%2C%2036.8456789032584%5D%2C%20%5B-1.32096487707181%2C%2036.8492418659784%5D%2C%20%5B-1.32072108051712%2C%2036.8079734432712%5D%2C%20%5B-1.32068951039982%2C%2036.897402903242%5D%2C%20%5B-1.32063422774179%2C%2036.8501789285589%5D%2C%20%5B-1.32044791051654%2C%2036.809343103271%5D%2C%20%5B-1.32041000980289%2C%2037.3498400030907%5D%2C%20%5B-1.32040310282%2C%2036.8092987761901%5D%2C%20%5B-1.3202940106374%2C%2036.717692003300904%5D%2C%20%5B-1.32029041051595%2C%2036.8103495032709%5D%2C%20%5B-1.32027301063747%2C%2036.717670003301%5D%2C%20%5B-1.3196468104826298%2C%2036.837973603262704%5D%2C%20%5B-1.3196468104826298%2C%2036.837973603262796%5D%2C%20%5B-1.31963276778804%2C%2036.8379822621182%5D%2C%20%5B-1.31952400045657%2C%2036.858247693256295%5D%2C%20%5B-1.31948271039876%2C%2036.9074729699037%5D%2C%20%5B-1.31944226050542%2C%2036.83803600324129%5D%2C%20%5B-1.3194036668723998%2C%2036.8380324021817%5D%2C%20%5B-1.31940341047921%2C%2036.8413945032619%5D%2C%20%5B-1.3193163667093302%2C%2036.8383030150389%5D%2C%20%5B-1.31927811048384%2C%2036.8383276032631%5D%2C%20%5B-1.31873235843111%2C%2036.7708489735779%5D%2C%20%5B-1.31872897606098%2C%2036.81096434090321%5D%2C%20%5B-1.31862369039688%2C%2036.9067678832415%5D%2C%20%5B-1.31860926007925%2C%2036.8114452955401%5D%2C%20%5B-1.3186054478138602%2C%2036.836278115861504%5D%2C%20%5B-1.3185899367344098%2C%2036.811425553731496%5D%2C%20%5B-1.31858631048657%2C%2036.838585103263895%5D%2C%20%5B-1.31833701064885%2C%2036.7156530033041%5D%2C%20%5B-1.31803462407268%2C%2036.788159573382295%5D%2C%20%5B-1.3178789098046202%2C%2036.8151886030309%5D%2C%20%5B-1.31782632826419%2C%2036.7774232427875%5D%2C%20%5B-1.31747581065046%2C%2036.7174301033046%5D%2C%20%5B-1.3174299951238402%2C%2036.784655286764796%5D%2C%20%5B-1.31669599483094%2C%2036.813500165725%5D%2C%20%5B-1.31668571052813%2C%2036.8134904032745%5D%2C%20%5B-1.31659931049483%2C%2036.8338161532564%5D%2C%20%5B-1.31658533647308%2C%2036.833825221504796%5D%2C%20%5B-1.31652901050123%2C%2036.8345390032679%5D%2C%20%5B-1.31616891042251%2C%2036.8957256032484%5D%2C%20%5B-1.31614230563724%2C%2036.8138276524915%5D%2C%20%5B-1.31613217730544%2C%2036.813817070016704%5D%2C%20%5B-1.31608931086075%2C%2036.8040961521543%5D%2C%20%5B-1.3160098148403%2C%2036.8137448763399%5D%2C%20%5B-1.31571465053256%2C%2036.8134768232759%5D%2C%20%5B-1.31552601051933%2C%2036.8241710032726%5D%2C%20%5B-1.31540251525513%2C%2036.83156518163521%5D%2C%20%5B-1.31538281021621%2C%2036.894604953231%5D%2C%20%5B-1.3149200609351002%2C%2036.7781355534372%5D%2C%20%5B-1.31441178066421%2C%2036.8940180627379%5D%2C%20%5B-1.31440286025802%2C%2036.8940320532209%5D%2C%20%5B-1.31436364112676%2C%2036.807905517547496%5D%2C%20%5B-1.31435138551052%2C%2036.807908528274496%5D%2C%20%5B-1.3142925104319598%2C%2036.8949564032511%5D%2C%20%5B-1.31426401043282%2C%2036.8943840032513%5D%2C%20%5B-1.31425632253546%2C%2036.80772548296021%5D%2C%20%5B-1.31422904161813%2C%2036.80747247306479%5D%2C%20%5B-1.31409581051658%2C%2036.8312681032721%5D%2C%20%5B-1.31393729812557%2C%2036.854827286091705%5D%2C%20%5B-1.31391921051921%2C%2036.82986620327279%5D%2C%20%5B-1.31361001039478%2C%2036.9255400032419%5D%2C%20%5B-1.31360928494901%2C%2036.8069608431573%5D%2C%20%5B-1.31339624300143%2C%2036.8933993697811%5D%2C%20%5B-1.31339421044283%2C%2036.8897375032539%5D%2C%20%5B-1.31337206765423%2C%2036.8135945701177%5D%2C%20%5B-1.31320224663879%2C%2036.8135503593374%5D%2C%20%5B-1.31317271603228%2C%2036.830567651359786%5D%2C%20%5B-1.31316459976695%2C%2036.854151307087605%5D%2C%20%5B-1.31292787052362%2C%2036.82984563327409%5D%2C%20%5B-1.31292443247551%2C%2036.8299877497527%5D%2C%20%5B-1.31287330853706%2C%2036.829964111877295%5D%2C%20%5B-1.31261191044238%2C%2036.892830103254%5D%2C%20%5B-1.3125250110951898%2C%2036.923936669987796%5D%2C%20%5B-1.31246188287337%2C%2036.830222681399604%5D%2C%20%5B-1.31243005753661%2C%2036.829757209895504%5D%2C%20%5B-1.31230060155683%2C%2036.8158848997037%5D%2C%20%5B-1.3122653105434%2C%2036.8170885032791%5D%2C%20%5B-1.31212301061965%2C%2036.8167820035525%5D%2C%20%5B-1.31201866126765%2C%2036.815807803435895%5D%2C%20%5B-1.3118332104938302%2C%2036.856309703266895%5D%2C%20%5B-1.3116996105976102%2C%2036.7777297032926%5D%2C%20%5B-1.31161432315417%2C%2036.92547930163421%5D%2C%20%5B-1.31160316052791%2C%2036.8337581532747%5D%2C%20%5B-1.31159417520197%2C%2036.925471211622295%5D%2C%20%5B-1.3115803511066002%2C%2036.9254745716456%5D%2C%20%5B-1.31153181059852%2C%2036.7776414032929%5D%2C%20%5B-1.31145241565071%2C%2036.7737310083056%5D%2C%20%5B-1.31140226047742%2C%2036.8703277532629%5D%2C%20%5B-1.31105531064271%2C%2036.745584903303794%5D%2C%20%5B-1.31095331050932%2C%2036.8476114032708%5D%2C%20%5B-1.31091181052433%2C%2036.8362704032747%5D%2C%20%5B-1.31083197094919%2C%2036.8054493003986%5D%2C%20%5B-1.3107593053357098%2C%2036.7246654316555%5D%2C%20%5B-1.31075901057298%2C%2036.7997843032866%5D%2C%20%5B-1.31074001050821%2C%2036.848055503274004%5D%2C%20%5B-1.31070301052645%2C%2036.8354270032751%5D%2C%20%5B-1.3106566576446002%2C%2036.8054806097211%5D%2C%20%5B-1.31060994055493%2C%2036.81403659328221%5D%2C%20%5B-1.31059181788713%2C%2036.8021053823729%5D%2C%20%5B-1.3104794782508702%2C%2036.8052672228883%5D%2C%20%5B-1.31045966184497%2C%2036.837333689648794%5D%2C%20%5B-1.31031126045252%2C%2036.8915215032592%5D%2C%20%5B-1.31021340464528%2C%2036.8305260913453%5D%2C%20%5B-1.30975131061225%2C%2036.7732658032966%5D%2C%20%5B-1.30934820719567%2C%2036.8288096654417%5D%2C%20%5B-1.30921751767361%2C%2036.7278085643515%5D%2C%20%5B-1.30904821060413%2C%2036.7819396032946%5D%2C%20%5B-1.3089846205338798%2C%2036.835691743277295%5D%2C%20%5B-1.30897181043213%2C%2036.913099603252%5D%2C%20%5B-1.30895934047407%2C%2036.8812967332624%5D%2C%20%5B-1.30888281071787%2C%2036.695711403322704%5D%2C%20%5B-1.3088592105308898%2C%2036.8383676032766%5D%2C%20%5B-1.30880451057543%2C%2036.8046658032876%5D%2C%20%5B-1.30818112220642%2C%2036.7331291504391%5D%2C%20%5B-1.3080976295985802%2C%2036.73309849608121%5D%2C%20%5B-1.30791722197195%2C%2036.81942218804829%5D%2C%20%5B-1.30790591056012%2C%2036.819396603284%5D%2C%20%5B-1.30788090711074%2C%2036.8192863622884%5D%2C%20%5B-1.30787463558426%2C%2036.81927052828679%5D%2C%20%5B-1.3074246107279%2C%2036.8231642364959%5D%2C%20%5B-1.30733248529152%2C%2036.803918611644896%5D%2C%20%5B-1.30708801053304%2C%2036.8428190032774%5D%2C%20%5B-1.30701291056382%2C%2036.819648703285104%5D%2C%20%5B-1.30700081043057%2C%2036.921059003252%5D%2C%20%5B-1.30684241053743%2C%2036.84032170327861%5D%2C%20%5B-1.30671641047409%2C%2036.8889669032628%5D%2C%20%5B-1.30659351069052%2C%2036.7384770033044%5D%2C%20%5B-1.30658421054238%2C%2036.837467303279794%5D%2C%20%5B-1.30604733582578%2C%2036.8272218633863%5D%2C%20%5B-1.30580351069123%2C%2036.7423515032889%5D%2C%20%5B-1.30576091270094%2C%2036.8220123247268%5D%2C%20%5B-1.30574451056203%2C%2036.8269348366087%5D%2C%20%5B-1.30574451056194%2C%2036.8269348366087%5D%2C%20%5B-1.30570898567388%2C%2036.8264403280137%5D%2C%20%5B-1.30561891062837%2C%2036.775310203301295%5D%2C%20%5B-1.30561101044215%2C%2036.9170670032551%5D%2C%20%5B-1.30560893177815%2C%2036.8268077633689%5D%2C%20%5B-1.30548101055136%2C%2036.8344243032823%5D%2C%20%5B-1.3054794106316%2C%2036.7732841033021%5D%2C%20%5B-1.30547201057488%2C%2036.8251278032412%5D%2C%20%5B-1.3054720105748%2C%2036.8251278032412%5D%2C%20%5B-1.305448430266%2C%2036.8251233957553%5D%2C%20%5B-1.30542581063206%2C%2036.7731714033022%5D%2C%20%5B-1.30529097527718%2C%2036.832765181641506%5D%2C%20%5B-1.30525330521893%2C%2036.8248328853689%5D%2C%20%5B-1.30525219528147%2C%2036.82638832164261%5D%2C%20%5B-1.30523191497456%2C%2036.826381608020704%5D%2C%20%5B-1.30517056528167%2C%2036.82638467164261%5D%2C%20%5B-1.30510968528176%2C%2036.8264456816426%5D%2C%20%5B-1.30509311056377%2C%2036.8262788032853%5D%2C%20%5B-1.30502661052973%2C%2036.85247560327689%5D%2C%20%5B-1.30497060516157%2C%2036.826691274817705%5D%2C%20%5B-1.30495191055657%2C%2036.8322839032836%5D%2C%20%5B-1.30494247805048%2C%2036.8267611198784%5D%2C%20%5B-1.3049175183178998%2C%2036.8265130020267%5D%2C%20%5B-1.30491751831779%2C%2036.8265130020267%5D%2C%20%5B-1.30488201017637%2C%2036.8265053802256%5D%2C%20%5B-1.30478929127769%2C%2036.8262104410512%5D%2C%20%5B-1.30468131053915%2C%2036.8464614032794%5D%2C%20%5B-1.30441615527509%2C%2036.8390368916411%5D%2C%20%5B-1.30437141056867%2C%2036.82507760328671%5D%2C%20%5B-1.30435428694328%2C%2036.826440543825896%5D%2C%20%5B-1.30435347294918%2C%2036.74619879244001%5D%2C%20%5B-1.3042342150021002%2C%2036.8273821391271%5D%2C%20%5B-1.30421301055069%2C%2036.8393020032823%5D%2C%20%5B-1.30360101056916%2C%2036.827346003287%5D%2C%20%5B-1.30336441051346%2C%2036.8705571032732%5D%2C%20%5B-1.30311800732796%2C%2036.8257212538964%5D%2C%20%5B-1.30293901057406%2C%2036.825912003288295%5D%2C%20%5B-1.30290182864644%2C%2036.8023843279641%5D%2C%20%5B-1.30250461040879%2C%2036.9530725032473%5D%2C%20%5B-1.30241366534144%2C%2036.8879474327601%5D%2C%20%5B-1.3024026838903602%2C%2036.83130470062%5D%2C%20%5B-1.30226901045504%2C%2036.9157555032524%5D%2C%20%5B-1.3021744803689%2C%2036.8878821827074%5D%2C%20%5B-1.30214351058975%2C%2036.8167432032923%5D%2C%20%5B-1.30208071064359%2C%2036.7759077033056%5D%2C%20%5B-1.3020356104960702%2C%2036.888384703269104%5D%2C%20%5B-1.30198766911029%2C%2036.7532779215299%5D%2C%20%5B-1.30196166056471%2C%2036.83640472328621%5D%2C%20%5B-1.30194912619738%2C%2036.8263198578383%5D%2C%20%5B-1.30168471049555%2C%2036.889984303269%5D%2C%20%5B-1.3016185696331102%2C%2036.7537239973202%5D%2C%20%5B-1.30130261058807%2C%2036.820903303292%5D%2C%20%5B-1.30118976053078%2C%2036.88786050335671%5D%2C%20%5B-1.3007974105968898%2C%2036.8159482032943%5D%2C%20%5B-1.30073431067379%2C%2036.7575071033134%5D%2C%20%5B-1.30072701063932%2C%2036.7838140033049%5D%2C%20%5B-1.3006578264221%2C%2036.7565600154701%5D%2C%20%5B-1.3003610132414198%2C%2036.7736013970563%5D%2C%20%5B-1.3003088049224398%2C%2036.7729687738064%5D%2C%20%5B-1.30028241060545%2C%2036.8112074032965%5D%2C%20%5B-1.30025660528079%2C%2036.7678598884096%5D%2C%20%5B-1.30025042434536%2C%2036.81260116133011%5D%2C%20%5B-1.30011360431976%2C%2036.780501841557104%5D%2C%20%5B-1.3001044196125702%2C%2036.7802765877704%5D%2C%20%5B-1.30009508529484%2C%2036.8238981216464%5D%2C%20%5B-1.30008928063416%2C%2036.7899738633036%5D%2C%20%5B-1.30006761064931%2C%2036.7806281032473%5D%2C%20%5B-1.30005060388468%2C%2036.78180883977871%5D%2C%20%5B-1.30002101060628%2C%2036.81147000329671%5D%2C%20%5B-1.30002049047537%2C%2036.7806251939048%5D%2C%20%5B-1.3000134606373202%2C%2036.7878026933044%5D%2C%20%5B-1.30001309532751%2C%2036.7743149616544%5D%2C%20%5B-1.30001032585924%2C%2036.7666678987079%5D%2C%20%5B-1.3000049152866202%2C%2036.8367241816443%5D%2C%20%5B-1.29995168885473%2C%2036.7837743530607%5D%2C%20%5B-1.29990335841306%2C%2036.824151932%5D%2C%20%5B-1.29983200532301%2C%2036.78177316165329%5D%2C%20%5B-1.2998171182300902%2C%2036.7903358049659%5D%2C%20%5B-1.29980462759392%2C%2036.8241358337442%5D%2C%20%5B-1.29979518529539%2C%2036.8239847016465%5D%2C%20%5B-1.2997575265855%2C%2036.8272052982249%5D%2C%20%5B-1.29975405419798%2C%2036.789901339061295%5D%2C%20%5B-1.2997432271814902%2C%2036.7872420246579%5D%2C%20%5B-1.29971093529543%2C%2036.8242031416465%5D%2C%20%5B-1.29970801063929%2C%2036.787362003305%5D%2C%20%5B-1.2996986426813602%2C%2036.80728913514071%5D%2C%20%5B-1.29966096675361%2C%2036.8368539541413%5D%2C%20%5B-1.29963060062864%2C%2036.8050332962046%5D%2C%20%5B-1.29959172529563%2C%2036.8243104116466%5D%2C%20%5B-1.29958331172617%2C%2036.8244172370556%5D%2C%20%5B-1.29950881063925%2C%2036.788089903305%5D%2C%20%5B-1.29949411003745%2C%2036.7651366903357%5D%2C%20%5B-1.29946055997662%2C%2036.793464980777394%5D%2C%20%5B-1.29945911059124%2C%2036.82486560329321%5D%2C%20%5B-1.29941801059736%2C%2036.820351003294704%5D%2C%20%5B-1.29941764956175%2C%2036.886100766969%5D%2C%20%5B-1.29914701063602%2C%2036.79177150330421%5D%2C%20%5B-1.29914280926961%2C%2036.8067951518385%5D%2C%20%5B-1.29913201605588%2C%2036.7627633352296%5D%2C%20%5B-1.29909280706047%2C%2036.805056254846%5D%2C%20%5B-1.29907861064208%2C%2036.7874535033058%5D%2C%20%5B-1.2990629705111%2C%2036.8242166831404%5D%2C%20%5B-1.2989847583044498%2C%2036.8238621383278%5D%2C%20%5B-1.29892435544671%2C%2036.7691932753059%5D%2C%20%5B-1.29891916705012%2C%2036.837485943617395%5D%2C%20%5B-1.2989160564512%2C%2036.7690784393861%5D%2C%20%5B-1.29891501063502%2C%2036.837480003284%5D%2C%20%5B-1.29890843093488%2C%2036.779397694129%5D%2C%20%5B-1.29889108589821%2C%2036.7605151217966%5D%2C%20%5B-1.2988905352761202%2C%2036.798080872932%5D%2C%20%5B-1.29886121058061%2C%2036.837009003289296%5D%2C%20%5B-1.29882917680413%2C%2036.761996342097895%5D%2C%20%5B-1.29880773290806%2C%2036.7834896912985%5D%2C%20%5B-1.29874134709814%2C%2036.7985837304948%5D%2C%20%5B-1.2986499106241598%2C%2036.802562403301394%5D%2C%20%5B-1.29860819533962%2C%2036.7607322116575%5D%2C%20%5B-1.29859508401053%2C%2036.7989891934987%5D%2C%20%5B-1.29856840942822%2C%2036.8062442684866%5D%2C%20%5B-1.29850527767285%2C%2036.808587962683895%5D%2C%20%5B-1.29849911059123%2C%2036.8281573032934%5D%2C%20%5B-1.2984950105074098%2C%2036.8871050033356%5D%2C%20%5B-1.29837096287752%2C%2036.7614336418966%5D%2C%20%5B-1.29835777705315%2C%2036.8864014706279%5D%2C%20%5B-1.29832666059382%2C%2036.826756143294%5D%2C%20%5B-1.29829701071919%2C%2036.7590906697103%5D%2C%20%5B-1.29826913843896%2C%2036.886815128789294%5D%2C%20%5B-1.29826541531284%2C%2036.802744461650896%5D%2C%20%5B-1.2981747599023898%2C%2036.8006529216%5D%2C%20%5B-1.29816716531844%2C%2036.8029120166476%5D%2C%20%5B-1.29809476403448%2C%2036.8290563127929%5D%2C%20%5B-1.29806501053637%2C%2036.8713782032798%5D%2C%20%5B-1.29804754066547%2C%2036.7724246983208%5D%2C%20%5B-1.2980200772785502%2C%2036.8049511059601%5D%2C%20%5B-1.29793013415243%2C%2036.8292224682651%5D%2C%20%5B-1.2979148106316898%2C%2036.7993551033034%5D%2C%20%5B-1.29790518534349%2C%2036.7572243316585%5D%2C%20%5B-1.29787471928995%2C%2036.8708324536266%5D%2C%20%5B-1.29781575908749%2C%2036.8680084341395%5D%2C%20%5B-1.2978036408403602%2C%2036.871342227753%5D%2C%20%5B-1.29773491051843%2C%2036.8861461032754%5D%2C%20%5B-1.29772101060873%2C%2036.8175220032977%5D%2C%20%5B-1.2977187316768102%2C%2036.7913526922825%5D%2C%20%5B-1.29769782625626%2C%2036.8697004335855%5D%2C%20%5B-1.29765981063178%2C%2036.804424553281606%5D%2C%20%5B-1.29765905595187%2C%2036.8049505946763%5D%2C%20%5B-1.29764465272662%2C%2036.8671418287027%5D%2C%20%5B-1.2976178424321798%2C%2036.87267476813951%5D%2C%20%5B-1.29759102337058%2C%2036.8050194299469%5D%2C%20%5B-1.29758831053682%2C%2036.87267070328%5D%2C%20%5B-1.29750117716861%2C%2036.8858027698886%5D%2C%20%5B-1.29724590906402%2C%2036.8730924876085%5D%2C%20%5B-1.2970562500289098%2C%2036.86426711274579%5D%2C%20%5B-1.29701801062419%2C%2036.8027588533256%5D%2C%20%5B-1.2970143834143%2C%2036.875657998600296%5D%2C%20%5B-1.2970143834142198%2C%2036.875657998600296%5D%2C%20%5B-1.2969679606938702%2C%2036.8756516282502%5D%2C%20%5B-1.29693941053596%2C%2036.8755764032799%5D%2C%20%5B-1.2969230107011398%2C%2036.7498610033207%5D%2C%20%5B-1.29691499633941%2C%2036.87557309012271%5D%2C%20%5B-1.29685608617612%2C%2036.8760016204363%5D%2C%20%5B-1.2968503379966498%2C%2036.8767455544297%5D%2C%20%5B-1.29684124520002%2C%2036.8643486297074%5D%2C%20%5B-1.29682437262191%2C%2036.8762323141249%5D%2C%20%5B-1.29681331444998%2C%2036.876311789467394%5D%2C%20%5B-1.29680751087495%2C%2036.8046355704211%5D%2C%20%5B-1.29680441045572%2C%2036.8643599188759%5D%2C%20%5B-1.29680129208613%2C%2036.877943486304105%5D%2C%20%5B-1.29678099047001%2C%2036.8635962806804%5D%2C%20%5B-1.29676672621474%2C%2036.8073000465585%5D%2C%20%5B-1.2967585109463502%2C%2036.8072980031809%5D%2C%20%5B-1.29671392142193%2C%2036.8636102187983%5D%2C%20%5B-1.2966532044075%2C%2036.807634212245496%5D%2C%20%5B-1.29664527205793%2C%2036.86221512292449%5D%2C%20%5B-1.2964346315246598%2C%2036.756054809061204%5D%2C%20%5B-1.29640017156052%2C%2036.8792869138737%5D%2C%20%5B-1.2963727105559%2C%2036.8624112032849%5D%2C%20%5B-1.29629481541933%2C%2036.7744803151837%5D%2C%20%5B-1.2962923236790902%2C%2036.8850661508745%5D%2C%20%5B-1.29625596802492%2C%2036.8086177499964%5D%2C%20%5B-1.2962131653137%2C%2036.808434031651394%5D%2C%20%5B-1.2961928539383798%2C%2036.8070891123218%5D%2C%20%5B-1.29612840566994%2C%2036.881095623687294%5D%2C%20%5B-1.2960957583149%2C%2036.8853654378624%5D%2C%20%5B-1.29596150494695%2C%2036.8605943678061%5D%2C%20%5B-1.29595969529771%2C%2036.7818894617969%5D%2C%20%5B-1.29594671346797%2C%2036.77434540832649%5D%2C%20%5B-1.2957240106376002%2C%2036.8023940033052%5D%2C%20%5B-1.2956448330026398%2C%2036.8861052424328%5D%2C%20%5B-1.29562818966838%2C%2036.755577798644794%5D%2C%20%5B-1.29556001064411%2C%2036.7980230033069%5D%2C%20%5B-1.2955355106433002%2C%2036.7987641033066%5D%2C%20%5B-1.2954930372849298%2C%2036.8571190624599%5D%2C%20%5B-1.2954930372849298%2C%2036.85711906246%5D%2C%20%5B-1.2953389107141102%2C%2036.74542670332421%5D%2C%20%5B-1.29529028492155%2C%2036.8555465298765%5D%2C%20%5B-1.29524853284831%2C%2036.855139484452295%5D%2C%20%5B-1.2951706126313702%2C%2036.8346023607502%5D%2C%20%5B-1.2951557196265402%2C%2036.821910797549705%5D%2C%20%5B-1.29514351061458%2C%2036.821932503299706%5D%2C%20%5B-1.29510439374221%2C%2036.8023355431558%5D%2C%20%5B-1.29509721071999%2C%2036.7417716033256%5D%2C%20%5B-1.29495047719716%2C%2036.8870860699421%5D%2C%20%5B-1.29494031064675%2C%2036.7981901033076%5D%2C%20%5B-1.29488265528572%2C%2036.8557025016446%5D%2C%20%5B-1.29483071066165%2C%2036.7871865033113%5D%2C%20%5B-1.29482331071371%2C%2036.74756940332311%5D%2C%20%5B-1.29472581057889%2C%2036.850531103291004%5D%2C%20%5B-1.29470828696787%2C%2036.8529415371544%5D%2C%20%5B-1.29468466818872%2C%2036.8530788318762%5D%2C%20%5B-1.2946573706416102%2C%2036.803061433306496%5D%2C%20%5B-1.29463801064868%2C%2036.79772700330821%5D%2C%20%5B-1.29449001063027%2C%2036.812269003303705%5D%2C%20%5B-1.29423001054974%2C%2036.878990003281295%5D%2C%20%5B-1.29421186155943%2C%2036.754503399091796%5D%2C%20%5B-1.29420390652151%2C%2036.8506469272006%5D%2C%20%5B-1.2941960061393898%2C%2036.851290828315896%5D%2C%20%5B-1.29413006526578%2C%2036.88852106163971%5D%2C%20%5B-1.29409973258449%2C%2036.796085537529%5D%2C%20%5B-1.29404611052056%2C%2036.8884878867855%5D%2C%20%5B-1.29399977272201%2C%2036.8517846537665%5D%2C%20%5B-1.2939946297718898%2C%2036.851187179946706%5D%2C%20%5B-1.29386441069919%2C%2036.7619064033208%5D%2C%20%5B-1.29386419058198%2C%2036.851211283291796%5D%2C%20%5B-1.29365581067076%2C%2036.7842893033138%5D%2C%20%5B-1.29362534405444%2C%2036.851853669954%5D%2C%20%5B-1.29348731064168%2C%2036.807053603306606%5D%2C%20%5B-1.2933888426971298%2C%2036.816564831381%5D%2C%20%5B-1.29338801062385%2C%2036.820963003302296%5D%2C%20%5B-1.29334756461348%2C%2036.8176647053767%5D%2C%20%5B-1.29326161053059%2C%2036.943814853281395%5D%2C%20%5B-1.29325061910418%2C%2036.7861141539607%5D%2C%20%5B-1.29311191066352%2C%2036.7917109033121%5D%2C%20%5B-1.29310682687456%2C%2036.8896220602401%5D%2C%20%5B-1.2931026548606002%2C%2036.845616469102%5D%2C%20%5B-1.2930400105930502%2C%2036.8456300032947%5D%2C%20%5B-1.29290817382935%2C%2036.774272282681%5D%2C%20%5B-1.29290501074623%2C%2036.8184778032725%5D%2C%20%5B-1.29288321066935%2C%2036.7880683033136%5D%2C%20%5B-1.29285451067018%2C%2036.7875266033138%5D%2C%20%5B-1.2928074204608602%2C%2036.7745039028485%5D%2C%20%5B-1.29275881127045%2C%2036.8422218031572%5D%2C%20%5B-1.29273708531355%2C%2036.8206529516516%5D%2C%20%5B-1.29273331086754%2C%2036.8205207351994%5D%2C%20%5B-1.29268021062771%2C%2036.820459403303396%5D%2C%20%5B-1.29267960344216%2C%2036.7789190359711%5D%2C%20%5B-1.29266281066697%2C%2036.790645303313106%5D%2C%20%5B-1.29257679969899%2C%2036.843397365539396%5D%2C%20%5B-1.29255501067502%2C%2036.7848933033151%5D%2C%20%5B-1.29243908676206%2C%2036.8053045046103%5D%2C%20%5B-1.29240861255689%2C%2036.84398099683671%5D%2C%20%5B-1.29237418940374%2C%2036.8217224816028%5D%2C%20%5B-1.29234001067446%2C%2036.786012003315%5D%2C%20%5B-1.29233331390836%2C%2036.8129445089207%5D%2C%20%5B-1.29233221063902%2C%2036.812942853306495%5D%2C%20%5B-1.29228787431091%2C%2036.8423884423268%5D%2C%20%5B-1.2922842989156202%2C%2036.84341453505071%5D%2C%20%5B-1.29226291890847%2C%2036.787228791938894%5D%2C%20%5B-1.29225650429976%2C%2036.8212926988533%5D%2C%20%5B-1.29220901064852%2C%2036.80625900330861%5D%2C%20%5B-1.29217401059561%2C%2036.7878554030086%5D%2C%20%5B-1.29214121052509%2C%2036.900383203278%5D%2C%20%5B-1.29207711056475%2C%2036.8704531032879%5D%2C%20%5B-1.2920604106219%2C%2036.827039203302%5D%2C%20%5B-1.291980540608%2C%2036.8061343833569%5D%2C%20%5B-1.29192813904035%2C%2036.8056978857%5D%2C%20%5B-1.29191771055097%2C%2036.8814576032845%5D%2C%20%5B-1.29190175567309%2C%2036.841040420071295%5D%2C%20%5B-1.29189991064314%2C%2036.81140900330721%5D%2C%20%5B-1.29188452754524%2C%2036.808183789958704%5D%2C%20%5B-1.29181981067408%2C%2036.788104003315%5D%2C%20%5B-1.2917295933676798%2C%2036.8229846911196%5D%2C%20%5B-1.29165483012473%2C%2036.8412743981474%5D%2C%20%5B-1.29161021530259%2C%2036.841347781649%5D%2C%20%5B-1.2916022606664%2C%2036.795166853314%5D%2C%20%5B-1.29143601069131%2C%2036.776305003319294%5D%2C%20%5B-1.29142321071912%2C%2036.7551490033261%5D%2C%20%5B-1.29140411064506%2C%2036.81165270330779%5D%2C%20%5B-1.2914025406687%2C%2036.8240474333048%5D%2C%20%5B-1.29140101069447%2C%2036.77399710332%5D%2C%20%5B-1.29137401074748%2C%2036.7336900033331%5D%2C%20%5B-1.29132001063079%2C%2036.82282900330429%5D%2C%20%5B-1.29116821532126%2C%2036.8144020416536%5D%2C%20%5B-1.2910365994701498%2C%2036.8234563549755%5D%2C%20%5B-1.29099351062532%2C%2036.828092303302995%5D%2C%20%5B-1.29093132277851%2C%2036.8081568355935%5D%2C%20%5B-1.29087821062952%2C%2036.8253015033041%5D%2C%20%5B-1.290842810631%2C%2036.8242943033045%5D%2C%20%5B-1.29082289671022%2C%2036.841397239342896%5D%2C%20%5B-1.29081391063473%2C%2036.821557103305395%5D%2C%20%5B-1.29079691063088%2C%2036.8245171033044%5D%2C%20%5B-1.2907229107338%2C%2036.7464014033298%5D%2C%20%5B-1.29071644713845%2C%2036.8249841558659%5D%2C%20%5B-1.29067171070307%2C%2036.769995703322294%5D%2C%20%5B-1.29063321068076%2C%2036.7871327033168%5D%2C%20%5B-1.29063021066922%2C%2036.795940903314%5D%2C%20%5B-1.2906235106271002%2C%2036.8280548033035%5D%2C%20%5B-1.29061411075708%2C%2036.7290008033356%5D%2C%20%5B-1.29057116567178%2C%2036.82689262829261%5D%2C%20%5B-1.29052951134003%2C%2036.9474573090991%5D%2C%20%5B-1.29041983069778%2C%2036.774930543321%5D%2C%20%5B-1.29012741063838%2C%2036.8211481033065%5D%2C%20%5B-1.29011931062927%2C%2036.8281567033042%5D%2C%20%5B-1.29009001058876%2C%2036.82801500333071%5D%2C%20%5B-1.2900677101904698%2C%2037.1608713031944%5D%2C%20%5B-1.29004018582804%2C%2036.8160370784985%5D%2C%20%5B-1.2899977106513605%2C%2036.811737303309606%5D%2C%20%5B-1.28997647737896%2C%2036.770349869982795%5D%2C%20%5B-1.28997630527523%2C%2036.770349027271294%5D%2C%20%5B-1.28996739144663%2C%2036.7676613424895%5D%2C%20%5B-1.28995908859826%2C%2036.777075711242105%5D%2C%20%5B-1.2898914107323898%2C%2036.7503364033296%5D%2C%20%5B-1.28987901760969%2C%2036.7694890332153%5D%2C%20%5B-1.28987331063096%2C%2036.82769370330461%5D%2C%20%5B-1.2898692553269098%2C%2036.8102180116552%5D%2C%20%5B-1.28984661532702%2C%2036.8102347516552%5D%2C%20%5B-1.2897715626451398%2C%2036.81023752422721%5D%2C%20%5B-1.28976501065433%2C%2036.8102580033104%5D%2C%20%5B-1.289764010441%2C%2036.9723965032575%5D%2C%20%5B-1.28973357505545%2C%2036.7615742222426%5D%2C%20%5B-1.28971661943614%2C%2036.8100013400168%5D%2C%20%5B-1.28970891062955%2C%2036.8293269033043%5D%2C%20%5B-1.28962559080291%2C%2036.7615651604999%5D%2C%20%5B-1.28957897737979%2C%2036.7729877368102%5D%2C%20%5B-1.28953353349598%2C%2036.949391461245%5D%2C%20%5B-1.28952951047103%2C%2036.9493890032655%5D%2C%20%5B-1.2895212885512%2C%2036.7615773631129%5D%2C%20%5B-1.28951630673311%2C%2036.7601982852996%5D%2C%20%5B-1.28944675864508%2C%2036.7854157306542%5D%2C%20%5B-1.28943441043825%2C%2036.9755602032568%5D%2C%20%5B-1.28941451072061%2C%2036.761583503327714%5D%2C%20%5B-1.2893580106554%2C%2036.81083500331071%5D%2C%20%5B-1.28925861065591%2C%2036.810800103310896%5D%2C%20%5B-1.28920141073189%2C%2036.7531520033296%5D%2C%20%5B-1.28918351063339%2C%2036.8282184033053%5D%2C%20%5B-1.28913888531706%2C%2036.8277715716528%5D%2C%20%5B-1.28908901063813%2C%2036.8249590033066%5D%2C%20%5B-1.28905924399358%2C%2036.828536136642704%5D%2C%20%5B-1.28892801062434%2C%2036.835961003303204%5D%2C%20%5B-1.2889200106193202%2C%2036.839800003301896%5D%2C%20%5B-1.28890585360772%2C%2036.683548698743294%5D%2C%20%5B-1.2888751106336205%2C%2036.8290874033055%5D%2C%20%5B-1.2888636927457602%2C%2036.6835158744946%5D%2C%20%5B-1.28882751064642%2C%2036.8195658033086%5D%2C%20%5B-1.2887781219118%2C%2036.81325657101%5D%2C%20%5B-1.28877141063567%2C%2036.827920703306%5D%2C%20%5B-1.28876644231394%2C%2036.8626849983078%5D%2C%20%5B-1.2887576906667602%2C%2036.8042923633136%5D%2C%20%5B-1.28857972273233%2C%2036.825098959471%5D%2C%20%5B-1.28855331059066%2C%2036.8628806032949%5D%2C%20%5B-1.2885291053187%2C%2036.827448011653296%5D%2C%20%5B-1.28851195307351%2C%2036.9506904728499%5D%2C%20%5B-1.28842191063689%2C%2036.8281567033063%5D%2C%20%5B-1.28840901063693%2C%2036.8281760033063%5D%2C%20%5B-1.28836751072915%2C%2036.813752303317706%5D%2C%20%5B-1.28835351057329%2C%2036.8767614032906%5D%2C%20%5B-1.2883525476325%2C%2036.813744882835294%5D%2C%20%5B-1.2883511396753%2C%2036.83923901060179%5D%2C%20%5B-1.28835047012373%2C%2036.818441151041796%5D%2C%20%5B-1.28825301063769%2C%2036.828151303306605%5D%2C%20%5B-1.28824231063769%2C%2036.82815670330661%5D%2C%20%5B-1.2882200106336%2C%2036.8313420033056%5D%2C%20%5B-1.28814971063726%2C%2036.8288366033065%5D%2C%20%5B-1.28809801066049%2C%2036.8113260033122%5D%2C%20%5B-1.28808711064054%2C%2036.826583403307296%5D%2C%20%5B-1.28805427038285%2C%2036.8140523367463%5D%2C%20%5B-1.28804351063807%2C%2036.82859220330671%5D%2C%20%5B-1.2879417950567902%2C%2036.9519438017175%5D%2C%20%5B-1.28791413065093%2C%2036.819214398309896%5D%2C%20%5B-1.28789131057988%2C%2036.873345803292295%5D%2C%20%5B-1.2878891613859%2C%2036.952028206139005%5D%2C%20%5B-1.2878420106388102%2C%2036.8287367033069%5D%2C%20%5B-1.28777618645639%2C%2036.8267143541041%5D%2C%20%5B-1.28761221321718%2C%2036.8846144169176%5D%2C%20%5B-1.28757091064097%2C%2036.8280333033075%5D%2C%20%5B-1.28754246448865%2C%2036.74147538146271%5D%2C%20%5B-1.2874485656168602%2C%2036.83199894980221%5D%2C%20%5B-1.2874368106416298%2C%2036.82799510330771%5D%2C%20%5B-1.28741542155638%2C%2036.8267973411722%5D%2C%20%5B-1.28735252703956%2C%2036.8366697476997%5D%2C%20%5B-1.28734991060829%2C%2036.8536470032995%5D%2C%20%5B-1.28731401064642%2C%2036.824778203308895%5D%2C%20%5B-1.2871533102826205%2C%2036.827375553154795%5D%2C%20%5B-1.28713951064394%2C%2036.8272296033083%5D%2C%20%5B-1.28709991061357%2C%2036.85051020330079%5D%2C%20%5B-1.28708823065604%2C%2036.818208563311295%5D%2C%20%5B-1.28708381065599%2C%2036.81826470331129%5D%2C%20%5B-1.28698731075601%2C%2036.7424011033359%5D%2C%20%5B-1.28697056626207%2C%2036.831747501342%5D%2C%20%5B-1.2868371105632%2C%2036.8896544032884%5D%2C%20%5B-1.2868153106459%2C%2036.8268702033089%5D%2C%20%5B-1.28677841064765%2C%2036.8256786033093%5D%2C%20%5B-1.2867770106473702%2C%2036.8258734033092%5D%2C%20%5B-1.28676741075963%2C%2036.740397503336794%5D%2C%20%5B-1.28670201075967%2C%2036.7405768033369%5D%2C%20%5B-1.2866991106592%2C%2036.8171446033122%5D%2C%20%5B-1.28666001063556%2C%2036.8352420033063%5D%2C%20%5B-1.2866280106643602%2C%2036.813482003313396%5D%2C%20%5B-1.28656467222279%2C%2036.8173672767874%5D%2C%20%5B-1.28656361064876%2C%2036.8255550033096%5D%2C%20%5B-1.2864966106473998%2C%2036.8268102033093%5D%2C%20%5B-1.28648102031895%2C%2036.8175629166581%5D%2C%20%5B-1.28647941065468%2C%2036.8213707033111%5D%2C%20%5B-1.28643391064896%2C%2036.8258268033097%5D%2C%20%5B-1.2864307108601%2C%2036.6865115033698%5D%2C%20%5B-1.28637461083291%2C%2036.6858159033549%5D%2C%20%5B-1.28636916255629%2C%2036.7985498899951%5D%2C%20%5B-1.28636890532424%2C%2036.8264033616548%5D%2C%20%5B-1.28634540117161%2C%2036.834927687676895%5D%2C%20%5B-1.28630359069929%2C%2036.7963386983051%5D%2C%20%5B-1.28628216120711%2C%2036.8256334503089%5D%2C%20%5B-1.28625167089228%2C%2036.817486944771204%5D%2C%20%5B-1.2861828106501398%2C%2036.82583390331%5D%2C%20%5B-1.28617881066689%2C%2036.8130867033141%5D%2C%20%5B-1.2861661016361698%2C%2036.825879797294505%5D%2C%20%5B-1.28609576670896%2C%2036.8196706407224%5D%2C%20%5B-1.28602261065598%2C%2036.8219494033115%5D%2C%20%5B-1.28602052735773%2C%2036.818338453291396%5D%2C%20%5B-1.28600507382917%2C%2036.844742964150704%5D%2C%20%5B-1.28599818410295%2C%2036.8238502676341%5D%2C%20%5B-1.2859906308416005%2C%2036.818324092749%5D%2C%20%5B-1.28594793283723%2C%2036.8191979865396%5D%2C%20%5B-1.28589321065634%2C%2036.8221325033116%5D%2C%20%5B-1.28588463420189%2C%2036.8139417661782%5D%2C%20%5B-1.28587011065502%2C%2036.823195403311296%5D%2C%20%5B-1.28586101065059%2C%2036.8265680033102%5D%2C%20%5B-1.2858426106514398%2C%2036.8260006033104%5D%2C%20%5B-1.28583415759433%2C%2036.8330663045888%5D%2C%20%5B-1.2858243106596698%2C%2036.8197740033125%5D%2C%20%5B-1.2858149106591%2C%2036.8202703033123%5D%2C%20%5B-1.28581086065894%2C%2036.8209129533126%5D%2C%20%5B-1.28580331065981%2C%2036.8197637033125%5D%2C%20%5B-1.28577617876436%2C%2036.8195177346404%5D%2C%20%5B-1.2857693106559398%2C%2036.8228749033116%5D%2C%20%5B-1.28575051070823%2C%2036.8279815032972%5D%2C%20%5B-1.2856921106407%2C%2036.8346959033078%5D%2C%20%5B-1.28567808069444%2C%2036.793868743321%5D%2C%20%5B-1.2856759106498898%2C%2036.8277688033101%5D%2C%20%5B-1.28563867827318%2C%2036.8312670703797%5D%2C%20%5B-1.28563011065705%2C%2036.822484803311795%5D%2C%20%5B-1.28562171064652%2C%2036.8305411033092%5D%2C%20%5B-1.28558991066059%2C%2036.819956603312704%5D%2C%20%5B-1.28544471065695%2C%2036.8231775033118%5D%2C%20%5B-1.28543071065867%2C%2036.8219112033123%5D%2C%20%5B-1.28539222574599%2C%2036.8832627885051%5D%2C%20%5B-1.28534801059744%2C%2036.7385710031316%5D%2C%20%5B-1.28532286449991%2C%2036.82040697129229%5D%2C%20%5B-1.28529221061988%2C%2036.8519271033027%5D%2C%20%5B-1.2852865105668798%2C%2036.8840535032869%5D%2C%20%5B-1.28519701062084%2C%2036.851496803303%5D%2C%20%5B-1.28519101064208%2C%2036.83538500330821%5D%2C%20%5B-1.28516921065944%2C%2036.82223840331249%5D%2C%20%5B-1.28516921064691%2C%2036.8317991033094%5D%2C%20%5B-1.28514563670995%2C%2036.8207300748988%5D%2C%20%5B-1.28513841063762%2C%2036.8389258033071%5D%2C%20%5B-1.28512021061583%2C%2036.8555990033017%5D%2C%20%5B-1.28511461065052%2C%2036.8292343033103%5D%2C%20%5B-1.28509451065102%2C%2036.8289410033104%5D%2C%20%5B-1.28508661065043%2C%2036.8293699033103%5D%2C%20%5B-1.28508341064054%2C%2036.8369249033079%5D%2C%20%5B-1.28508228429231%2C%2036.820860279444%5D%2C%20%5B-1.2849870104828702%2C%2036.9565525032684%5D%2C%20%5B-1.28497081751827%2C%2036.9565425441484%5D%2C%20%5B-1.28496741077147%2C%2036.7375764033401%5D%2C%20%5B-1.2849434336862802%2C%2036.82055001672779%5D%2C%20%5B-1.28492051056349%2C%2036.8960417032888%5D%2C%20%5B-1.28490911065445%2C%2036.826971203311295%5D%2C%20%5B-1.28490541065986%2C%2036.8228626033126%5D%2C%20%5B-1.2848699488232%2C%2036.8309390600376%5D%2C%20%5B-1.28485791065965%2C%2036.8231574033126%5D%2C%20%5B-1.2848295943104198%2C%2036.8213796181513%5D%2C%20%5B-1.2848065320572%2C%2036.8203252373514%5D%2C%20%5B-1.28478393683051%2C%2036.820374185281%5D%2C%20%5B-1.2847750607315702%2C%2036.77646785332129%5D%2C%20%5B-1.28476851065616%2C%2036.8261138033118%5D%2C%20%5B-1.28475131691105%2C%2036.821540496929394%5D%2C%20%5B-1.28473461065416%2C%2036.824148103329705%5D%2C%20%5B-1.28470480968288%2C%2036.8209035879631%5D%2C%20%5B-1.2846839106295%2C%2036.8467246033051%5D%2C%20%5B-1.28467141044836%2C%2036.8209131321634%5D%2C%20%5B-1.28465951064999%2C%2036.8311991033103%5D%2C%20%5B-1.2846493773566598%2C%2036.820902236634296%5D%2C%20%5B-1.28464830066778%2C%2036.8176851533146%5D%2C%20%5B-1.28459901058593%2C%2036.88012480329439%5D%2C%20%5B-1.28457301065539%2C%2036.8273890033116%5D%2C%20%5B-1.28453951065958%2C%2036.8243171033126%5D%2C%20%5B-1.28449751076941%2C%2036.740757303339706%5D%2C%20%5B-1.28447741064793%2C%2036.833376303309706%5D%2C%20%5B-1.28444001065179%2C%2036.8306190033107%5D%2C%20%5B-1.28443811065619%2C%2036.827220203311796%5D%2C%20%5B-1.28443181057705%2C%2036.8874389032922%5D%2C%20%5B-1.28431981066074%2C%2036.8241612033129%5D%2C%20%5B-1.2842698107701205%2C%2036.741037903339794%5D%2C%20%5B-1.2842307106609498%2C%2036.824352003312995%5D%2C%20%5B-1.2841736606633998%2C%2036.8252899033158%5D%2C%20%5B-1.28417295508265%2C%2036.822651378599204%5D%2C%20%5B-1.2841717106586898%2C%2036.8262282033125%5D%2C%20%5B-1.2841550922951002%2C%2036.8243672137723%5D%2C%20%5B-1.28414891065933%2C%2036.8258607033126%5D%2C%20%5B-1.2841178663209%2C%2036.8243206801125%5D%2C%20%5B-1.2840835113921398%2C%2036.8262402511649%5D%2C%20%5B-1.28405037501262%2C%2036.8220946030483%5D%2C%20%5B-1.28403021066035%2C%2036.8254564033129%5D%2C%20%5B-1.28400938533187%2C%2036.8229662616569%5D%2C%20%5B-1.28400601066216%2C%2036.824174003313395%5D%2C%20%5B-1.2839641393128898%2C%2036.88710484448061%5D%2C%20%5B-1.28391551065813%2C%2036.8275618033124%5D%2C%20%5B-1.28390970297301%2C%2036.82207075491621%5D%2C%20%5B-1.2838938106638502%2C%2036.823303103313705%5D%2C%20%5B-1.28385486018963%2C%2036.823120851748%5D%2C%20%5B-1.28380442586385%2C%2036.8225706463746%5D%2C%20%5B-1.28377111745869%2C%2036.822736499890006%5D%2C%20%5B-1.2837332106542%2C%2036.8311715033114%5D%2C%20%5B-1.2837266106566%2C%2036.8293557033121%5D%2C%20%5B-1.28372050732799%2C%2036.8311418959293%5D%2C%20%5B-1.28369301066269%2C%2036.824869703313496%5D%2C%20%5B-1.2836672106626%2C%2036.8250603033135%5D%2C%20%5B-1.2836638653328798%2C%2036.8226081616571%5D%2C%20%5B-1.2835740179355%2C%2036.8160704449463%5D%2C%20%5B-1.28356774498119%2C%2036.823664066466996%5D%2C%20%5B-1.2835537223657398%2C%2037.1006628341326%5D%2C%20%5B-1.28352951533251%2C%2036.8237275516571%5D%2C%20%5B-1.28345751066805%2C%2036.8216321033149%5D%2C%20%5B-1.2834515253326%2C%2036.8237519216571%5D%2C%20%5B-1.28344781066422%2C%2036.824564803314%5D%2C%20%5B-1.28342781684272%2C%2036.82351354156621%5D%2C%20%5B-1.28335096223636%2C%2036.8306374720277%5D%2C%20%5B-1.2833060106614498%2C%2036.8271530033133%5D%2C%20%5B-1.28327861066503%2C%2036.8245566033141%5D%2C%20%5B-1.28326971057261%2C%2036.894792203291296%5D%2C%20%5B-1.28322629853161%2C%2036.830118351014%5D%2C%20%5B-1.2832147106761498%2C%2036.816245103317%5D%2C%20%5B-1.28320208193214%2C%2036.8282755203565%5D%2C%20%5B-1.28315741058242%2C%2036.8877855032938%5D%2C%20%5B-1.28308461067274%2C%2036.8183918533173%5D%2C%20%5B-1.28307651066653%2C%2036.8241086033146%5D%2C%20%5B-1.28301221066244%2C%2036.827442503313605%5D%2C%20%5B-1.28300521066542%2C%2036.8251365033144%5D%2C%20%5B-1.28298991065289%2C%2036.83472370331121%5D%2C%20%5B-1.28296221067416%2C%2036.818702003316496%5D%2C%20%5B-1.28294091066973%2C%2036.8221432033154%5D%2C%20%5B-1.28290171057302%2C%2036.8957974032915%5D%2C%20%5B-1.28283901067572%2C%2036.817862403317%5D%2C%20%5B-1.28282921058445%2C%2036.887322803294396%5D%2C%20%5B-1.28282521067071%2C%2036.8217790033157%5D%2C%20%5B-1.28282321065945%2C%2036.830344703312896%5D%2C%20%5B-1.28276521066461%2C%2036.82659030331421%5D%2C%20%5B-1.2827643606629298%2C%2036.8269201033134%5D%2C%20%5B-1.28274471076226%2C%2036.75232060333821%5D%2C%20%5B-1.2826831106666%2C%2036.8254071033147%5D%2C%20%5B-1.28267401067316%2C%2036.8204130033163%5D%2C%20%5B-1.28257034391762%2C%2036.8282898686386%5D%2C%20%5B-1.2825470106648%2C%2036.82723370331429%5D%2C%20%5B-1.28253481066924%2C%2036.82390660331539%5D%2C%20%5B-1.28238731036264%2C%2036.7898967035239%5D%2C%20%5B-1.28237001006664%2C%2037.2804140031642%5D%2C%20%5B-1.28235501068035%2C%2036.8160580033181%5D%2C%20%5B-1.28234604431411%2C%2036.8709669034507%5D%2C%20%5B-1.2823080707263%2C%2036.7827327045719%5D%2C%20%5B-1.282269010681%2C%2036.8158860033183%5D%2C%20%5B-1.28221181066103%2C%2036.8312781033134%5D%2C%20%5B-1.2821666106769%2C%2036.819316503317296%5D%2C%20%5B-1.28211711067691%2C%2036.8195215833173%5D%2C%20%5B-1.28210702990008%2C%2036.784390381183705%5D%2C%20%5B-1.28207951068088%2C%2036.8166016033183%5D%2C%20%5B-1.2820654106666798%2C%2036.827483503314795%5D%2C%20%5B-1.2819902106665%2C%2036.8278231033148%5D%2C%20%5B-1.28198314426726%2C%2036.8153182024525%5D%2C%20%5B-1.28197981058744%2C%2036.88799040329521%5D%2C%20%5B-1.2819755105763202%2C%2036.8964886032925%5D%2C%20%5B-1.28194830894807%2C%2036.8219059788661%5D%2C%20%5B-1.28194651067452%2C%2036.8219074033168%5D%2C%20%5B-1.28188821067123%2C%2036.824574803316004%5D%2C%20%5B-1.2818454106749%2C%2036.8219815033169%5D%2C%20%5B-1.28178511068434%2C%2036.8149769033192%5D%2C%20%5B-1.281752210608%2C%2036.873168803300295%5D%2C%20%5B-1.28175087567368%2C%2036.823238353316604%5D%2C%20%5B-1.28162961067533%2C%2036.82235240331711%5D%2C%20%5B-1.28157365993785%2C%2036.8279552984782%5D%2C%20%5B-1.28156391067676%2C%2036.8215454033173%5D%2C%20%5B-1.28150891067191%2C%2036.82537390331621%5D%2C%20%5B-1.28144391534286%2C%2036.8151424216598%5D%2C%20%5B-1.28144191049276%2C%2036.9617414032718%5D%2C%20%5B-1.28142801067604%2C%2036.8225320033173%5D%2C%20%5B-1.28142041067588%2C%2036.8226580033172%5D%2C%20%5B-1.28141161067828%2C%2036.820855003317796%5D%2C%20%5B-1.28138961076846%2C%2036.75227030334%5D%2C%20%5B-1.28132382735881%2C%2036.8226478700137%5D%2C%20%5B-1.28129101068258%2C%2036.8180267033189%5D%2C%20%5B-1.28126521067655%2C%2036.8227376033174%5D%2C%20%5B-1.28124881067498%2C%2036.823969803317%5D%2C%20%5B-1.28095381067714%2C%2036.8233471033176%5D%2C%20%5B-1.28092361067727%2C%2036.8233495033177%5D%2C%20%5B-1.28091517203461%2C%2036.8206557648376%5D%2C%20%5B-1.28089027580989%2C%2036.81678815763%5D%2C%20%5B-1.28088926067722%2C%2036.823570253316795%5D%2C%20%5B-1.28087881067614%2C%2036.8243775033174%5D%2C%20%5B-1.28085300897251%2C%2036.82794580542421%5D%2C%20%5B-1.28075371074915%2C%2036.769239203335296%5D%2C%20%5B-1.2807005108678895%2C%2036.6904730033795%5D%2C%20%5B-1.28063501067983%2C%2036.8223852033183%5D%2C%20%5B-1.28062231056582%2C%2036.96420430328821%5D%2C%20%5B-1.2805109287121998%2C%2036.9643344034059%5D%2C%20%5B-1.28049491057876%2C%2036.8996831032934%5D%2C%20%5B-1.28040801068588%2C%2036.818571003319796%5D%2C%20%5B-1.28012861058094%2C%2036.8993338032939%5D%2C%20%5B-1.28008971064798%2C%2036.8485277033105%5D%2C%20%5B-1.28006191073346%2C%2036.7835419033317%5D%2C%20%5B-1.27986161087183%2C%2036.8251532526025%5D%2C%20%5B-1.27975604789178%2C%2036.965055519470795%5D%2C%20%5B-1.279743610496%2C%2036.965085603272904%5D%2C%20%5B-1.27973241075225%2C%2036.77035510333629%5D%2C%20%5B-1.27972925143549%2C%2036.8199740844635%5D%2C%20%5B-1.27966141068936%2C%2036.8185169033208%5D%2C%20%5B-1.2796067106746%2C%2036.8299148033172%5D%2C%20%5B-1.27960131067463%2C%2036.8298920033173%5D%2C%20%5B-1.2794683440590502%2C%2036.7904493366671%5D%2C%20%5B-1.27941372036624%2C%2036.7920515322656%5D%2C%20%5B-1.27937656069103%2C%2036.818226383321296%5D%2C%20%5B-1.27922921057406%2C%2036.9076389032924%5D%2C%20%5B-1.27903847535752%2C%2036.9672712670882%5D%2C%20%5B-1.27903282911472%2C%2036.813980938014105%5D%2C%20%5B-1.27901008216225%2C%2036.821491360912%5D%2C%20%5B-1.2789499777143%2C%2036.907179170118%5D%2C%20%5B-1.27884141065278%2C%2036.849160403312%5D%2C%20%5B-1.27882557810276%2C%2036.8340014034121%5D%2C%20%5B-1.2787876059471002%2C%2036.9676713924347%5D%2C%20%5B-1.2787319106498798%2C%2036.85171820331129%5D%2C%20%5B-1.2787310106614298%2C%2036.8724850033015%5D%2C%20%5B-1.27865841049699%2C%2036.9680499032733%5D%2C%20%5B-1.27858861069682%2C%2036.816517803322796%5D%2C%20%5B-1.27852984544214%2C%2036.7702696999265%5D%2C%20%5B-1.27833856077745%2C%2036.807164082926%5D%2C%20%5B-1.27824261069195%2C%2036.82145120332171%5D%2C%20%5B-1.27823771062646%2C%2036.8712313033056%5D%2C%20%5B-1.27822861020122%2C%2037.03372178086021%5D%2C%20%5B-1.27819171060054%2C%2036.8910917032992%5D%2C%20%5B-1.27805441067935%2C%2036.8316660033187%5D%2C%20%5B-1.2779880105796102%2C%2036.907678103294%5D%2C%20%5B-1.27788719417911%2C%2036.78500676493%5D%2C%20%5B-1.27784485160221%2C%2036.814079834594004%5D%2C%20%5B-1.2778233069516898%2C%2036.96900357849071%5D%2C%20%5B-1.27781531129998%2C%2036.9690020535827%5D%2C%20%5B-1.27775953534115%2C%2036.8304796516598%5D%2C%20%5B-1.27748406069024%2C%2036.82119115333229%5D%2C%20%5B-1.2773723106856%2C%2036.8292483033203%5D%2C%20%5B-1.27734511886699%2C%2037.138605781004%5D%2C%20%5B-1.2770173106849%2C%2036.8310477033202%5D%2C%20%5B-1.27691881065989%2C%2036.850422303314%5D%2C%20%5B-1.27690338584451%2C%2036.8066933001105%5D%2C%20%5B-1.27689062222434%2C%2036.7932255246405%5D%2C%20%5B-1.2768531152511498%2C%2036.9702700616375%5D%2C%20%5B-1.27682376148588%2C%2036.8458536350885%5D%2C%20%5B-1.27600101058185%2C%2036.912844803294895%5D%2C%20%5B-1.27564334406265%2C%2036.7949240033327%5D%2C%20%5B-1.27547281073929%2C%2036.794985803333894%5D%2C%20%5B-1.2754290105889%2C%2036.909455003296706%5D%2C%20%5B-1.27527013693853%2C%2036.8129522785504%5D%2C%20%5B-1.27523802536186%2C%2036.8127274349897%5D%2C%20%5B-1.27511701074209%2C%2036.7940600033346%5D%2C%20%5B-1.27508676096317%2C%2036.8236817033716%5D%2C%20%5B-1.27497803461448%2C%2036.8980415293504%5D%2C%20%5B-1.27493381149678%2C%2036.8234167409223%5D%2C%20%5B-1.27479306905418%2C%2036.8932899919764%5D%2C%20%5B-1.2747521107076398%2C%2036.8215890033262%5D%2C%20%5B-1.2746175107076698%2C%2036.8242779033165%5D%2C%20%5B-1.27442931058259%2C%2036.9176871032953%5D%2C%20%5B-1.27434274121919%2C%2036.8121380732943%5D%2C%20%5B-1.27431662535279%2C%2036.8246467016629%5D%2C%20%5B-1.2742280107131398%2C%2036.8192000033277%5D%2C%20%5B-1.27414762117637%2C%2036.81158854546271%5D%2C%20%5B-1.27406499071234%2C%2036.8203261733275%5D%2C%20%5B-1.2740237106318602%2C%2036.8817100033076%5D%2C%20%5B-1.27398201061318%2C%2036.896002003302996%5D%2C%20%5B-1.27356553259561%2C%2036.7328752949503%5D%2C%20%5B-1.27351821072345%2C%2036.8137720033303%5D%2C%20%5B-1.27336991071239%2C%2036.8227308033276%5D%2C%20%5B-1.2733699107123797%2C%2036.8227308033276%5D%2C%20%5B-1.2733500107121598%2C%2036.822970003327605%5D%2C%20%5B-1.27308891073749%2C%2036.8046016033339%5D%2C%20%5B-1.27306111238582%2C%2036.8129184019364%5D%2C%20%5B-1.2729632381631295%2C%2036.8973030806364%5D%2C%20%5B-1.2729570106171102%2C%2036.897299503305604%5D%2C%20%5B-1.27290926779362%2C%2036.8320490101822%5D%2C%20%5B-1.27286641059845%2C%2036.9110531032996%5D%2C%20%5B-1.2728230107306%2C%2036.81077900333221%5D%2C%20%5B-1.2725872120042%2C%2036.97469168508071%5D%2C%20%5B-1.27248522823729%2C%2036.8140043258423%5D%2C%20%5B-1.27248522823721%2C%2036.8140043258423%5D%2C%20%5B-1.27244823876003%2C%2036.8142847426505%5D%2C%20%5B-1.27237601074284%2C%2036.802951003335295%5D%2C%20%5B-1.27234003695199%2C%2036.812957554978105%5D%2C%20%5B-1.2722614207103602%2C%2036.8281065733273%5D%2C%20%5B-1.27222911071133%2C%2036.8274948033276%5D%2C%20%5B-1.27221901074564%2C%2036.801386003336%5D%2C%20%5B-1.2720107718055702%2C%2036.8018389879805%5D%2C%20%5B-1.27194901074013%2C%2036.80651290333471%5D%2C%20%5B-1.27190958026023%2C%2036.6636348549428%5D%2C%20%5B-1.2718844037465%2C%2036.8279506761631%5D%2C%20%5B-1.2717416188473798%2C%2036.814198225100704%5D%2C%20%5B-1.27173011068693%2C%2036.8477679033216%5D%2C%20%5B-1.27170948003969%2C%2036.8086461774371%5D%2C%20%5B-1.27159252625921%2C%2036.814162345865%5D%2C%20%5B-1.2715786699661005%2C%2036.808516392272296%5D%2C%20%5B-1.27150311073912%2C%2036.8088515033345%5D%2C%20%5B-1.27145041064563%2C%2036.8800989033115%5D%2C%20%5B-1.27133781049174%2C%2036.9971707032732%5D%2C%20%5B-1.27133371049183%2C%2036.997138903273296%5D%2C%20%5B-1.27131061366031%2C%2036.997187796483395%5D%2C%20%5B-1.27129498172223%2C%2036.9971632443074%5D%2C%20%5B-1.27117354387854%2C%2036.807263786427896%5D%2C%20%5B-1.27107606669398%2C%2036.8073751077258%5D%2C%20%5B-1.27099470032153%2C%2036.7753146639851%5D%2C%20%5B-1.27088223899587%2C%2036.8072227992394%5D%2C%20%5B-1.270833710087%2C%2037.3043346031712%5D%2C%20%5B-1.27078972814946%2C%2036.8070984958708%5D%2C%20%5B-1.27075351084619%2C%2036.7284835033576%5D%2C%20%5B-1.27073001535296%2C%2036.836744411663204%5D%2C%20%5B-1.27067264404568%2C%2036.8069933909116%5D%2C%20%5B-1.27034908743742%2C%2036.8074474729455%5D%2C%20%5B-1.27024124704356%2C%2036.812880936312794%5D%2C%20%5B-1.27019551059894%2C%2036.9198722033001%5D%2C%20%5B-1.2701741699272902%2C%2036.8072926232429%5D%2C%20%5B-1.27001531243623%2C%2036.8071519910309%5D%2C%20%5B-1.26996951071037%2C%2036.8360283033278%5D%2C%20%5B-1.2699324107478998%2C%2036.807562203337%5D%2C%20%5B-1.2698303107485702%2C%2036.8074321033372%5D%2C%20%5B-1.26974391082901%2C%2036.746467003357%5D%2C%20%5B-1.2697232779603%2C%2036.8311313146191%5D%2C%20%5B-1.26972058071624%2C%2036.8323680133292%5D%2C%20%5B-1.26969511070716%2C%2036.839414803326996%5D%2C%20%5B-1.26969336963731%2C%2036.8088852112628%5D%2C%20%5B-1.26967316073335%2C%2036.8203797533354%5D%2C%20%5B-1.26960001073255%2C%2036.8204000033332%5D%2C%20%5B-1.26937213283597%2C%2036.8058723608597%5D%2C%20%5B-1.26936326674657%2C%2036.8058647183614%5D%2C%20%5B-1.26934373440309%2C%2036.8354890620753%5D%2C%20%5B-1.2693347107688702%2C%2036.7937172033423%5D%2C%20%5B-1.26932641075162%2C%2036.806835903338%5D%2C%20%5B-1.26924469572423%2C%2036.833609098337796%5D%2C%20%5B-1.2691900107528%2C%2036.8064000033383%5D%2C%20%5B-1.26914301074553%2C%2036.8325853700047%5D%2C%20%5B-1.26914259737005%2C%2036.832585245882704%5D%2C%20%5B-1.2690990106029%2C%2036.9206124033013%5D%2C%20%5B-1.26895387535962%2C%2036.832745621665%5D%2C%20%5B-1.26892121074938%2C%2036.8099521033375%5D%2C%20%5B-1.26890503051886%2C%2036.8054697304218%5D%2C%20%5B-1.2687958107506498%2C%2036.8094135033379%5D%2C%20%5B-1.26861331051126%2C%2036.9917875032786%5D%2C%20%5B-1.2685137619317%2C%2036.8839564533881%5D%2C%20%5B-1.26838551077443%2C%2036.7927140033437%5D%2C%20%5B-1.26809556075217%2C%2036.8107169333383%5D%2C%20%5B-1.26783841082825%2C%2036.7536878033571%5D%2C%20%5B-1.26768549073218%2C%2036.827292953333504%5D%2C%20%5B-1.26759001060367%2C%2036.9252533033017%5D%2C%20%5B-1.26744143487214%2C%2036.83551840231209%5D%2C%20%5B-1.2674244572123703%2C%2036.843676827022%5D%2C%20%5B-1.26742102015115%2C%2036.8435388764824%5D%2C%20%5B-1.26733651076326%2C%2036.8049000033412%5D%2C%20%5B-1.26716001071315%2C%2036.8435928033289%5D%2C%20%5B-1.2668591357331%2C%2036.8036590360755%5D%2C%20%5B-1.26680754579467%2C%2036.8346389023024%5D%2C%20%5B-1.26666621084511%2C%2036.744863703361396%5D%2C%20%5B-1.26662371084323%2C%2036.746475403361%5D%2C%20%5B-1.26658510998243%2C%2036.8034323025803%5D%2C%20%5B-1.26655612259439%2C%2036.8469071267711%5D%2C%20%5B-1.26655461076742%2C%2036.804426203342295%5D%2C%20%5B-1.26637001074582%2C%2036.82327500334%5D%2C%20%5B-1.26617631077143%2C%2036.802692203343504%5D%2C%20%5B-1.26612174486554%2C%2036.7223225132306%5D%2C%20%5B-1.26604711084026%2C%2036.7507374033603%5D%2C%20%5B-1.2658876053495%2C%2036.858796411662794%5D%2C%20%5B-1.26586656223713%2C%2036.7734052918513%5D%2C%20%5B-1.2658460106991%2C%2036.8587875033256%5D%2C%20%5B-1.26553240864635%2C%2036.8025411026554%5D%2C%20%5B-1.2655285108486598%2C%2036.6739045030427%5D%2C%20%5B-1.26552261072591%2C%2036.83957690333229%5D%2C%20%5B-1.2655219545911498%2C%2036.8025874710507%5D%2C%20%5B-1.26549303577146%2C%2036.8026220783436%5D%2C%20%5B-1.26526238941245%2C%2036.904692768882214%5D%2C%20%5B-1.26525531070985%2C%2036.8526691033284%5D%2C%20%5B-1.26517680273147%2C%2036.804231638986295%5D%2C%20%5B-1.26505819538708%2C%2036.8044670116722%5D%2C%20%5B-1.2649850107763898%2C%2036.8029990033448%5D%2C%20%5B-1.26489132538904%2C%2036.8020727216726%5D%2C%20%5B-1.26471401053753%2C%2036.9853200032858%5D%2C%20%5B-1.26469682598379%2C%2036.8109942463684%5D%2C%20%5B-1.26464482312209%2C%2036.7408610180794%5D%2C%20%5B-1.26462960798184%2C%2036.8019669784754%5D%2C%20%5B-1.26454411087209%2C%2036.731651403368396%5D%2C%20%5B-1.26453606094829%2C%2036.7387774533703%5D%2C%20%5B-1.26452982997103%2C%2036.74929095933621%5D%2C%20%5B-1.26448133659935%2C%2036.7396176561025%5D%2C%20%5B-1.26446767768875%2C%2036.7396162698957%5D%2C%20%5B-1.26445931084642%2C%2036.7514998033621%5D%2C%20%5B-1.26442620539006%2C%2036.7463874149716%5D%2C%20%5B-1.26441171088717%2C%2036.7206153033721%5D%2C%20%5B-1.26440632954083%2C%2036.82441053414%5D%2C%20%5B-1.2644040359873898%2C%2036.747752127832996%5D%2C%20%5B-1.26438501088463%2C%2036.72125150337121%5D%2C%20%5B-1.26433765203423%2C%2036.748566930433896%5D%2C%20%5B-1.26433113609309%2C%2036.7469843524426%5D%2C%20%5B-1.26433113609299%2C%2036.7469843524426%5D%2C%20%5B-1.26432817590646%2C%2036.7475873888353%5D%2C%20%5B-1.26430664162921%2C%2036.73225644632209%5D%2C%20%5B-1.2642848107128402%2C%2036.8537605033293%5D%2C%20%5B-1.26426660944345%2C%2036.74698523415729%5D%2C%20%5B-1.26425101340961%2C%2036.740410558075%5D%2C%20%5B-1.26423131073427%2C%2036.83767750333461%5D%2C%20%5B-1.26422309236721%2C%2036.74944048615129%5D%2C%20%5B-1.26420706319316%2C%2036.749441758077005%5D%2C%20%5B-1.2641316290306%2C%2036.7542528847116%5D%2C%20%5B-1.26413135590593%2C%2036.7435386193729%5D%2C%20%5B-1.2641003775103898%2C%2036.75425230336489%5D%2C%20%5B-1.26408659785579%2C%2036.801635276777894%5D%2C%20%5B-1.26408396742759%2C%2036.9827380472589%5D%2C%20%5B-1.2640390108768%2C%2036.7297870033696%5D%2C%20%5B-1.26399101077726%2C%2036.80579220334521%5D%2C%20%5B-1.263990410845%2C%2036.7542136033619%5D%2C%20%5B-1.2639746404689098%2C%2036.7582238391425%5D%2C%20%5B-1.26395711077585%2C%2036.7542126624451%5D%2C%20%5B-1.2639542108393%2C%2036.7586849033605%5D%2C%20%5B-1.26394084529869%2C%2036.8020480040987%5D%2C%20%5B-1.2639371338088%2C%2036.75780978990901%5D%2C%20%5B-1.2639050108606298%2C%2036.7582150032951%5D%2C%20%5B-1.2638600108408602%2C%2036.7578000033609%5D%2C%20%5B-1.2638135107593702%2C%2036.8243085033451%5D%2C%20%5B-1.26380508399661%2C%2036.7575041437552%5D%2C%20%5B-1.26378897205483%2C%2036.7639349848911%5D%2C%20%5B-1.26376423158151%2C%2036.86113389217329%5D%2C%20%5B-1.26375181069018%2C%2036.8727864033238%5D%2C%20%5B-1.2636100108823702%2C%2036.727050003371%5D%2C%20%5B-1.2635434824517%2C%2036.72131108097521%5D%2C%20%5B-1.2635165108207802%2C%2036.8078000033049%5D%2C%20%5B-1.2635131108418898%2C%2036.7582691033612%5D%2C%20%5B-1.26350501070611%2C%2036.8615945033278%5D%2C%20%5B-1.26346248523744%2C%2036.7609771738299%5D%2C%20%5B-1.2634610115309%2C%2036.8625455030219%5D%2C%20%5B-1.2634539351539%2C%2036.86254349956771%5D%2C%20%5B-1.26344351010698%2C%2036.8027550016541%5D%2C%20%5B-1.26336321067941%2C%2036.8822997033212%5D%2C%20%5B-1.26323001062848%2C%2036.9214400033087%5D%2C%20%5B-1.2632239608343%2C%2036.812319953353295%5D%2C%20%5B-1.26309001083574%2C%2036.76439000335979%5D%2C%20%5B-1.26305121247365%2C%2036.76382011946321%5D%2C%20%5B-1.2630298600013%2C%2036.7643743598987%5D%2C%20%5B-1.26299435780995%2C%2036.7927608437611%5D%2C%20%5B-1.26299304419167%2C%2036.82500975842721%5D%2C%20%5B-1.2629712254898%2C%2036.7650248345428%5D%2C%20%5B-1.2629683108359098%2C%2036.7646968033598%5D%2C%20%5B-1.26296771076052%2C%2036.8220711033413%5D%2C%20%5B-1.2628746694914%2C%2036.7642569376232%5D%2C%20%5B-1.26274611083756%2C%2036.7642235033603%5D%2C%20%5B-1.26271931078652%2C%2036.8031666033478%5D%2C%20%5B-1.26271488079052%2C%2036.80014263334871%5D%2C%20%5B-1.26261808449677%2C%2036.7185235021257%5D%2C%20%5B-1.2625356083061798%2C%2036.727072293350794%5D%2C%20%5B-1.2625106106876298%2C%2036.8790671033234%5D%2C%20%5B-1.26250151084759%2C%2036.757372003362796%5D%2C%20%5B-1.2624413357035802%2C%2036.7271194777012%5D%2C%20%5B-1.26238862539567%2C%2036.8005710416745%5D%2C%20%5B-1.2623680106860902%2C%2036.8790866699941%5D%2C%20%5B-1.26233274248186%2C%2036.7661648443999%5D%2C%20%5B-1.26232291070577%2C%2036.865900803327996%5D%2C%20%5B-1.26228062554135%2C%2036.866500862374295%5D%2C%20%5B-1.2622772003445102%2C%2036.878802061661894%5D%2C%20%5B-1.2622707575670702%2C%2036.7265400227758%5D%2C%20%5B-1.262245310905%2C%2036.714565403376795%5D%2C%20%5B-1.26221777741913%2C%2036.72657196968071%5D%2C%20%5B-1.26220449317231%2C%2036.866547361673604%5D%2C%20%5B-1.26201170010195%2C%2036.87304393351%5D%2C%20%5B-1.26191751069677%2C%2036.874122703325796%5D%2C%20%5B-1.2618268954112%2C%2036.7788951416783%5D%2C%20%5B-1.26169961079595%2C%2036.803477503362295%5D%2C%20%5B-1.2616880108112398%2C%2036.787930003354%5D%2C%20%5B-1.26168049078913%2C%2036.8422410583667%5D%2C%20%5B-1.26167349539548%2C%2036.8033095616745%5D%2C%20%5B-1.26160821072351%2C%2036.8548924033324%5D%2C%20%5B-1.26159231079402%2C%2036.801359003349795%5D%2C%20%5B-1.2615349853713702%2C%2036.8405846816686%5D%2C%20%5B-1.26152101089356%2C%2036.7257780033741%5D%2C%20%5B-1.26146070341007%2C%2036.7170861938403%5D%2C%20%5B-1.26127761069994%2C%2036.8739550033266%5D%2C%20%5B-1.26123471088308%2C%2036.7347223033717%5D%2C%20%5B-1.26120745540692%2C%2036.8420181566632%5D%2C%20%5B-1.26119884646009%2C%2036.7928263127195%5D%2C%20%5B-1.26103188823099%2C%2036.7964410132698%5D%2C%20%5B-1.26103034420002%2C%2036.7960493361124%5D%2C%20%5B-1.26102343450116%2C%2036.792188161591%5D%2C%20%5B-1.26099454187924%2C%2036.7960545329563%5D%2C%20%5B-1.26099454187923%2C%2036.7960545329563%5D%2C%20%5B-1.26098701080882%2C%2036.7922010033535%5D%2C%20%5B-1.26089191985624%2C%2036.716650426351%5D%2C%20%5B-1.26087391546054%2C%2036.7167386502027%5D%2C%20%5B-1.26087324400851%2C%2036.7129815209906%5D%2C%20%5B-1.2608639359911498%2C%2036.8418029074353%5D%2C%20%5B-1.2608530600478602%2C%2036.7166893004757%5D%2C%20%5B-1.26085051092832%2C%2036.716734003376395%5D%2C%20%5B-1.2608288889647%2C%2036.8811775839389%5D%2C%20%5B-1.26074769330228%2C%2036.8028519170262%5D%2C%20%5B-1.26071955728503%2C%2036.7954974994464%5D%2C%20%5B-1.26071439525437%2C%2036.795450798958%5D%2C%20%5B-1.2607122109161102%2C%2036.711388103379896%5D%2C%20%5B-1.26069601019644%2C%2036.71358825223629%5D%2C%20%5B-1.26058993504824%2C%2036.7185158632065%5D%2C%20%5B-1.26048180528277%2C%2036.7840971269924%5D%2C%20%5B-1.26033651091707%2C%2036.7106060033774%5D%2C%20%5B-1.26033271071501%2C%2036.8657613033306%5D%2C%20%5B-1.26032927184971%2C%2036.77084896994271%5D%2C%20%5B-1.26032854423438%2C%2036.7708487699924%5D%2C%20%5B-1.26032792688475%2C%2036.710607479581%5D%2C%20%5B-1.26019740598329%2C%2036.7887468326729%5D%2C%20%5B-1.26016487734939%2C%2036.8907131033214%5D%2C%20%5B-1.26012001077848%2C%2036.81825000334621%5D%2C%20%5B-1.25997519893869%2C%2036.8434175352992%5D%2C%20%5B-1.25987632071535%2C%2036.7864740835265%5D%2C%20%5B-1.25983438698615%2C%2036.843438596942796%5D%2C%20%5B-1.25983291080734%2C%2036.7973135033534%5D%2C%20%5B-1.2597314246769098%2C%2036.7867329606225%5D%2C%20%5B-1.25973118860824%2C%2036.789292588342704%5D%2C%20%5B-1.25971001081527%2C%2036.7867350033491%5D%2C%20%5B-1.25965198009157%2C%2036.8452400900495%5D%2C%20%5B-1.25964408074302%2C%2036.846875723337604%5D%2C%20%5B-1.25954595328511%2C%2036.775525007175204%5D%2C%20%5B-1.2594880108043798%2C%2036.8007340033527%5D%2C%20%5B-1.25947751099074%2C%2036.7744560033399%5D%2C%20%5B-1.25946001083769%2C%2036.77551000336089%5D%2C%20%5B-1.25944881072085%2C%2036.8643990033321%5D%2C%20%5B-1.25944146148611%2C%2036.7811128012285%5D%2C%20%5B-1.25943966838575%2C%2036.8019682986643%5D%2C%20%5B-1.25943801342062%2C%2036.775675510342495%5D%2C%20%5B-1.25941451075467%2C%2036.8020240033829%5D%2C%20%5B-1.25941178057027%2C%2036.7857282462128%5D%2C%20%5B-1.25940789326836%2C%2036.7828019113323%5D%2C%20%5B-1.25939231075012%2C%2036.8423208033394%5D%2C%20%5B-1.2593801359898602%2C%2036.8454399899207%5D%2C%20%5B-1.25936693070694%2C%2036.843122763198%5D%2C%20%5B-1.25936440654907%2C%2036.7752409022865%5D%2C%20%5B-1.2593375108299198%2C%2036.77525100333121%5D%2C%20%5B-1.25932195074934%2C%2036.843190703339204%5D%2C%20%5B-1.25928862026468%2C%2036.7958569850093%5D%2C%20%5B-1.25925101083503%2C%2036.77827200336021%5D%2C%20%5B-1.25922601141305%2C%2036.7769270030382%5D%2C%20%5B-1.2592257585231%2C%2036.7811318304235%5D%2C%20%5B-1.25922224628587%2C%2036.7769255800085%5D%2C%20%5B-1.25920851082919%2C%2036.7828344033588%5D%2C%20%5B-1.25908696095569%2C%2036.7780320708711%5D%2C%20%5B-1.25908585082069%2C%2036.7857540833063%5D%2C%20%5B-1.25908001094157%2C%2036.7780300032778%5D%2C%20%5B-1.25907173076234%2C%2036.779895145211896%5D%2C%20%5B-1.25900344800249%2C%2036.8426756793888%5D%2C%20%5B-1.25893502699547%2C%2036.7803826061654%5D%2C%20%5B-1.25887001083398%2C%2036.7803900033601%5D%2C%20%5B-1.25886291168293%2C%2036.91377993561%5D%2C%20%5B-1.25883093021654%2C%2036.9155640715621%5D%2C%20%5B-1.25876671083543%2C%2036.7796141033604%5D%2C%20%5B-1.2587464897120602%2C%2036.779613676976105%5D%2C%20%5B-1.25855021838208%2C%2036.80172587563%5D%2C%20%5B-1.2585463151971998%2C%2036.703071082765796%5D%2C%20%5B-1.25848881082371%2C%2036.7894732033576%5D%2C%20%5B-1.25834349651093%2C%2036.7029381039072%5D%2C%20%5B-1.25822421093991%2C%2036.701905103386004%5D%2C%20%5B-1.25822421093991%2C%2036.7019051033861%5D%2C%20%5B-1.25817973254447%2C%2036.701920208008%5D%2C%20%5B-1.2581147654703602%2C%2036.7016677216931%5D%2C%20%5B-1.25797775538826%2C%2036.827154641673104%5D%2C%20%5B-1.257967814379%2C%2036.7012531020484%5D%2C%20%5B-1.2579113107230702%2C%2036.868017003333%5D%2C%20%5B-1.2578347711241498%2C%2036.853857382029204%5D%2C%20%5B-1.25780479769896%2C%2036.82684862864429%5D%2C%20%5B-1.25779291074138%2C%2036.8545017033375%5D%2C%20%5B-1.25769281094343%2C%2036.701020003387%5D%2C%20%5B-1.25754635537134%2C%2036.8543353116689%5D%2C%20%5B-1.2575150107746298%2C%2036.830224003345705%5D%2C%20%5B-1.25737971094549%2C%2036.700584103387605%5D%2C%20%5B-1.25724356942178%2C%2036.8261885591171%5D%2C%20%5B-1.25724251070285%2C%2036.8856807033281%5D%2C%20%5B-1.25723551065172%2C%2036.9244574033155%5D%2C%20%5B-1.25701209034811%2C%2036.8021215732767%5D%2C%20%5B-1.25699151065671%2C%2036.9215485033167%5D%2C%20%5B-1.25671692541779%2C%2036.786580981680395%5D%2C%20%5B-1.25653051071511%2C%2036.878839003330796%5D%2C%20%5B-1.25647507449175%2C%2036.92589953430421%5D%2C%20%5B-1.25641987343312%2C%2036.8552761028285%5D%2C%20%5B-1.25640151074036%2C%2036.8552620033542%5D%2C%20%5B-1.25635181080296%2C%2036.8126937033529%5D%2C%20%5B-1.2562189748168%2C%2036.8552681770652%5D%2C%20%5B-1.2562189748168%2C%2036.8552681770653%5D%2C%20%5B-1.2561550107479098%2C%2036.8552190033394%5D%2C%20%5B-1.25601401074629%2C%2036.856932703339%5D%2C%20%5B-1.25597151095595%2C%2036.6974600033904%5D%2C%20%5B-1.25592723841292%2C%2036.6954911034031%5D%2C%20%5B-1.25590141063773%2C%2036.69550015789829%5D%2C%20%5B-1.25577406071181%2C%2036.8787641784253%5D%2C%20%5B-1.25570936070128%2C%2036.892940453326794%5D%2C%20%5B-1.25558158388327%2C%2036.797058418781795%5D%2C%20%5B-1.25533001096377%2C%2036.6937600033924%5D%2C%20%5B-1.25532180696427%2C%2036.6937627684281%5D%2C%20%5B-1.25515731092385%2C%2036.7248004033827%5D%2C%20%5B-1.25515073612386%2C%2036.8568012587314%5D%2C%20%5B-1.25450841093142%2C%2036.7212760033847%5D%2C%20%5B-1.25438981071082%2C%2036.889422903330605%5D%2C%20%5B-1.25342651072563%2C%2036.8815276033344%5D%2C%20%5B-1.25328681055968%2C%2037.007823203293206%5D%2C%20%5B-1.25288043468538%2C%2036.789876778733%5D%2C%20%5B-1.25254011070214%2C%2036.9023949033288%5D%2C%20%5B-1.25252504073915%2C%2036.859891044370606%5D%2C%20%5B-1.25234701074392%2C%2036.871365983339%5D%2C%20%5B-1.25221701076027%2C%2036.8593964033431%5D%2C%20%5B-1.2521874020910702%2C%2036.8593670969785%5D%2C%20%5B-1.25198220374036%2C%2036.85991878909911%5D%2C%20%5B-1.25196491074954%2C%2036.86842800334061%5D%2C%20%5B-1.25150701089874%2C%2036.7565407033773%5D%2C%20%5B-1.25143001085913%2C%2036.7869900033676%5D%2C%20%5B-1.25092509075781%2C%2036.86572735334271%5D%2C%20%5B-1.25074301072731%2C%2036.889536003335294%5D%2C%20%5B-1.25056792764553%2C%2036.939975834451104%5D%2C%20%5B-1.2505558107421102%2C%2036.878958103339%5D%2C%20%5B-1.2505310106633798%2C%2036.939957503319896%5D%2C%20%5B-1.2502500957141798%2C%2036.7849065805745%5D%2C%20%5B-1.25025001078649%2C%2036.8463300033499%5D%2C%20%5B-1.25023001086732%2C%2036.7849300033698%5D%2C%20%5B-1.2501970476712%2C%2036.820754426886296%5D%2C%20%5B-1.25019303082078%2C%2036.8207532433586%5D%2C%20%5B-1.25017025410471%2C%2036.846600504415996%5D%2C%20%5B-1.25016234795348%2C%2036.8205539116304%5D%2C%20%5B-1.25014875693816%2C%2036.8214609907696%5D%2C%20%5B-1.25002537148201%2C%2036.8211229213831%5D%2C%20%5B-1.25000001071691%2C%2036.9000000033328%5D%2C%20%5B-1.24977216819229%2C%2036.861765443892004%5D%2C%20%5B-1.24962001100201%2C%2036.6844400034028%5D%2C%20%5B-1.24960801099903%2C%2036.68450837006979%5D%2C%20%5B-1.2494604107743998%2C%2036.8582223033471%5D%2C%20%5B-1.2492471053948602%2C%2036.8472670016755%5D%2C%20%5B-1.2488810437271398%2C%2036.86346857602671%5D%2C%20%5B-1.24887441077013%2C%2036.86346190334621%5D%2C%20%5B-1.2488244107584%2C%2036.872568003343204%5D%2C%20%5B-1.24870454067983%2C%2036.816606957313%5D%2C%20%5B-1.2485875107603202%2C%2036.87190890334379%5D%2C%20%5B-1.24838371071774%2C%2036.904964403333295%5D%2C%20%5B-1.24837761100935%2C%2036.683180203404795%5D%2C%20%5B-1.24833328967848%2C%2036.817104075844604%5D%2C%20%5B-1.24819642490936%2C%2036.7971255586202%5D%2C%20%5B-1.24803941076317%2C%2036.8716349033446%5D%2C%20%5B-1.2479105535188202%2C%2036.816280554337396%5D%2C%20%5B-1.2476345107636102%2C%2036.8727256033448%5D%2C%20%5B-1.24718834951746%2C%2036.8157213068694%5D%2C%20%5B-1.24718001104322%2C%2036.66150640341321%5D%2C%20%5B-1.24716101076296%2C%2036.87485800334471%5D%2C%20%5B-1.2469642107425902%2C%2036.890954403339705%5D%2C%20%5B-1.2467624609714398%2C%2036.6806061033252%5D%2C%20%5B-1.24674349881948%2C%2036.6806386595564%5D%2C%20%5B-1.24658171072794%2C%2036.9034517033361%5D%2C%20%5B-1.24639036077008%2C%2036.87998775334521%5D%2C%20%5B-1.24603650729709%2C%2036.7726052181195%5D%2C%20%5B-1.2459993109037%2C%2036.7718759033795%5D%2C%20%5B-1.24598967788658%2C%2036.7726216675781%5D%2C%20%5B-1.2457925564158705%2C%2036.7720737191408%5D%2C%20%5B-1.24568710454935%2C%2036.679327669095294%5D%2C%20%5B-1.2453560107806598%2C%2036.8676520033494%5D%2C%20%5B-1.24528001091065%2C%2036.76913000338129%5D%2C%20%5B-1.2451990107279498%2C%2036.90820020333629%5D%2C%20%5B-1.24507772079355%2C%2036.85880711335261%5D%2C%20%5B-1.24502899174986%2C%2036.8672981479359%5D%2C%20%5B-1.24500491077975%2C%2036.869559303349206%5D%2C%20%5B-1.24486271606486%2C%2036.86671664792871%5D%2C%20%5B-1.24479261558771%2C%2036.8676989548545%5D%2C%20%5B-1.24478301088143%2C%2036.866854236923%5D%2C%20%5B-1.2447025773255%2C%2036.8675953907312%5D%2C%20%5B-1.2447015570066398%2C%2036.866803492332004%5D%2C%20%5B-1.24470155700656%2C%2036.866803492332004%5D%2C%20%5B-1.24437310539338%2C%2036.8664180816755%5D%2C%20%5B-1.24373501091965%2C%2036.76822500338579%5D%2C%20%5B-1.2432865760148502%2C%2036.7922546724935%5D%2C%20%5B-1.2431228813458%2C%2036.792168126400796%5D%2C%20%5B-1.24290017176723%2C%2036.677092940257204%5D%2C%20%5B-1.2428918107338502%2C%2036.91167270333821%5D%2C%20%5B-1.2428890110426598%2C%2036.6771060034116%5D%2C%20%5B-1.2426757782231102%2C%2036.665141818628896%5D%2C%20%5B-1.24266602294153%2C%2036.6651434289749%5D%2C%20%5B-1.2426167110596598%2C%2036.664788603418%5D%2C%20%5B-1.24253716752926%2C%2036.868406866304895%5D%2C%20%5B-1.24253540454181%2C%2036.8691259423182%5D%2C%20%5B-1.24244941079314%2C%2036.868220503353%5D%2C%20%5B-1.24241001077624%2C%2036.881180003348796%5D%2C%20%5B-1.2415450108695%2C%2036.8133200033719%5D%2C%20%5B-1.24149934498764%2C%2036.8134794592766%5D%2C%20%5B-1.2406419632968002%2C%2036.84418421428771%5D%2C%20%5B-1.2406350108325%2C%2036.8442450033629%5D%2C%20%5B-1.24026229545297%2C%2036.7900585016905%5D%2C%20%5B-1.24014101096496%2C%2036.745458003389295%5D%2C%20%5B-1.24006941096582%2C%2036.7452122033957%5D%2C%20%5B-1.23992601080251%2C%2036.8698221033557%5D%2C%20%5B-1.2396710109779698%2C%2036.739982503395%5D%2C%20%5B-1.23928341092198%2C%2036.781310803385104%5D%2C%20%5B-1.2391667907091%2C%2036.81160529815%5D%2C%20%5B-1.23870196132442%2C%2036.78670065332%5D%2C%20%5B-1.23867177306413%2C%2036.81053863039671%5D%2C%20%5B-1.23861732184995%2C%2036.810597335870106%5D%2C%20%5B-1.23860131088653%2C%2036.810609703376606%5D%2C%20%5B-1.2382480108411%2C%2036.8463153033655%5D%2C%20%5B-1.2381308334496202%2C%2036.8439713829472%5D%2C%20%5B-1.23812531084256%2C%2036.84402350336849%5D%2C%20%5B-1.23810591658228%2C%2036.8440894162027%5D%2C%20%5B-1.23781001089146%2C%2036.8096100033779%5D%2C%20%5B-1.2374144193034%2C%2036.8438361299349%5D%2C%20%5B-1.2372743322601498%2C%2036.8440024406774%5D%2C%20%5B-1.23703504477741%2C%2036.784911858472206%5D%2C%20%5B-1.23644511089721%2C%2036.8099638033796%5D%2C%20%5B-1.23642150740331%2C%2036.8719893716469%5D%2C%20%5B-1.2363428108982%2C%2036.8095575033798%5D%2C%20%5B-1.23609381079254%2C%2036.890589303354%5D%2C%20%5B-1.2358747108166%2C%2036.8731226033599%5D%2C%20%5B-1.23552138420306%2C%2036.8727336649102%5D%2C%20%5B-1.2353118752039098%2C%2036.71577507936539%5D%2C%20%5B-1.23501781108583%2C%2036.6713333034258%5D%2C%20%5B-1.23491351081993%2C%2036.873926903360896%5D%2C%20%5B-1.23482001098755%2C%2036.7473600034025%5D%2C%20%5B-1.23435420647805%2C%2036.9901249167878%5D%2C%20%5B-1.23432834606469%2C%2036.8030501935591%5D%2C%20%5B-1.2341187738706598%2C%2036.8734989333895%5D%2C%20%5B-1.2341180108242098%2C%2036.8734240033621%5D%2C%20%5B-1.23394196074986%2C%2036.9305048533437%5D%2C%20%5B-1.23389172453997%2C%2036.8724015538131%5D%2C%20%5B-1.23380161279392%2C%2036.8731698056836%5D%2C%20%5B-1.23380161279392%2C%2036.8731698056837%5D%2C%20%5B-1.23376101082718%2C%2036.8723997033629%5D%2C%20%5B-1.23374626121378%2C%2036.8731383538059%5D%2C%20%5B-1.23366781083308%2C%2036.8682720033643%5D%2C%20%5B-1.23350506412771%2C%2036.669215335433705%5D%2C%20%5B-1.23335861095698%2C%2036.7752180033948%5D%2C%20%5B-1.23331722054789%2C%2036.6692700217143%5D%2C%20%5B-1.2330190907933898%2C%2036.87399930726829%5D%2C%20%5B-1.23299303629837%2C%2036.873716162557294%5D%2C%20%5B-1.23296051082768%2C%2036.87482260336321%5D%2C%20%5B-1.2325985108307%2C%2036.873749503364%5D%2C%20%5B-1.23255361068654%2C%2036.927409202804704%5D%2C%20%5B-1.2324822107708702%2C%2036.919544903349205%5D%2C%20%5B-1.23219900814368%2C%2036.71229100116821%5D%2C%20%5B-1.23196741082657%2C%2036.879069403363%5D%2C%20%5B-1.2319320376282%2C%2036.6682338785344%5D%2C%20%5B-1.23181525157981%2C%2036.803126137856395%5D%2C%20%5B-1.23141491083248%2C%2036.8765263033645%5D%2C%20%5B-1.2313434342666298%2C%2036.668975426572%5D%2C%20%5B-1.2311885512248%2C%2036.6701635402351%5D%2C%20%5B-1.23106961083262%2C%2036.8776274033647%5D%2C%20%5B-1.23103154439899%2C%2036.8775973348898%5D%2C%20%5B-1.23101819198802%2C%2036.8783298513453%5D%2C%20%5B-1.23100521084921%2C%2036.8778795033504%5D%2C%20%5B-1.231003445352%2C%2036.8422541415786%5D%2C%20%5B-1.23099926512786%2C%2036.877874379425%5D%2C%20%5B-1.23099926512776%2C%2036.877874379425%5D%2C%20%5B-1.23053362887745%2C%2036.8039013648653%5D%2C%20%5B-1.23025547249755%2C%2036.8413309551353%5D%2C%20%5B-1.23010573691654%2C%2036.8784927766901%5D%2C%20%5B-1.23006214766962%2C%2036.8039481277335%5D%2C%20%5B-1.23006124460174%2C%2036.8039444372045%5D%2C%20%5B-1.23002052105243%2C%2036.6843102977858%5D%2C%20%5B-1.22888401078724%2C%2036.9195300033539%5D%2C%20%5B-1.22888321108489%2C%2036.6933650034268%5D%2C%20%5B-1.22784111081021%2C%2036.90572880335979%5D%2C%20%5B-1.22719651084036%2C%2036.885118803367206%5D%2C%20%5B-1.22714001084508%2C%2036.8817620033685%5D%2C%20%5B-1.2262090019463%2C%2036.9160473272924%5D%2C%20%5B-1.22599478564118%2C%2036.8840661235797%5D%2C%20%5B-1.22575611087278%2C%2036.8849726032901%5D%2C%20%5B-1.22572351346483%2C%2036.8849485172725%5D%2C%20%5B-1.2256985226448798%2C%2036.884987722754005%5D%2C%20%5B-1.22568351084755%2C%2036.884932203369296%5D%2C%20%5B-1.22552194590401%2C%2036.838804568529895%5D%2C%20%5B-1.22516343085179%2C%2036.8834791833704%5D%2C%20%5B-1.2250106092096398%2C%2036.885413223474295%5D%2C%20%5B-1.2249695113942%2C%2036.70547550336161%5D%2C%20%5B-1.22370301114769%2C%2036.663543003442896%5D%2C%20%5B-1.22355001114883%2C%2036.6632200034432%5D%2C%20%5B-1.22352157385322%2C%2036.6634203278085%5D%2C%20%5B-1.2233753109887%2C%2036.785733603404296%5D%2C%20%5B-1.22314538246675%2C%2036.8885757754391%5D%2C%20%5B-1.22306459545029%2C%2036.853753936691106%5D%2C%20%5B-1.2218412528804%2C%2036.8360389746615%5D%2C%20%5B-1.22170875822516%2C%2036.8360614208385%5D%2C%20%5B-1.22158561100505%2C%2036.7795001034086%5D%2C%20%5B-1.22143221093058%2C%2036.889830903371795%5D%2C%20%5B-1.2208650638049798%2C%2036.80140024592861%5D%2C%20%5B-1.2208650109786598%2C%2036.801400003402%5D%2C%20%5B-1.2205746110118%2C%2036.7779125034104%5D%2C%20%5B-1.22053811109827%2C%2036.7121994034315%5D%2C%20%5B-1.22040464086101%2C%2036.892909373373605%5D%2C%20%5B-1.22025231086372%2C%2036.8914269033742%5D%2C%20%5B-1.22008622309995%2C%2036.89128172814689%5D%2C%20%5B-1.21977101102884%2C%2036.7417880031979%5D%2C%20%5B-1.21963933543296%2C%2036.8918878416874%5D%2C%20%5B-1.21961951110669%2C%2036.7123775034969%5D%2C%20%5B-1.2196032891760602%2C%2036.8916372259335%5D%2C%20%5B-1.21948291086468%2C%2036.8933317033746%5D%2C%20%5B-1.21906719968389%2C%2036.8917852095321%5D%2C%20%5B-1.21872671086474%2C%2036.8959542033748%5D%2C%20%5B-1.21866001094425%2C%2036.8358600033943%5D%2C%20%5B-1.21863695424949%2C%2036.8913614321549%5D%2C%20%5B-1.21858086251358%2C%2036.801763659456896%5D%2C%20%5B-1.21847101087049%2C%2036.8924600033762%5D%2C%20%5B-1.21817223638018%2C%2036.9905570510053%5D%2C%20%5B-1.21797781086762%2C%2036.8962966033757%5D%2C%20%5B-1.217857810859%2C%2036.9032887033735%5D%2C%20%5B-1.2177439111909298%2C%2036.6513294034545%5D%2C%20%5B-1.21773581086208%2C%2036.9013860033743%5D%2C%20%5B-1.21772328421702%2C%2036.8780831667027%5D%2C%20%5B-1.21756991009011%2C%2036.8551574604583%5D%2C%20%5B-1.21739351102709%2C%2036.7782335034173%5D%2C%20%5B-1.2173156109287%2C%2036.852274003390704%5D%2C%20%5B-1.21731121530997%2C%2036.8944784616549%5D%2C%20%5B-1.21719899436922%2C%2036.8914407400061%5D%2C%20%5B-1.2167011111468602%2C%2036.8951638112694%5D%2C%20%5B-1.21667001124132%2C%2036.616670003466794%5D%2C%20%5B-1.2164315796431202%2C%2036.7995842173903%5D%2C%20%5B-1.2162924108815%2C%2036.8916422033793%5D%2C%20%5B-1.21625451088672%2C%2036.88781940338061%5D%2C%20%5B-1.21612551472085%2C%2036.89580416583279%5D%2C%20%5B-1.21596701083153%2C%2036.9306224033671%5D%2C%20%5B-1.21596575549908%2C%2036.90111030185079%5D%2C%20%5B-1.21567501887827%2C%2036.895391278720005%5D%2C%20%5B-1.21558567232042%2C%2036.8358225766116%5D%2C%20%5B-1.21555277443349%2C%2036.896486602408295%5D%2C%20%5B-1.21549909291289%2C%2036.8351503322735%5D%2C%20%5B-1.21544189158945%2C%2036.89663852001029%5D%2C%20%5B-1.2153537557988%2C%2036.8831433141126%5D%2C%20%5B-1.21523151087212%2C%2036.9024396033772%5D%2C%20%5B-1.21509475771926%2C%2036.8971483406543%5D%2C%20%5B-1.21506687264775%2C%2036.7963933446415%5D%2C%20%5B-1.21506015993483%2C%2036.796396999805005%5D%2C%20%5B-1.2150313666164698%2C%2036.862449373878896%5D%2C%20%5B-1.21405475326725%2C%2036.8346200733732%5D%2C%20%5B-1.21325806105343%2C%2036.660526103342%5D%2C%20%5B-1.2130357777969198%2C%2036.89295817780229%5D%2C%20%5B-1.21303244422777%2C%2036.892992836722%5D%2C%20%5B-1.21301396086964%2C%2036.9034477033663%5D%2C%20%5B-1.21300341088097%2C%2036.9034140033798%5D%2C%20%5B-1.21294007767413%2C%2036.8415457694014%5D%2C%20%5B-1.21284351089381%2C%2036.894209403383%5D%2C%20%5B-1.21277001070373%2C%2037.038300003336%5D%2C%20%5B-1.21265393182474%2C%2036.9032996088255%5D%2C%20%5B-1.21262031089657%2C%2036.8929370033837%5D%2C%20%5B-1.21255661089608%2C%2036.8934902033836%5D%2C%20%5B-1.2120875081863702%2C%2036.8335981795564%5D%2C%20%5B-1.21155659320878%2C%2036.8333820783251%5D%2C%20%5B-1.21150011088231%2C%2036.907635303380395%5D%2C%20%5B-1.2114924016293%2C%2036.9068230122655%5D%2C%20%5B-1.2113542109263702%2C%2036.8746987033912%5D%2C%20%5B-1.2112503785461002%2C%2036.90754548556021%5D%2C%20%5B-1.21120584993076%2C%2036.8746188770605%5D%2C%20%5B-1.21113707767506%2C%2036.795062636723706%5D%2C%20%5B-1.21091712629038%2C%2036.8749754584311%5D%2C%20%5B-1.21091676570709%2C%2036.90783609333021%5D%2C%20%5B-1.21085541090339%2C%2036.8938426033857%5D%2C%20%5B-1.210684710913%2C%2036.8871615033881%5D%2C%20%5B-1.2105657951967%2C%2036.908186329012295%5D%2C%20%5B-1.21035331104329%2C%2036.78942090342%5D%2C%20%5B-1.2099450110340602%2C%2036.8332290035676%5D%2C%20%5B-1.20994048109913%2C%2036.8331729465306%5D%2C%20%5B-1.2093400110492398%2C%2036.7884700034217%5D%2C%20%5B-1.20926001104584%2C%2036.7883350034138%5D%2C%20%5B-1.20868435549671%2C%2036.8330537117041%5D%2C%20%5B-1.2081708108724198%2C%2036.9266212033786%5D%2C%20%5B-1.2079504888559098%2C%2036.7962595350433%5D%2C%20%5B-1.20724991106245%2C%2036.7856362034253%5D%2C%20%5B-1.20722001106208%2C%2036.7860200034252%5D%2C%20%5B-1.20720241089227%2C%2036.9149258033836%5D%2C%20%5B-1.20717867773049%2C%2036.7858690034193%5D%2C%20%5B-1.2071715527561002%2C%2036.785825282456%5D%2C%20%5B-1.20692891089058%2C%2036.9171739033833%5D%2C%20%5B-1.2067878109736%2C%2036.8549914034029%5D%2C%20%5B-1.20678001106597%2C%2036.784640003426105%5D%2C%20%5B-1.20671596896814%2C%2036.9146676245746%5D%2C%20%5B-1.20666301092211%2C%2036.894169003391%5D%2C%20%5B-1.20652401088955%2C%2036.919322303383005%5D%2C%20%5B-1.2063505819498102%2C%2036.9141505355939%5D%2C%20%5B-1.20628521105671%2C%2036.7933447034241%5D%2C%20%5B-1.20580687331025%2C%2036.83197502253979%5D%2C%20%5B-1.20557871089476%2C%2036.9186585033845%5D%2C%20%5B-1.205572510452%2C%2036.9174398015152%5D%2C%20%5B-1.20551971107002%2C%2036.7859656034274%5D%2C%20%5B-1.20530245741521%2C%2036.7818147213191%5D%2C%20%5B-1.2047921184711898%2C%2036.9165389691296%5D%2C%20%5B-1.2047652295034%2C%2036.786685615945395%5D%2C%20%5B-1.20474623553635%2C%2036.7866229117141%5D%2C%20%5B-1.2046798610898%2C%2036.7737868734324%5D%2C%20%5B-1.20452372426565%2C%2036.7861684033725%5D%2C%20%5B-1.2044947742601002%2C%2036.7859024659706%5D%2C%20%5B-1.20446177322749%2C%2036.917347258370704%5D%2C%20%5B-1.20428584847628%2C%2036.7853762992035%5D%2C%20%5B-1.20409016545215%2C%2036.9164992716936%5D%2C%20%5B-1.20374433073791%2C%2036.917527483384%5D%2C%20%5B-1.2036702306366598%2C%2036.91602600895271%5D%2C%20%5B-1.20365963545347%2C%2036.9160312416939%5D%2C%20%5B-1.20361355039397%2C%2036.9173289010703%5D%2C%20%5B-1.2035702109076398%2C%2036.915826103388%5D%2C%20%5B-1.20352501107983%2C%2036.78539700343021%5D%2C%20%5B-1.20314381090805%2C%2036.91697270338821%5D%2C%20%5B-1.20311435001925%2C%2036.833475083882796%5D%2C%20%5B-1.20311117231963%2C%2036.8334605647675%5D%2C%20%5B-1.2025678948639%2C%2036.8336289560279%5D%2C%20%5B-1.2022673110227802%2C%2036.8330688034165%5D%2C%20%5B-1.20223411101595%2C%2036.838387003414795%5D%2C%20%5B-1.2022285079543402%2C%2036.655233505334%5D%2C%20%5B-1.20160175138436%2C%2036.9190524079466%5D%2C%20%5B-1.20157346792097%2C%2036.91902246313821%5D%2C%20%5B-1.20040364446063%2C%2036.7605982034435%5D%2C%20%5B-1.20040101138234%2C%2036.899671003477%5D%2C%20%5B-1.19944401094482%2C%2036.9020040033979%5D%2C%20%5B-1.19892401110205%2C%2036.784549003436396%5D%2C%20%5B-1.19834141095028%2C%2036.9016211033994%5D%2C%20%5B-1.19787721176208%2C%2036.9218794734799%5D%2C%20%5B-1.1976900111098%2C%2036.7829340034385%5D%2C%20%5B-1.19729111092265%2C%2036.92622560339289%5D%2C%20%5B-1.1970904109245%2C%2036.9254894033933%5D%2C%20%5B-1.19676337694864%2C%2036.900566960705%5D%2C%20%5B-1.19647301092878%2C%2036.9243620033945%5D%2C%20%5B-1.19634246748425%2C%2036.9242313738562%5D%2C%20%5B-1.19633081092931%2C%2036.92446310339471%5D%2C%20%5B-1.19609651092931%2C%2036.9252506033947%5D%2C%20%5B-1.1960298430744198%2C%2036.90172862712139%5D%2C%20%5B-1.1958157624653605%2C%2036.92475096021371%5D%2C%20%5B-1.1957860485270702%2C%2036.838267482788%5D%2C%20%5B-1.19565952303909%2C%2036.9249052565661%5D%2C%20%5B-1.19512806110054%2C%2036.7513232212308%5D%2C%20%5B-1.19362271093827%2C%2036.9270658033973%5D%2C%20%5B-1.19334757739983%2C%2036.8399788256558%5D%2C%20%5B-1.19281501115462%2C%2036.7474350033084%5D%2C%20%5B-1.19279947702144%2C%2036.747435568483%5D%2C%20%5B-1.19252778816598%2C%2036.9457551124993%5D%2C%20%5B-1.19137701096328%2C%2036.915889903403894%5D%2C%20%5B-1.19123938664827%2C%2036.9286421592316%5D%2C%20%5B-1.19121851094724%2C%2036.928620503400005%5D%2C%20%5B-1.18987571947112%2C%2036.8395692911125%5D%2C%20%5B-1.18965398077276%2C%2036.839572167558714%5D%2C%20%5B-1.18954905096632%2C%2036.9199361234049%5D%2C%20%5B-1.18885809712678%2C%2036.931389703495796%5D%2C%20%5B-1.18884981099406%2C%2036.931382436751214%5D%2C%20%5B-1.1888414109544598%2C%2036.9313708034022%5D%2C%20%5B-1.18883069473586%2C%2036.9314268094419%5D%2C%20%5B-1.18882953049057%2C%2036.9313815156246%5D%2C%20%5B-1.1880507743691%2C%2036.932168148759295%5D%2C%20%5B-1.18593571550023%2C%2036.906668761707%5D%2C%20%5B-1.18588101099124%2C%2036.9067420034213%5D%2C%20%5B-1.18562742550054%2C%2036.907127961707104%5D%2C%20%5B-1.18505961100922%2C%2036.903039603416296%5D%2C%20%5B-1.18503641097279%2C%2036.930656803407295%5D%2C%20%5B-1.18450791029034%2C%2037.4454188032368%5D%2C%20%5B-1.1838828937182702%2C%2036.838529281239204%5D%2C%20%5B-1.1837491108761398%2C%2037.0081209033838%5D%2C%20%5B-1.1835281110171398%2C%2036.9023117034185%5D%2C%20%5B-1.18314321098061%2C%2036.9312829034096%5D%2C%20%5B-1.18143901117524%2C%2036.9380360033818%5D%2C%20%5B-1.18139204689594%2C%2036.9379876750919%5D%2C%20%5B-1.18088640099931%2C%2036.927058883481%5D%2C%20%5B-1.17979242125814%2C%2036.93917675595221%5D%2C%20%5B-1.17976921098569%2C%2036.9391521034115%5D%2C%20%5B-1.17895001112374%2C%2036.837480003445286%5D%2C%20%5B-1.17755921101219%2C%2036.9267302034184%5D%2C%20%5B-1.17719801103666%2C%2036.89530980324479%5D%2C%20%5B-1.17699417092755%2C%2036.9409707277646%5D%2C%20%5B-1.17631779848118%2C%2036.9134630286647%5D%2C%20%5B-1.17628021100057%2C%2036.9399912034157%5D%2C%20%5B-1.17585973596095%2C%2036.83558631332129%5D%2C%20%5B-1.17513151124416%2C%2036.7594029034753%5D%2C%20%5B-1.17501610783818%2C%2036.8344552090939%5D%2C%20%5B-1.17243001143428%2C%2036.9464730032108%5D%2C%20%5B-1.17240957822524%2C%2036.9464606390425%5D%2C%20%5B-1.17120051098097%2C%2036.9725760033795%5D%2C%20%5B-1.17119030190043%2C%2036.972582438127105%5D%2C%20%5B-1.17105001117269%2C%2036.8278067034588%5D%2C%20%5B-1.1706894109834198%2C%2036.9722933034125%5D%2C%20%5B-1.1702846111595702%2C%2036.8404428034557%5D%2C%20%5B-1.16947586695668%2C%2036.7003023372162%5D%2C%20%5B-1.16878681118772%2C%2036.824270103462794%5D%2C%20%5B-1.16837402869467%2C%2036.96815697662971%5D%2C%20%5B-1.16805937440067%2C%2036.9674744887536%5D%2C%20%5B-1.1672840111931202%2C%2036.825383003464395%5D%2C%20%5B-1.16671771005512%2C%2036.9635037358433%5D%2C%20%5B-1.16522821102464%2C%2036.960007703423706%5D%2C%20%5B-1.1651428545243%2C%2036.9585674272331%5D%2C%20%5B-1.1647992971124%2C%2036.95717942981379%5D%2C%20%5B-1.16479210632851%2C%2036.9572803294478%5D%2C%20%5B-1.16449581551548%2C%2036.9578419517127%5D%2C%20%5B-1.16441886551609%2C%2036.9571663517128%5D%2C%20%5B-1.16398001141658%2C%2036.667240003519%5D%2C%20%5B-1.16377901104483%2C%2036.9572055034381%5D%2C%20%5B-1.16376422740352%2C%2036.9571733701596%5D%2C%20%5B-1.1637489128811298%2C%2036.9535797011466%5D%2C%20%5B-1.16315901100994%2C%2036.9782640034204%5D%2C%20%5B-1.16040821104925%2C%2036.9581034034306%5D%2C%20%5B-1.16029832676291%2C%2036.82079474079449%5D%2C%20%5B-1.15930411133702%2C%2036.7440693035007%5D%2C%20%5B-1.15623201205424%2C%2036.9280645017824%5D%2C%20%5B-1.15556905706479%2C%2036.9281192112518%5D%2C%20%5B-1.15520001111565%2C%2036.9261240034481%5D%2C%20%5B-1.15520001111564%2C%2036.9261240034481%5D%2C%20%5B-1.15491608555849%2C%2036.9259276717241%5D%2C%20%5B-1.1546187115221698%2C%2036.6387231369204%5D%2C%20%5B-1.1537678111254%2C%2036.9235589034504%5D%2C%20%5B-1.15286273489696%2C%2036.9083251218246%5D%2C%20%5B-1.1527935110826%2C%2036.959348503440005%5D%2C%20%5B-1.15275065869297%2C%2036.6716175985798%5D%2C%20%5B-1.1519627114905%2C%2036.653023203539%5D%2C%20%5B-1.15152741129212%2C%2036.805547903491394%5D%2C%20%5B-1.1510081627751598%2C%2036.8048367392616%5D%2C%20%5B-1.1510081627751598%2C%2036.8048367392617%5D%2C%20%5B-1.14926063278359%2C%2036.9620546012523%5D%2C%20%5B-1.14924411109529%2C%2036.9620097034438%5D%2C%20%5B-1.14923796102426%2C%2036.6670427033374%5D%2C%20%5B-1.1489052111008702%2C%2036.959006603445296%5D%2C%20%5B-1.1461877111033705%2C%2036.9664994034464%5D%2C%20%5B-1.14425091033892%2C%2037.5459373032556%5D%2C%20%5B-1.14417041111161%2C%2036.9673043034488%5D%2C%20%5B-1.14380291111301%2C%2036.9674760034492%5D%2C%20%5B-1.1433761420110602%2C%2036.9665465419285%5D%2C%20%5B-1.14139761152917%2C%2036.6606528035503%5D%2C%20%5B-1.1407152115664%2C%2036.634694603559296%5D%2C%20%5B-1.1367550592696298%2C%2036.9704573877565%5D%2C%20%5B-1.13633606114425%2C%2036.9697969034582%5D%2C%20%5B-1.13475512206467%2C%2036.9718038517831%5D%2C%20%5B-1.13463971131295%2C%2036.8482196034995%5D%2C%20%5B-1.13426711115191%2C%2036.971233403460396%5D%2C%20%5B-1.1338223983066005%2C%2036.9726924913392%5D%2C%20%5B-1.13325735661366%2C%2036.9745240374649%5D%2C%20%5B-1.13301024448576%2C%2036.9744849701545%5D%2C%20%5B-1.1329956559088898%2C%2036.9744776031982%5D%2C%20%5B-1.13287801115796%2C%2036.974461003489104%5D%2C%20%5B-1.13274251152056%2C%2036.69797800354971%5D%2C%20%5B-1.13253808673435%2C%2036.97636986946561%5D%2C%20%5B-1.13136671115066%2C%2036.982167803460605%5D%2C%20%5B-1.1312573980829%2C%2036.9809724274912%5D%2C%20%5B-1.1309625701160502%2C%2036.982057686457296%5D%2C%20%5B-1.13086121114189%2C%2036.9905376034586%5D%2C%20%5B-1.13057586896819%2C%2036.982187556301%5D%2C%20%5B-1.12990649978719%2C%2036.9846438119669%5D%2C%20%5B-1.12982691114945%2C%2036.9884654034606%5D%2C%20%5B-1.12530078989231%2C%2037.0032974712197%5D%2C%20%5B-1.12481190358583%2C%2037.0033736340818%5D%2C%20%5B-1.12433134115723%2C%2037.0036566886632%5D%2C%20%5B-1.12365572557973%2C%2037.0022339117321%5D%2C%20%5B-1.1214780116267%2C%2036.6562995035775%5D%2C%20%5B-1.11907251168763%2C%2036.6184080035925%5D%2C%20%5B-1.11830296945932%2C%2037.0097039117716%5D%2C%20%5B-1.11802464119581%2C%2037.0098691971455%5D%2C%20%5B-1.11780826117638%2C%2037.00895955346989%5D%2C%20%5B-1.11767001118329%2C%2037.0050430034712%5D%2C%20%5B-1.11720711118115%2C%2037.00827840347071%5D%2C%20%5B-1.11667001048199%2C%2037.5333300032964%5D%2C%20%5B-1.11567001143672%2C%2036.820700003533%5D%2C%20%5B-1.11070831170847%2C%2036.6319370035991%5D%2C%20%5B-1.1102282458481798%2C%2036.6428825517982%5D%2C%20%5B-1.10668881122037%2C%2037.0152276034822%5D%2C%20%5B-1.1065813556103%2C%2037.01540148174121%5D%2C%20%5B-1.10565231250855%2C%2037.016467984593504%5D%2C%20%5B-1.10518901122482%2C%2037.0170420034836%5D%2C%20%5B-1.10516084391688%2C%2037.017016090709795%5D%2C%20%5B-1.1042346112283798%2C%2037.01767620348461%5D%2C%20%5B-1.10401841165395%2C%2036.696863603587396%5D%2C%20%5B-1.10348851919111%2C%2037.0188009198147%5D%2C%20%5B-1.10036001133852%2C%2036.7965295033266%5D%2C%20%5B-1.09731894869407%2C%2037.0174120400948%5D%2C%20%5B-1.09655648437465%2C%2037.02743953818021%5D%2C%20%5B-1.09606881127075%2C%2037.0141346034964%5D%2C%20%5B-1.09510341125564%2C%2037.0288101034929%5D%2C%20%5B-1.09509086661469%2C%2037.0288004677909%5D%2C%20%5B-1.09214923624384%2C%2037.0329252226264%5D%2C%20%5B-1.08963591149956%2C%2036.864043003553206%5D%2C%20%5B-1.08133551184597%2C%2036.6307568036376%5D%2C%20%5B-1.07521301130937%2C%2037.0464275035354%5D%2C%20%5B-1.07264771256997%2C%2037.0477054625078%5D%2C%20%5B-1.0716495779348%2C%2037.0461241357681%5D%2C%20%5B-1.06828666707729%2C%2037.0505581035842%5D%2C%20%5B-1.06796201135107%2C%2037.0512400035212%5D%2C%20%5B-1.06796201135107%2C%2037.051240003521286%5D%2C%20%5B-1.06789928826961%2C%2037.0511355538907%5D%2C%20%5B-1.06781271135289%2C%2037.050385803521706%5D%2C%20%5B-1.06612091135446%2C%2037.0550897035224%5D%2C%20%5B-1.05946091131666%2C%2037.1065240035144%5D%2C%20%5B-1.05783938132557%2C%2037.1055240135169%5D%2C%20%5B-1.0576958114234%2C%2037.0325732035408%5D%2C%20%5B-1.05617465574907%2C%2037.0560489529916%5D%2C%20%5B-1.05565441132411%2C%2037.1141314035169%5D%2C%20%5B-1.05562491132459%2C%2037.113907903516996%5D%2C%20%5B-1.05555658218587%2C%2037.1116385869582%5D%2C%20%5B-1.05388111135787%2C%2037.0949829035255%5D%2C%20%5B-1.05349761197387%2C%2036.6317265036733%5D%2C%20%5B-1.05279057582279%2C%2037.08421095334671%5D%2C%20%5B-1.0525818113641%2C%2037.0948756035273%5D%2C%20%5B-1.0511690123780402%2C%2036.332201603768%5D%2C%20%5B-1.05108536137314%2C%2037.0951544035323%5D%2C%20%5B-1.05038001142369%2C%2037.057783003542205%5D%2C%20%5B-1.05035656063216%2C%2037.05772924377961%5D%2C%20%5B-1.04785921140355%2C%2037.0816630035378%5D%2C%20%5B-1.04541441142651%2C%2037.0729009035438%5D%2C%20%5B-1.04463871141051%2C%2037.08763430354%5D%2C%20%5B-1.04413151144291%2C%2037.065065503548105%5D%2C%20%5B-1.04376891143475%2C%2037.0724399035461%5D%2C%20%5B-1.04370401153741%2C%2037.0653529036424%5D%2C%20%5B-1.04264562145155%2C%2037.0637183335504%5D%2C%20%5B-1.0425581329036%2C%2037.0654663972896%5D%2C%20%5B-1.04253209138294%2C%2037.0803418815667%5D%2C%20%5B-1.04215872852666%2C%2037.100650722400395%5D%2C%20%5B-1.04125731144673%2C%2037.0721535535495%5D%2C%20%5B-1.04090431142572%2C%2037.0891641035444%5D%2C%20%5B-1.03934495166385%2C%2037.0721609650633%5D%2C%20%5B-1.0383013114541602%2C%2037.0768501035518%5D%2C%20%5B-1.03752301145937%2C%2037.0756970035532%5D%2C%20%5B-1.03716916573295%2C%2037.0719525117774%5D%2C%20%5B-1.03668234486029%2C%2037.02985723690279%5D%2C%20%5B-1.03667480146277%2C%2037.0760686135543%5D%2C%20%5B-1.03392471147666%2C%2037.0752096035581%5D%2C%20%5B-1.03333001197752%2C%2036.7000000036784%5D%2C%20%5B-1.03152281149121%2C%2037.07262100356221%5D%2C%20%5B-1.03134191526555%2C%2037.072170924035895%5D%2C%20%5B-1.0301840058241098%2C%2037.0708771296462%5D%2C%20%5B-1.02835471151697%2C%2037.064350203569%5D%2C%20%5B-1.0247115115295602%2C%2037.0675787035727%5D%2C%20%5B-1.02439791153176%2C%2037.0670170035734%5D%2C%20%5B-1.01687871156875%2C%2037.0654296035837%5D%2C%20%5B-1.01463017178664%2C%2036.909622873636714%5D%2C%20%5B-1.01144777153388%2C%2037.1104336035763%5D%2C%20%5B-1.00133376578562%2C%2036.7453264332578%5D%2C%20%5B-1.00000001186755%2C%2036.900000003658796%5D%2C%20%5B-1.00000001169002%2C%2037.03333000361629%5D%2C%20%5B-0.9932269122955708%2C%2036.6006954037612%5D%2C%20%5B-0.98719721211177%2C%2036.7609888037194%5D%2C%20%5B-0.9835404123566228%2C%2036.5887725037775%5D%2C%20%5B-0.983374612299807%2C%2036.6323335037644%5D%2C%20%5B-0.981898012368315%2C%2036.585709003780714%5D%2C%20%5B-0.954615505070722%2C%2037.1076655602104%5D%2C%20%5B-0.950058912497712%2C%2036.6006880038175%5D%2C%20%5B-0.9463831125230608%2C%2036.59454740382421%5D%2C%20%5B-0.945156912005083%2C%2036.9888747037026%5D%2C%20%5B-0.941273512513973%2C%2036.619534503823104%5D%2C%20%5B-0.934129811849666%2C%2037.143535903667605%5D%2C%20%5B-0.9303001121357758%2C%2036.942976703736704%5D%2C%20%5B-0.9301459117503028%2C%2037.231509303644295%5D%2C%20%5B-0.9188211126225307%2C%2036.617260003853104%5D%2C%20%5B-0.911370011039398%2C%2037.8212900034717%5D%2C%20%5B-0.908352411897088%2C%2037.198089703684%5D%2C%20%5B-0.9064015847691%2C%2037.7065400605133%5D%2C%20%5B-0.904263912190571%2C%2036.993434403755%5D%2C%20%5B-0.900589711949307%2C%2037.186296003698004%5D%2C%20%5B-0.9000000124464008%2C%2036.81667000381611%5D%2C%20%5B-0.8893143127985451%2C%2036.589271403900106%5D%2C%20%5B-0.884906012300967%2C%2036.9788486037851%5D%2C%20%5B-0.878661712878988%2C%2036.566548903920896%5D%2C%20%5B-0.850000012190963%2C%2037.1833300037661%5D%2C%20%5B-0.8297100124821221%2C%2037.0378200038393%5D%2C%20%5B-0.7833300126180859%2C%2037.1000000038811%5D%2C%20%5B-0.72249821283031%2C%2037.1570170039438%5D%2C%20%5B-0.716670013047383%2C%2037.0166700039956%5D%2C%20%5B-0.71667001291262%2C%2037.116670003964295%5D%2C%20%5B-0.685457013265962%2C%2036.965128204053%5D%2C%20%5B-0.683330013184328%2C%2037.0333300040347%5D%2C%20%5B-0.6762550130035511%2C%2037.1921754039943%5D%2C%20%5B-0.6726799135278019%2C%2036.81586680411571%5D%2C%20%5B-0.669513213016967%2C%2037.206113803998896%5D%2C%20%5B-0.662938762534417%2C%2037.208730003992294%5D%2C%20%5B-0.619598713285181%2C%2037.18488920407221%5D%2C%20%5B-0.616670013549419%2C%2037.0000000041337%5D%2C%20%5B-0.60288001367581%2C%2036.9555800041657%5D%2C%20%5B-0.565402313796744%2C%2037.0001786042019%5D%5D%2C%0A%20%20%20%20%20%20%20%20%20%20%20%20%20%20%20%20%7B%0A%20%20%20%20%20%20%20%20%20%20%20%20%20%20%20%20%20%20%20%20minOpacity%3A%200.5%2C%0A%20%20%20%20%20%20%20%20%20%20%20%20%20%20%20%20%20%20%20%20maxZoom%3A%2010%2C%0A%20%20%20%20%20%20%20%20%20%20%20%20%20%20%20%20%20%20%20%20max%3A%201.0%2C%0A%20%20%20%20%20%20%20%20%20%20%20%20%20%20%20%20%20%20%20%20radius%3A%207%2C%0A%20%20%20%20%20%20%20%20%20%20%20%20%20%20%20%20%20%20%20%20blur%3A%2015%2C%0A%20%20%20%20%20%20%20%20%20%20%20%20%20%20%20%20%20%20%20%20gradient%3A%20null%0A%20%20%20%20%20%20%20%20%20%20%20%20%20%20%20%20%20%20%20%20%7D%29%0A%20%20%20%20%20%20%20%20%20%20%20%20%20%20%20%20.addTo%28map_6221722ef5824c70a204d8010e45aa98%29%3B%0A%20%20%20%20%20%20%20%20%0A%3C/script%3E onload=\"this.contentDocument.open();this.contentDocument.write(    decodeURIComponent(this.getAttribute('data-html')));this.contentDocument.close();\" allowfullscreen webkitallowfullscreen mozallowfullscreen></iframe></div></div>"
            ],
            "text/plain": [
              "<folium.folium.Map at 0x7fd659045630>"
            ]
          },
          "metadata": {
            "tags": []
          },
          "execution_count": 10
        }
      ]
    },
    {
      "cell_type": "markdown",
      "metadata": {
        "id": "3aWkwZ4CGE-b"
      },
      "source": [
        "* The heat map above gives us a better view of where the accidents are highly concentrated, with the color variation. \n",
        "* At the heart of the city we can see the color intensity is  very high, then there's a radial transition im the color gradient as we move further away from the center.\n",
        "* Because of the noted observation, more ambulances will be centered at the brighly colored regions of the map \n",
        "* **NOTE** : When you zoom in further the roads are much more detailed, therefore you can see the exact locations where road carnage is high"
      ]
    },
    {
      "cell_type": "markdown",
      "metadata": {
        "id": "K_iyeTOalkP5"
      },
      "source": [
        "## Feature Engineering \n",
        "\n",
        "Because we want to see how the weather contributes to road accidents we will have to perform some feature engineering by join 2 data frames together and dropping some columns then proceed to perform an evaluation with the help of a correlation matrix.\n",
        "\n",
        "* **Positive Correlation**: both variables change in the same direction.\n",
        "* **Neutral Correlation**: No relationship in the change of the variables.\n",
        "* **Negative Correlation**: variables change in opposite directions."
      ]
    },
    {
      "cell_type": "code",
      "metadata": {
        "colab": {
          "base_uri": "https://localhost:8080/",
          "height": 359
        },
        "id": "yGOkMC_QaKyG",
        "outputId": "ab34851d-5ac3-4011-c438-aa84fdc3059b"
      },
      "source": [
        "# Because both the weather and the train datasets both have date in common, we will join the 2 using that column \n",
        "# However, in the train data set, the date is combined with the time, we therefore have to split them into 2 \n",
        "\n",
        "traindf.datetime = traindf.datetime.apply(pd.to_datetime)\n",
        "traindf['Date'] = [d.date() for d in traindf['datetime']]\n",
        "traindf['Time'] = [d.time() for d in traindf['datetime']]\n",
        "traindf.take(np.random.permutation(len(traindf))[:10])"
      ],
      "execution_count": null,
      "outputs": [
        {
          "output_type": "execute_result",
          "data": {
            "text/html": [
              "<div>\n",
              "<style scoped>\n",
              "    .dataframe tbody tr th:only-of-type {\n",
              "        vertical-align: middle;\n",
              "    }\n",
              "\n",
              "    .dataframe tbody tr th {\n",
              "        vertical-align: top;\n",
              "    }\n",
              "\n",
              "    .dataframe thead th {\n",
              "        text-align: right;\n",
              "    }\n",
              "</style>\n",
              "<table border=\"1\" class=\"dataframe\">\n",
              "  <thead>\n",
              "    <tr style=\"text-align: right;\">\n",
              "      <th></th>\n",
              "      <th>uid</th>\n",
              "      <th>datetime</th>\n",
              "      <th>latitude</th>\n",
              "      <th>longitude</th>\n",
              "      <th>Date</th>\n",
              "      <th>Time</th>\n",
              "    </tr>\n",
              "  </thead>\n",
              "  <tbody>\n",
              "    <tr>\n",
              "      <th>382</th>\n",
              "      <td>383</td>\n",
              "      <td>2018-01-26 13:07:00</td>\n",
              "      <td>-1.325003</td>\n",
              "      <td>36.847435</td>\n",
              "      <td>2018-01-26</td>\n",
              "      <td>13:07:00</td>\n",
              "    </tr>\n",
              "    <tr>\n",
              "      <th>3699</th>\n",
              "      <td>3700</td>\n",
              "      <td>2018-10-22 05:38:39</td>\n",
              "      <td>-1.321228</td>\n",
              "      <td>36.808475</td>\n",
              "      <td>2018-10-22</td>\n",
              "      <td>05:38:39</td>\n",
              "    </tr>\n",
              "    <tr>\n",
              "      <th>1480</th>\n",
              "      <td>1481</td>\n",
              "      <td>2018-04-25 06:01:58</td>\n",
              "      <td>-1.185936</td>\n",
              "      <td>36.906669</td>\n",
              "      <td>2018-04-25</td>\n",
              "      <td>06:01:58</td>\n",
              "    </tr>\n",
              "    <tr>\n",
              "      <th>1303</th>\n",
              "      <td>1304</td>\n",
              "      <td>2018-04-11 19:18:29</td>\n",
              "      <td>-1.264331</td>\n",
              "      <td>36.746984</td>\n",
              "      <td>2018-04-11</td>\n",
              "      <td>19:18:29</td>\n",
              "    </tr>\n",
              "    <tr>\n",
              "      <th>458</th>\n",
              "      <td>459</td>\n",
              "      <td>2018-02-03 02:57:02</td>\n",
              "      <td>-1.379342</td>\n",
              "      <td>36.927911</td>\n",
              "      <td>2018-02-03</td>\n",
              "      <td>02:57:02</td>\n",
              "    </tr>\n",
              "    <tr>\n",
              "      <th>5764</th>\n",
              "      <td>5765</td>\n",
              "      <td>2019-05-01 23:18:07</td>\n",
              "      <td>-1.215966</td>\n",
              "      <td>36.901110</td>\n",
              "      <td>2019-05-01</td>\n",
              "      <td>23:18:07</td>\n",
              "    </tr>\n",
              "    <tr>\n",
              "      <th>6308</th>\n",
              "      <td>6309</td>\n",
              "      <td>2019-06-29 12:15:44</td>\n",
              "      <td>-1.325402</td>\n",
              "      <td>36.848130</td>\n",
              "      <td>2019-06-29</td>\n",
              "      <td>12:15:44</td>\n",
              "    </tr>\n",
              "    <tr>\n",
              "      <th>807</th>\n",
              "      <td>808</td>\n",
              "      <td>2018-03-04 11:25:26</td>\n",
              "      <td>-2.394819</td>\n",
              "      <td>37.539339</td>\n",
              "      <td>2018-03-04</td>\n",
              "      <td>11:25:26</td>\n",
              "    </tr>\n",
              "    <tr>\n",
              "      <th>1452</th>\n",
              "      <td>1453</td>\n",
              "      <td>2018-04-23 17:46:28</td>\n",
              "      <td>-1.298358</td>\n",
              "      <td>36.886401</td>\n",
              "      <td>2018-04-23</td>\n",
              "      <td>17:46:28</td>\n",
              "    </tr>\n",
              "    <tr>\n",
              "      <th>2643</th>\n",
              "      <td>2644</td>\n",
              "      <td>2018-07-21 09:15:24</td>\n",
              "      <td>-1.195786</td>\n",
              "      <td>36.838267</td>\n",
              "      <td>2018-07-21</td>\n",
              "      <td>09:15:24</td>\n",
              "    </tr>\n",
              "  </tbody>\n",
              "</table>\n",
              "</div>"
            ],
            "text/plain": [
              "       uid            datetime  latitude  longitude        Date      Time\n",
              "382    383 2018-01-26 13:07:00 -1.325003  36.847435  2018-01-26  13:07:00\n",
              "3699  3700 2018-10-22 05:38:39 -1.321228  36.808475  2018-10-22  05:38:39\n",
              "1480  1481 2018-04-25 06:01:58 -1.185936  36.906669  2018-04-25  06:01:58\n",
              "1303  1304 2018-04-11 19:18:29 -1.264331  36.746984  2018-04-11  19:18:29\n",
              "458    459 2018-02-03 02:57:02 -1.379342  36.927911  2018-02-03  02:57:02\n",
              "5764  5765 2019-05-01 23:18:07 -1.215966  36.901110  2019-05-01  23:18:07\n",
              "6308  6309 2019-06-29 12:15:44 -1.325402  36.848130  2019-06-29  12:15:44\n",
              "807    808 2018-03-04 11:25:26 -2.394819  37.539339  2018-03-04  11:25:26\n",
              "1452  1453 2018-04-23 17:46:28 -1.298358  36.886401  2018-04-23  17:46:28\n",
              "2643  2644 2018-07-21 09:15:24 -1.195786  36.838267  2018-07-21  09:15:24"
            ]
          },
          "metadata": {
            "tags": []
          },
          "execution_count": 11
        }
      ]
    },
    {
      "cell_type": "code",
      "metadata": {
        "colab": {
          "base_uri": "https://localhost:8080/"
        },
        "id": "Z_eeDBz1rqfn",
        "outputId": "640223f0-b8a9-44ae-8496-a6fce4f08a94"
      },
      "source": [
        "# Proceed to drop columns that are irrelevant \n",
        "\n",
        "traindf.drop(['uid','datetime'],axis=1,inplace=True)\n",
        "print(traindf.shape)"
      ],
      "execution_count": null,
      "outputs": [
        {
          "output_type": "stream",
          "text": [
            "(6318, 4)\n"
          ],
          "name": "stdout"
        }
      ]
    },
    {
      "cell_type": "code",
      "metadata": {
        "colab": {
          "base_uri": "https://localhost:8080/",
          "height": 626
        },
        "id": "Cf7jv7a_sUxM",
        "outputId": "8b2be6e8-c1db-419e-fd69-4852c2b7b177"
      },
      "source": [
        "# Load the weather dataset\n",
        "\n",
        "weatherdf = pd.read_csv('/Weather_Nairobi_Daily_GFS.csv')\n",
        "print(weatherdf.shape)\n",
        "weatherdf\n"
      ],
      "execution_count": null,
      "outputs": [
        {
          "output_type": "stream",
          "text": [
            "(731, 7)\n"
          ],
          "name": "stdout"
        },
        {
          "output_type": "execute_result",
          "data": {
            "text/html": [
              "<div>\n",
              "<style scoped>\n",
              "    .dataframe tbody tr th:only-of-type {\n",
              "        vertical-align: middle;\n",
              "    }\n",
              "\n",
              "    .dataframe tbody tr th {\n",
              "        vertical-align: top;\n",
              "    }\n",
              "\n",
              "    .dataframe thead th {\n",
              "        text-align: right;\n",
              "    }\n",
              "</style>\n",
              "<table border=\"1\" class=\"dataframe\">\n",
              "  <thead>\n",
              "    <tr style=\"text-align: right;\">\n",
              "      <th></th>\n",
              "      <th>Date</th>\n",
              "      <th>precipitable_water_entire_atmosphere</th>\n",
              "      <th>relative_humidity_2m_above_ground</th>\n",
              "      <th>specific_humidity_2m_above_ground</th>\n",
              "      <th>temperature_2m_above_ground</th>\n",
              "      <th>u_component_of_wind_10m_above_ground</th>\n",
              "      <th>v_component_of_wind_10m_above_ground</th>\n",
              "    </tr>\n",
              "  </thead>\n",
              "  <tbody>\n",
              "    <tr>\n",
              "      <th>0</th>\n",
              "      <td>2018-01-01</td>\n",
              "      <td>24.100000</td>\n",
              "      <td>72.700005</td>\n",
              "      <td>0.009560</td>\n",
              "      <td>15.161493</td>\n",
              "      <td>-0.012186</td>\n",
              "      <td>-0.933914</td>\n",
              "    </tr>\n",
              "    <tr>\n",
              "      <th>1</th>\n",
              "      <td>2018-01-02</td>\n",
              "      <td>27.362288</td>\n",
              "      <td>74.900002</td>\n",
              "      <td>0.010463</td>\n",
              "      <td>16.047998</td>\n",
              "      <td>0.314543</td>\n",
              "      <td>-0.485459</td>\n",
              "    </tr>\n",
              "    <tr>\n",
              "      <th>2</th>\n",
              "      <td>2018-01-03</td>\n",
              "      <td>30.246618</td>\n",
              "      <td>86.599998</td>\n",
              "      <td>0.011930</td>\n",
              "      <td>15.838525</td>\n",
              "      <td>-0.282732</td>\n",
              "      <td>-0.653965</td>\n",
              "    </tr>\n",
              "    <tr>\n",
              "      <th>3</th>\n",
              "      <td>2018-01-04</td>\n",
              "      <td>33.010689</td>\n",
              "      <td>90.900002</td>\n",
              "      <td>0.012780</td>\n",
              "      <td>16.169244</td>\n",
              "      <td>0.211572</td>\n",
              "      <td>0.908123</td>\n",
              "    </tr>\n",
              "    <tr>\n",
              "      <th>4</th>\n",
              "      <td>2018-01-05</td>\n",
              "      <td>27.250372</td>\n",
              "      <td>82.413353</td>\n",
              "      <td>0.011392</td>\n",
              "      <td>15.923456</td>\n",
              "      <td>1.047275</td>\n",
              "      <td>-0.037742</td>\n",
              "    </tr>\n",
              "    <tr>\n",
              "      <th>...</th>\n",
              "      <td>...</td>\n",
              "      <td>...</td>\n",
              "      <td>...</td>\n",
              "      <td>...</td>\n",
              "      <td>...</td>\n",
              "      <td>...</td>\n",
              "      <td>...</td>\n",
              "    </tr>\n",
              "    <tr>\n",
              "      <th>726</th>\n",
              "      <td>2019-12-28</td>\n",
              "      <td>31.020416</td>\n",
              "      <td>87.099998</td>\n",
              "      <td>0.012772</td>\n",
              "      <td>16.854364</td>\n",
              "      <td>-0.930054</td>\n",
              "      <td>-1.511265</td>\n",
              "    </tr>\n",
              "    <tr>\n",
              "      <th>727</th>\n",
              "      <td>2019-12-29</td>\n",
              "      <td>28.900000</td>\n",
              "      <td>88.900002</td>\n",
              "      <td>0.012430</td>\n",
              "      <td>16.086237</td>\n",
              "      <td>-0.884575</td>\n",
              "      <td>-0.639897</td>\n",
              "    </tr>\n",
              "    <tr>\n",
              "      <th>728</th>\n",
              "      <td>2019-12-30</td>\n",
              "      <td>21.600000</td>\n",
              "      <td>89.300003</td>\n",
              "      <td>0.012130</td>\n",
              "      <td>15.670770</td>\n",
              "      <td>-2.423813</td>\n",
              "      <td>-1.155928</td>\n",
              "    </tr>\n",
              "    <tr>\n",
              "      <th>729</th>\n",
              "      <td>2019-12-31</td>\n",
              "      <td>16.500000</td>\n",
              "      <td>85.000000</td>\n",
              "      <td>0.010974</td>\n",
              "      <td>14.947778</td>\n",
              "      <td>-1.415813</td>\n",
              "      <td>-2.028264</td>\n",
              "    </tr>\n",
              "    <tr>\n",
              "      <th>730</th>\n",
              "      <td>2020-01-01</td>\n",
              "      <td>15.900001</td>\n",
              "      <td>84.500000</td>\n",
              "      <td>0.010860</td>\n",
              "      <td>14.866235</td>\n",
              "      <td>-1.509448</td>\n",
              "      <td>-2.272683</td>\n",
              "    </tr>\n",
              "  </tbody>\n",
              "</table>\n",
              "<p>731 rows × 7 columns</p>\n",
              "</div>"
            ],
            "text/plain": [
              "           Date  ...  v_component_of_wind_10m_above_ground\n",
              "0    2018-01-01  ...                             -0.933914\n",
              "1    2018-01-02  ...                             -0.485459\n",
              "2    2018-01-03  ...                             -0.653965\n",
              "3    2018-01-04  ...                              0.908123\n",
              "4    2018-01-05  ...                             -0.037742\n",
              "..          ...  ...                                   ...\n",
              "726  2019-12-28  ...                             -1.511265\n",
              "727  2019-12-29  ...                             -0.639897\n",
              "728  2019-12-30  ...                             -1.155928\n",
              "729  2019-12-31  ...                             -2.028264\n",
              "730  2020-01-01  ...                             -2.272683\n",
              "\n",
              "[731 rows x 7 columns]"
            ]
          },
          "metadata": {
            "tags": []
          },
          "execution_count": 13
        }
      ]
    },
    {
      "cell_type": "markdown",
      "metadata": {
        "id": "wEgcEMd0ugIw"
      },
      "source": [
        "* As observed above the Weather dataset has 7 columns containing 731 entries, which is more than the train dataset which has 4 columns containing 6318 entries "
      ]
    },
    {
      "cell_type": "code",
      "metadata": {
        "colab": {
          "base_uri": "https://localhost:8080/"
        },
        "id": "vijxS_Zqs-O0",
        "outputId": "b9c3ad2f-9bed-43ee-bbc7-5487c7caf25e"
      },
      "source": [
        "# Checking the weather dataset for duplicated values\n",
        "\n",
        "weatherdf.duplicated().sum()"
      ],
      "execution_count": null,
      "outputs": [
        {
          "output_type": "execute_result",
          "data": {
            "text/plain": [
              "0"
            ]
          },
          "metadata": {
            "tags": []
          },
          "execution_count": 14
        }
      ]
    },
    {
      "cell_type": "code",
      "metadata": {
        "colab": {
          "base_uri": "https://localhost:8080/"
        },
        "id": "MhnE_o38tC8E",
        "outputId": "8dbd6fee-5452-4e5f-ee1e-617c8249ae3f"
      },
      "source": [
        "# checking for null values\n",
        "\n",
        "weatherdf.isnull().sum()"
      ],
      "execution_count": null,
      "outputs": [
        {
          "output_type": "execute_result",
          "data": {
            "text/plain": [
              "Date                                    0\n",
              "precipitable_water_entire_atmosphere    3\n",
              "relative_humidity_2m_above_ground       3\n",
              "specific_humidity_2m_above_ground       3\n",
              "temperature_2m_above_ground             3\n",
              "u_component_of_wind_10m_above_ground    3\n",
              "v_component_of_wind_10m_above_ground    3\n",
              "dtype: int64"
            ]
          },
          "metadata": {
            "tags": []
          },
          "execution_count": 15
        }
      ]
    },
    {
      "cell_type": "markdown",
      "metadata": {
        "id": "ydoCmjU1v7SY"
      },
      "source": [
        "* As seen above, every column has 3 null values except the date column."
      ]
    },
    {
      "cell_type": "code",
      "metadata": {
        "colab": {
          "base_uri": "https://localhost:8080/"
        },
        "id": "glyqSEuptIN5",
        "outputId": "3f01b8dc-b15e-4d3a-ec76-12ff51384d59"
      },
      "source": [
        "# Drop the null values\n",
        "\n",
        "weatherdf.dropna(inplace=True)\n",
        "weatherdf.isnull().any()"
      ],
      "execution_count": null,
      "outputs": [
        {
          "output_type": "execute_result",
          "data": {
            "text/plain": [
              "Date                                    False\n",
              "precipitable_water_entire_atmosphere    False\n",
              "relative_humidity_2m_above_ground       False\n",
              "specific_humidity_2m_above_ground       False\n",
              "temperature_2m_above_ground             False\n",
              "u_component_of_wind_10m_above_ground    False\n",
              "v_component_of_wind_10m_above_ground    False\n",
              "dtype: bool"
            ]
          },
          "metadata": {
            "tags": []
          },
          "execution_count": 16
        }
      ]
    },
    {
      "cell_type": "code",
      "metadata": {
        "colab": {
          "base_uri": "https://localhost:8080/"
        },
        "id": "MP9ihYz1uTWp",
        "outputId": "c0f97dd9-7095-4576-b33a-8d6ecd87a2a3"
      },
      "source": [
        "print(weatherdf.shape)"
      ],
      "execution_count": null,
      "outputs": [
        {
          "output_type": "stream",
          "text": [
            "(728, 7)\n"
          ],
          "name": "stdout"
        }
      ]
    },
    {
      "cell_type": "markdown",
      "metadata": {
        "id": "p2T17fE8wR9F"
      },
      "source": [
        "* The weather dataset is now left with 728 entries"
      ]
    },
    {
      "cell_type": "code",
      "metadata": {
        "colab": {
          "base_uri": "https://localhost:8080/",
          "height": 317
        },
        "id": "WmcBXNZ2wcwK",
        "outputId": "8889329e-b661-4781-be39-8501b2a9634b"
      },
      "source": [
        "# Join the two dataframes\n",
        "\n",
        "df = pd.concat([traindf, weatherdf], axis=1).corr()\n",
        "\n",
        "# Evaluate the correlation of the variables \n",
        "\n",
        "corrMatrix = df.corr()\n",
        "corrMatrix"
      ],
      "execution_count": null,
      "outputs": [
        {
          "output_type": "execute_result",
          "data": {
            "text/html": [
              "<div>\n",
              "<style scoped>\n",
              "    .dataframe tbody tr th:only-of-type {\n",
              "        vertical-align: middle;\n",
              "    }\n",
              "\n",
              "    .dataframe tbody tr th {\n",
              "        vertical-align: top;\n",
              "    }\n",
              "\n",
              "    .dataframe thead th {\n",
              "        text-align: right;\n",
              "    }\n",
              "</style>\n",
              "<table border=\"1\" class=\"dataframe\">\n",
              "  <thead>\n",
              "    <tr style=\"text-align: right;\">\n",
              "      <th></th>\n",
              "      <th>latitude</th>\n",
              "      <th>longitude</th>\n",
              "      <th>precipitable_water_entire_atmosphere</th>\n",
              "      <th>relative_humidity_2m_above_ground</th>\n",
              "      <th>specific_humidity_2m_above_ground</th>\n",
              "      <th>temperature_2m_above_ground</th>\n",
              "      <th>u_component_of_wind_10m_above_ground</th>\n",
              "      <th>v_component_of_wind_10m_above_ground</th>\n",
              "    </tr>\n",
              "  </thead>\n",
              "  <tbody>\n",
              "    <tr>\n",
              "      <th>latitude</th>\n",
              "      <td>1.000000</td>\n",
              "      <td>-0.497712</td>\n",
              "      <td>-0.287146</td>\n",
              "      <td>-0.205018</td>\n",
              "      <td>-0.234000</td>\n",
              "      <td>-0.059604</td>\n",
              "      <td>0.005970</td>\n",
              "      <td>-0.142551</td>\n",
              "    </tr>\n",
              "    <tr>\n",
              "      <th>longitude</th>\n",
              "      <td>-0.497712</td>\n",
              "      <td>1.000000</td>\n",
              "      <td>-0.374080</td>\n",
              "      <td>-0.302573</td>\n",
              "      <td>-0.402842</td>\n",
              "      <td>-0.213684</td>\n",
              "      <td>-0.042519</td>\n",
              "      <td>-0.149945</td>\n",
              "    </tr>\n",
              "    <tr>\n",
              "      <th>precipitable_water_entire_atmosphere</th>\n",
              "      <td>-0.287146</td>\n",
              "      <td>-0.374080</td>\n",
              "      <td>1.000000</td>\n",
              "      <td>0.637903</td>\n",
              "      <td>0.775517</td>\n",
              "      <td>0.290771</td>\n",
              "      <td>-0.126051</td>\n",
              "      <td>0.145257</td>\n",
              "    </tr>\n",
              "    <tr>\n",
              "      <th>relative_humidity_2m_above_ground</th>\n",
              "      <td>-0.205018</td>\n",
              "      <td>-0.302573</td>\n",
              "      <td>0.637903</td>\n",
              "      <td>1.000000</td>\n",
              "      <td>0.818979</td>\n",
              "      <td>-0.218131</td>\n",
              "      <td>-0.206526</td>\n",
              "      <td>0.323290</td>\n",
              "    </tr>\n",
              "    <tr>\n",
              "      <th>specific_humidity_2m_above_ground</th>\n",
              "      <td>-0.234000</td>\n",
              "      <td>-0.402842</td>\n",
              "      <td>0.775517</td>\n",
              "      <td>0.818979</td>\n",
              "      <td>1.000000</td>\n",
              "      <td>0.381258</td>\n",
              "      <td>-0.555867</td>\n",
              "      <td>-0.124810</td>\n",
              "    </tr>\n",
              "    <tr>\n",
              "      <th>temperature_2m_above_ground</th>\n",
              "      <td>-0.059604</td>\n",
              "      <td>-0.213684</td>\n",
              "      <td>0.290771</td>\n",
              "      <td>-0.218131</td>\n",
              "      <td>0.381258</td>\n",
              "      <td>1.000000</td>\n",
              "      <td>-0.606627</td>\n",
              "      <td>-0.727666</td>\n",
              "    </tr>\n",
              "    <tr>\n",
              "      <th>u_component_of_wind_10m_above_ground</th>\n",
              "      <td>0.005970</td>\n",
              "      <td>-0.042519</td>\n",
              "      <td>-0.126051</td>\n",
              "      <td>-0.206526</td>\n",
              "      <td>-0.555867</td>\n",
              "      <td>-0.606627</td>\n",
              "      <td>1.000000</td>\n",
              "      <td>0.670612</td>\n",
              "    </tr>\n",
              "    <tr>\n",
              "      <th>v_component_of_wind_10m_above_ground</th>\n",
              "      <td>-0.142551</td>\n",
              "      <td>-0.149945</td>\n",
              "      <td>0.145257</td>\n",
              "      <td>0.323290</td>\n",
              "      <td>-0.124810</td>\n",
              "      <td>-0.727666</td>\n",
              "      <td>0.670612</td>\n",
              "      <td>1.000000</td>\n",
              "    </tr>\n",
              "  </tbody>\n",
              "</table>\n",
              "</div>"
            ],
            "text/plain": [
              "                                      latitude  ...  v_component_of_wind_10m_above_ground\n",
              "latitude                              1.000000  ...                             -0.142551\n",
              "longitude                            -0.497712  ...                             -0.149945\n",
              "precipitable_water_entire_atmosphere -0.287146  ...                              0.145257\n",
              "relative_humidity_2m_above_ground    -0.205018  ...                              0.323290\n",
              "specific_humidity_2m_above_ground    -0.234000  ...                             -0.124810\n",
              "temperature_2m_above_ground          -0.059604  ...                             -0.727666\n",
              "u_component_of_wind_10m_above_ground  0.005970  ...                              0.670612\n",
              "v_component_of_wind_10m_above_ground -0.142551  ...                              1.000000\n",
              "\n",
              "[8 rows x 8 columns]"
            ]
          },
          "metadata": {
            "tags": []
          },
          "execution_count": 18
        }
      ]
    },
    {
      "cell_type": "code",
      "metadata": {
        "colab": {
          "base_uri": "https://localhost:8080/",
          "height": 812
        },
        "id": "5KFAorH9xQOM",
        "outputId": "19a0508c-3d43-40bc-f9c6-3ce4e3843cd6"
      },
      "source": [
        "# Create a visual display of the correlation matrix obtained above\n",
        "plt.figure(figsize = (15, 10))\n",
        "sns.heatmap(corrMatrix, annot=True)\n",
        "plt.title('Heatmap showing correlation between variables')\n",
        "plt.show()"
      ],
      "execution_count": null,
      "outputs": [
        {
          "output_type": "display_data",
          "data": {
            "image/png": "[encoded data removed]",
            "text/plain": [
              "<Figure size 1080x720 with 2 Axes>"
            ]
          },
          "metadata": {
            "tags": [],
            "needs_background": "light"
          }
        }
      ]
    },
    {
      "cell_type": "markdown",
      "metadata": {
        "id": "FcYvacay8kqa"
      },
      "source": [
        "## Conclusion \n",
        "\n",
        "This isn't a conclusion per se, but rather a way forward. \n",
        "\n",
        "* With the given information, a prediction model can be created to help predict road accidents given the season of the year i.e. rainy or sunny, time of day i.e. off peak and peak hours as well as locations. Thus being able to deploy ambulances at the predicted crash points. This in turn will shorten the time it will take to attend to post crash emergencies "
      ]
    }
  ]
}